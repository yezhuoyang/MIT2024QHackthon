{
 "cells": [
  {
   "cell_type": "code",
   "execution_count": 43,
   "metadata": {},
   "outputs": [],
   "source": [
    "import perceval as pcvl\n",
    "import perceval.components.unitary_components as comp\n",
    "import math\n",
    "from perceval.components.unitary_components import PS, BS, PERM\n",
    "from perceval import Processor, PostSelect, Port, Circuit"
   ]
  },
  {
   "cell_type": "code",
   "execution_count": 44,
   "metadata": {},
   "outputs": [
    {
     "name": "stdout",
     "output_type": "stream",
     "text": [
      "Number of photons: 1\n",
      "Number of modes: 2\n",
      "Photons in mode 0: 0\n",
      "Photons in mode 1: 1\n"
     ]
    }
   ],
   "source": [
    "bs = pcvl.BasicState(\"|0,1>\")\n",
    "print(f\"Number of photons: {bs.n}\")\n",
    "print(f\"Number of modes: {bs.m}\")\n",
    "print(f\"Photons in mode 0: {bs[0]}\")\n",
    "print(f\"Photons in mode 1: {bs[1]}\")"
   ]
  },
  {
   "cell_type": "code",
   "execution_count": 45,
   "metadata": {},
   "outputs": [
    {
     "name": "stdout",
     "output_type": "stream",
     "text": [
      "|0,1,2,3>\n"
     ]
    }
   ],
   "source": [
    "state = pcvl.BasicState([0, 1]) * pcvl.BasicState([2, 3])\n",
    "print(state)"
   ]
  },
  {
   "cell_type": "code",
   "execution_count": 46,
   "metadata": {},
   "outputs": [
    {
     "name": "stdout",
     "output_type": "stream",
     "text": [
      "sqrt(2)/2*|1,0>+sqrt(2)/2*|0,1>\n",
      "First state: |0,1>\n",
      "Second state: |1,0>\n"
     ]
    }
   ],
   "source": [
    "st1 = pcvl.StateVector(\"|1,0>\")\n",
    "st2 = pcvl.StateVector(\"|0,1>\")\n",
    "st3 = st1 + st2\n",
    "print(st3)\n",
    "print(f\"First state: {st3[0]}\")\n",
    "print(f\"Second state: {st3[1]}\")"
   ]
  },
  {
   "cell_type": "code",
   "execution_count": 47,
   "metadata": {},
   "outputs": [],
   "source": [
    "# sv = pcvl.StateVector(\"|0,1,1>\") + pcvl.StateVector(\"|1,1,0>\")\n",
    "# map_measure_sv = sv.measure()\n",
    "# for s, (p, sv) in map_measure_sv.items():\n",
    "# print(s, p, sv)"
   ]
  },
  {
   "cell_type": "code",
   "execution_count": 48,
   "metadata": {},
   "outputs": [],
   "source": [
    "alpha = pcvl.P(\"alpha\")\n",
    "alpha2 = pcvl.P(\"phi\", min_v=0, max_v=2 * math.pi, periodic=True)"
   ]
  },
  {
   "cell_type": "code",
   "execution_count": 49,
   "metadata": {},
   "outputs": [],
   "source": [
    "c1 = pcvl.BS(theta=alpha)"
   ]
  },
  {
   "cell_type": "code",
   "execution_count": 50,
   "metadata": {},
   "outputs": [],
   "source": [
    "c2 = pcvl.BS(theta=alpha) // pcvl.PS(pcvl.P(\"phi\")) // pcvl.BS(theta=alpha)"
   ]
  },
  {
   "cell_type": "code",
   "execution_count": 51,
   "metadata": {},
   "outputs": [
    {
     "data": {
      "text/plain": [
       "True"
      ]
     },
     "execution_count": 51,
     "metadata": {},
     "output_type": "execute_result"
    }
   ],
   "source": [
    "alpha.set_value(math.pi / 2)\n",
    "alpha.defined"
   ]
  },
  {
   "cell_type": "code",
   "execution_count": 52,
   "metadata": {},
   "outputs": [
    {
     "data": {
      "text/latex": [
       "$\\displaystyle \\left[\\begin{matrix}\\frac{\\sqrt{2}}{2} & \\frac{\\sqrt{2} i}{2}\\\\\\frac{\\sqrt{2} i}{2} & \\frac{\\sqrt{2}}{2}\\end{matrix}\\right]$"
      ],
      "text/plain": [
       "<IPython.core.display.Math object>"
      ]
     },
     "metadata": {},
     "output_type": "display_data"
    }
   ],
   "source": [
    "pcvl.pdisplay(c1.compute_unitary(use_symbolic=False))"
   ]
  },
  {
   "cell_type": "code",
   "execution_count": 53,
   "metadata": {},
   "outputs": [],
   "source": [
    "phi1 = pcvl.P(\"phi1\")\n",
    "phi2 = pcvl.P(\"phi2\")\n",
    "phi1.set_value(0)\n",
    "phi2.set_value(0)"
   ]
  },
  {
   "cell_type": "code",
   "execution_count": 54,
   "metadata": {},
   "outputs": [],
   "source": [
    "mzi = (\n",
    "    pcvl.Circuit(m=2, name=\"mzi\")\n",
    "    .add((0, 1), comp.BS(math.pi))\n",
    "    .add(0, comp.PS(-math.pi / 2))\n",
    "    .add(1, comp.PS(-math.pi / 2))\n",
    ")"
   ]
  },
  {
   "cell_type": "code",
   "execution_count": 55,
   "metadata": {},
   "outputs": [
    {
     "data": {
      "image/svg+xml": [
       "<?xml version=\"1.0\" encoding=\"UTF-8\"?>\n",
       "<svg xmlns=\"http://www.w3.org/2000/svg\" xmlns:xlink=\"http://www.w3.org/1999/xlink\"\n",
       "     width=\"320.0\" height=\"156.25\" viewBox=\"-28.0 0 256.0 125.0\">\n",
       "<defs>\n",
       "</defs>\n",
       "<path d=\"M10,25 L25,25\" stroke-width=\"3\" stroke=\"darkred\" stroke-linejoin=\"miter\" fill=\"none\" />\n",
       "<path d=\"M10,75 L25,75\" stroke-width=\"3\" stroke=\"darkred\" stroke-linejoin=\"miter\" fill=\"none\" />\n",
       "<path d=\"M25,25 L53,25 L72,44\" stroke=\"darkred\" stroke-width=\"3\" fill=\"none\" />\n",
       "<path d=\"M78,44 L97,25 L125,25\" stroke=\"darkred\" stroke-width=\"3\" fill=\"none\" />\n",
       "<path d=\"M25,75 L53,75 L72,56\" stroke=\"darkred\" stroke-width=\"3\" fill=\"none\" />\n",
       "<path d=\"M78,56 L97,75 L125,75\" stroke=\"darkred\" stroke-width=\"3\" fill=\"none\" />\n",
       "<path d=\"M50,43 L100,43 L100,57 L50,57 Z\" stroke=\"black\" fill=\"black\" stroke-linejoin=\"miter\" />\n",
       "<text x=\"75\" y=\"80\" font-size=\"7\" text-anchor=\"middle\"></text>\n",
       "<text x=\"75\" y=\"26\" font-size=\"7\" text-anchor=\"middle\">Θ=pi</text>\n",
       "<path d=\"M50,43 L100,43 L100,47 L50,47 Z\" stroke=\"black\" fill=\"lightgray\" stroke-linejoin=\"miter\" />\n",
       "<path d=\"M93,50 L103,50 L103,60 L93,60 Z\" stroke=\"black\" fill=\"thistle\" stroke-linejoin=\"miter\" />\n",
       "<text x=\"98\" y=\"57\" font-size=\"6\" text-anchor=\"middle\">Rx</text>\n",
       "<path d=\"M125,25 L175,25\" stroke=\"darkred\" stroke-width=\"3\" fill=\"none\" />\n",
       "<path d=\"M130,40 L139,40 L153,10 L144,10 L130,40 L139,40 Z\" stroke=\"black\" fill=\"gray\" stroke-linejoin=\"miter\" />\n",
       "<text x=\"147\" y=\"38\" font-size=\"7\" text-anchor=\"start\">Φ=3*pi/2</text>\n",
       "<path d=\"M125,75 L175,75\" stroke=\"darkred\" stroke-width=\"3\" fill=\"none\" />\n",
       "<path d=\"M130,90 L139,90 L153,60 L144,60 L130,90 L139,90 Z\" stroke=\"black\" fill=\"gray\" stroke-linejoin=\"miter\" />\n",
       "<text x=\"147\" y=\"88\" font-size=\"7\" text-anchor=\"start\">Φ=3*pi/2</text>\n",
       "<path d=\"M175,25 L190,25\" stroke-width=\"3\" stroke=\"darkred\" stroke-linejoin=\"miter\" fill=\"none\" />\n",
       "<path d=\"M175,75 L190,75\" stroke-width=\"3\" stroke=\"darkred\" stroke-linejoin=\"miter\" fill=\"none\" />\n",
       "<text x=\"200\" y=\"28\" font-size=\"6\" text-anchor=\"end\">0</text>\n",
       "<text x=\"200\" y=\"78\" font-size=\"6\" text-anchor=\"end\">1</text>\n",
       "<text x=\"0\" y=\"28\" font-size=\"6\" text-anchor=\"start\">0</text>\n",
       "<text x=\"0\" y=\"78\" font-size=\"6\" text-anchor=\"start\">1</text>\n",
       "</svg>"
      ],
      "text/plain": [
       "<drawsvg.drawing.Drawing at 0x147bc8280>"
      ]
     },
     "execution_count": 55,
     "metadata": {},
     "output_type": "execute_result"
    }
   ],
   "source": [
    "pcvl.pdisplay(mzi)"
   ]
  },
  {
   "cell_type": "code",
   "execution_count": 56,
   "metadata": {},
   "outputs": [
    {
     "data": {
      "text/latex": [
       "$\\displaystyle \\left[\\begin{matrix}0 & 1\\\\1 & 0\\end{matrix}\\right]$"
      ],
      "text/plain": [
       "<IPython.core.display.Math object>"
      ]
     },
     "metadata": {},
     "output_type": "display_data"
    }
   ],
   "source": [
    "pcvl.pdisplay(mzi.compute_unitary(use_symbolic=False))"
   ]
  },
  {
   "cell_type": "code",
   "execution_count": 57,
   "metadata": {},
   "outputs": [],
   "source": [
    "from perceval.utils import Encoding"
   ]
  },
  {
   "cell_type": "code",
   "execution_count": 58,
   "metadata": {},
   "outputs": [],
   "source": [
    "phi1 = pcvl.P(\"phi1\")\n",
    "theta = pcvl.P(\"theta\")\n",
    "theta2 = pcvl.P(\"theta2\")\n",
    "theta3 = pcvl.P(\"theta3\")"
   ]
  },
  {
   "cell_type": "code",
   "execution_count": 59,
   "metadata": {},
   "outputs": [],
   "source": [
    "phi1.set_value(math.pi)\n",
    "theta.set_value(2 * math.pi * 54.74 / 180)\n",
    "theta2.set_value(2 * math.pi * -54.74 / 180)\n",
    "theta3.set_value(2 * math.pi * 17.63 / 180)"
   ]
  },
  {
   "cell_type": "code",
   "execution_count": 60,
   "metadata": {},
   "outputs": [
    {
     "data": {
      "image/svg+xml": [
       "<?xml version=\"1.0\" encoding=\"UTF-8\"?>\n",
       "<svg xmlns=\"http://www.w3.org/2000/svg\" xmlns:xlink=\"http://www.w3.org/1999/xlink\"\n",
       "     width=\"570.0\" height=\"281.25\" viewBox=\"-28.0 0 456.0 225.0\">\n",
       "<defs>\n",
       "</defs>\n",
       "<path d=\"M10,25 L25,25\" stroke-width=\"3\" stroke=\"darkred\" stroke-linejoin=\"miter\" fill=\"none\" />\n",
       "<path d=\"M10,75 L25,75\" stroke-width=\"3\" stroke=\"darkred\" stroke-linejoin=\"miter\" fill=\"none\" />\n",
       "<path d=\"M10,125 L25,125\" stroke-width=\"3\" stroke=\"darkred\" stroke-linejoin=\"miter\" fill=\"none\" />\n",
       "<path d=\"M10,175 L25,175\" stroke-width=\"3\" stroke=\"darkred\" stroke-linejoin=\"miter\" fill=\"none\" />\n",
       "<path d=\"M25,25 L75,25\" stroke=\"darkred\" stroke-width=\"3\" fill=\"none\" />\n",
       "<path d=\"M30,40 L39,40 L53,10 L44,10 L30,40 L39,40 Z\" stroke=\"black\" fill=\"gray\" stroke-linejoin=\"miter\" />\n",
       "<text x=\"47\" y=\"38\" font-size=\"7\" text-anchor=\"start\">Φ=pi</text>\n",
       "<path d=\"M25,75 L75,75\" stroke=\"darkred\" stroke-width=\"3\" fill=\"none\" />\n",
       "<path d=\"M30,90 L39,90 L53,60 L44,60 L30,90 L39,90 Z\" stroke=\"black\" fill=\"gray\" stroke-linejoin=\"miter\" />\n",
       "<text x=\"47\" y=\"88\" font-size=\"7\" text-anchor=\"start\">Φ=pi</text>\n",
       "<path d=\"M25,125 L75,125\" stroke=\"darkred\" stroke-width=\"3\" fill=\"none\" />\n",
       "<path d=\"M25,175 L75,175\" stroke=\"darkred\" stroke-width=\"3\" fill=\"none\" />\n",
       "<path d=\"M78,25 L122,25\" stroke=\"white\" stroke-width=\"6\" fill=\"none\" />\n",
       "<path d=\"M75,25 L78,25 L122,25 L125,25\" stroke=\"darkred\" stroke-width=\"3\" fill=\"none\" />\n",
       "<path d=\"M78,75 L122,125\" stroke=\"white\" stroke-width=\"6\" fill=\"none\" />\n",
       "<path d=\"M75,75 L78,75 L122,125 L125,125\" stroke=\"darkred\" stroke-width=\"3\" fill=\"none\" />\n",
       "<path d=\"M78,125 L122,75\" stroke=\"white\" stroke-width=\"6\" fill=\"none\" />\n",
       "<path d=\"M75,125 L78,125 L122,75 L125,75\" stroke=\"darkred\" stroke-width=\"3\" fill=\"none\" />\n",
       "<path d=\"M78,175 L122,175\" stroke=\"white\" stroke-width=\"6\" fill=\"none\" />\n",
       "<path d=\"M75,175 L78,175 L122,175 L125,175\" stroke=\"darkred\" stroke-width=\"3\" fill=\"none\" />\n",
       "<path d=\"M125,25 L153,25 L172,44\" stroke=\"darkred\" stroke-width=\"3\" fill=\"none\" />\n",
       "<path d=\"M178,44 L197,25 L225,25\" stroke=\"darkred\" stroke-width=\"3\" fill=\"none\" />\n",
       "<path d=\"M125,75 L153,75 L172,56\" stroke=\"darkred\" stroke-width=\"3\" fill=\"none\" />\n",
       "<path d=\"M178,56 L197,75 L225,75\" stroke=\"darkred\" stroke-width=\"3\" fill=\"none\" />\n",
       "<path d=\"M150,43 L200,43 L200,57 L150,57 Z\" stroke=\"black\" fill=\"black\" stroke-linejoin=\"miter\" />\n",
       "<text x=\"175\" y=\"80\" font-size=\"7\" text-anchor=\"middle\"></text>\n",
       "<text x=\"175\" y=\"26\" font-size=\"7\" text-anchor=\"middle\">Θ=1.910786</text>\n",
       "<path d=\"M150,43 L200,43 L200,47 L150,47 Z\" stroke=\"black\" fill=\"lightgray\" stroke-linejoin=\"miter\" />\n",
       "<path d=\"M193,50 L203,50 L203,60 L193,60 Z\" stroke=\"black\" fill=\"thistle\" stroke-linejoin=\"miter\" />\n",
       "<text x=\"198\" y=\"57\" font-size=\"6\" text-anchor=\"middle\">Rx</text>\n",
       "<path d=\"M125,125 L153,125 L172,144\" stroke=\"darkred\" stroke-width=\"3\" fill=\"none\" />\n",
       "<path d=\"M178,144 L197,125 L225,125\" stroke=\"darkred\" stroke-width=\"3\" fill=\"none\" />\n",
       "<path d=\"M125,175 L153,175 L172,156\" stroke=\"darkred\" stroke-width=\"3\" fill=\"none\" />\n",
       "<path d=\"M178,156 L197,175 L225,175\" stroke=\"darkred\" stroke-width=\"3\" fill=\"none\" />\n",
       "<path d=\"M150,143 L200,143 L200,157 L150,157 Z\" stroke=\"black\" fill=\"black\" stroke-linejoin=\"miter\" />\n",
       "<text x=\"175\" y=\"180\" font-size=\"7\" text-anchor=\"middle\"></text>\n",
       "<text x=\"175\" y=\"126\" font-size=\"7\" text-anchor=\"middle\">Θ=1.910786</text>\n",
       "<path d=\"M150,143 L200,143 L200,147 L150,147 Z\" stroke=\"black\" fill=\"lightgray\" stroke-linejoin=\"miter\" />\n",
       "<path d=\"M193,150 L203,150 L203,160 L193,160 Z\" stroke=\"black\" fill=\"thistle\" stroke-linejoin=\"miter\" />\n",
       "<text x=\"198\" y=\"157\" font-size=\"6\" text-anchor=\"middle\">Rx</text>\n",
       "<path d=\"M228,25 L272,25\" stroke=\"white\" stroke-width=\"6\" fill=\"none\" />\n",
       "<path d=\"M225,25 L228,25 L272,25 L275,25\" stroke=\"darkred\" stroke-width=\"3\" fill=\"none\" />\n",
       "<path d=\"M228,75 L272,125\" stroke=\"white\" stroke-width=\"6\" fill=\"none\" />\n",
       "<path d=\"M225,75 L228,75 L272,125 L275,125\" stroke=\"darkred\" stroke-width=\"3\" fill=\"none\" />\n",
       "<path d=\"M228,125 L272,75\" stroke=\"white\" stroke-width=\"6\" fill=\"none\" />\n",
       "<path d=\"M225,125 L228,125 L272,75 L275,75\" stroke=\"darkred\" stroke-width=\"3\" fill=\"none\" />\n",
       "<path d=\"M228,175 L272,175\" stroke=\"white\" stroke-width=\"6\" fill=\"none\" />\n",
       "<path d=\"M225,175 L228,175 L272,175 L275,175\" stroke=\"darkred\" stroke-width=\"3\" fill=\"none\" />\n",
       "<path d=\"M275,25 L303,25 L322,44\" stroke=\"darkred\" stroke-width=\"3\" fill=\"none\" />\n",
       "<path d=\"M328,44 L347,25 L375,25\" stroke=\"darkred\" stroke-width=\"3\" fill=\"none\" />\n",
       "<path d=\"M275,75 L303,75 L322,56\" stroke=\"darkred\" stroke-width=\"3\" fill=\"none\" />\n",
       "<path d=\"M328,56 L347,75 L375,75\" stroke=\"darkred\" stroke-width=\"3\" fill=\"none\" />\n",
       "<path d=\"M300,43 L350,43 L350,57 L300,57 Z\" stroke=\"black\" fill=\"black\" stroke-linejoin=\"miter\" />\n",
       "<text x=\"325\" y=\"80\" font-size=\"7\" text-anchor=\"middle\"></text>\n",
       "<text x=\"325\" y=\"26\" font-size=\"7\" text-anchor=\"middle\">Θ=-1.910786</text>\n",
       "<path d=\"M300,43 L350,43 L350,47 L300,47 Z\" stroke=\"black\" fill=\"lightgray\" stroke-linejoin=\"miter\" />\n",
       "<path d=\"M343,50 L353,50 L353,60 L343,60 Z\" stroke=\"black\" fill=\"thistle\" stroke-linejoin=\"miter\" />\n",
       "<text x=\"348\" y=\"57\" font-size=\"6\" text-anchor=\"middle\">Rx</text>\n",
       "<path d=\"M275,125 L303,125 L322,144\" stroke=\"darkred\" stroke-width=\"3\" fill=\"none\" />\n",
       "<path d=\"M328,144 L347,125 L375,125\" stroke=\"darkred\" stroke-width=\"3\" fill=\"none\" />\n",
       "<path d=\"M275,175 L303,175 L322,156\" stroke=\"darkred\" stroke-width=\"3\" fill=\"none\" />\n",
       "<path d=\"M328,156 L347,175 L375,175\" stroke=\"darkred\" stroke-width=\"3\" fill=\"none\" />\n",
       "<path d=\"M300,143 L350,143 L350,157 L300,157 Z\" stroke=\"black\" fill=\"black\" stroke-linejoin=\"miter\" />\n",
       "<text x=\"325\" y=\"180\" font-size=\"7\" text-anchor=\"middle\"></text>\n",
       "<text x=\"325\" y=\"126\" font-size=\"7\" text-anchor=\"middle\">Θ=0.615403</text>\n",
       "<path d=\"M300,143 L350,143 L350,147 L300,147 Z\" stroke=\"black\" fill=\"lightgray\" stroke-linejoin=\"miter\" />\n",
       "<path d=\"M343,150 L353,150 L353,160 L343,160 Z\" stroke=\"black\" fill=\"thistle\" stroke-linejoin=\"miter\" />\n",
       "<text x=\"348\" y=\"157\" font-size=\"6\" text-anchor=\"middle\">Rx</text>\n",
       "<path d=\"M375,25 L390,25\" stroke-width=\"3\" stroke=\"darkred\" stroke-linejoin=\"miter\" fill=\"none\" />\n",
       "<path d=\"M375,75 L390,75\" stroke-width=\"3\" stroke=\"darkred\" stroke-linejoin=\"miter\" fill=\"none\" />\n",
       "<path d=\"M375,125 L390,125\" stroke-width=\"3\" stroke=\"darkred\" stroke-linejoin=\"miter\" fill=\"none\" />\n",
       "<path d=\"M375,175 L390,175\" stroke-width=\"3\" stroke=\"darkred\" stroke-linejoin=\"miter\" fill=\"none\" />\n",
       "<text x=\"400\" y=\"28\" font-size=\"6\" text-anchor=\"end\">0</text>\n",
       "<text x=\"400\" y=\"78\" font-size=\"6\" text-anchor=\"end\">1</text>\n",
       "<text x=\"400\" y=\"128\" font-size=\"6\" text-anchor=\"end\">2</text>\n",
       "<text x=\"400\" y=\"178\" font-size=\"6\" text-anchor=\"end\">3</text>\n",
       "<text x=\"0\" y=\"28\" font-size=\"6\" text-anchor=\"start\">0</text>\n",
       "<text x=\"0\" y=\"78\" font-size=\"6\" text-anchor=\"start\">1</text>\n",
       "<text x=\"0\" y=\"128\" font-size=\"6\" text-anchor=\"start\">2</text>\n",
       "<text x=\"0\" y=\"178\" font-size=\"6\" text-anchor=\"start\">3</text>\n",
       "</svg>"
      ],
      "text/plain": [
       "<drawsvg.drawing.Drawing at 0x137d2d840>"
      ]
     },
     "execution_count": 60,
     "metadata": {},
     "output_type": "execute_result"
    }
   ],
   "source": [
    "mzi = pcvl.Circuit(m=4, name=\"mzi\")\n",
    "mzi.add(0, comp.PS(phi1)).add(1, comp.PS(phi1)).add(0, comp.PERM([0, 2, 1, 3])).add(\n",
    "    (0, 1), comp.BS(theta)\n",
    ").add((2, 3), comp.BS(theta)).add(0, comp.PERM([0, 2, 1, 3])).add(\n",
    "    (0, 1), comp.BS(theta2)\n",
    ").add(\n",
    "    (2, 3), comp.BS(theta3)\n",
    ")\n",
    "pcvl.pdisplay(mzi)"
   ]
  },
  {
   "cell_type": "code",
   "execution_count": 61,
   "metadata": {},
   "outputs": [
    {
     "data": {
      "text/latex": [
       "$\\displaystyle \\left[\\begin{matrix}-0.333261 & 0.471379 i & 0.471379 i & 0.666739\\\\0.471379 i & -0.333261 & 0.666739 & 0.471379 i\\\\- 0.77819 i & 0.247305 & 0.550174 & 0.174843 i\\\\0.247305 & - 0.77819 i & 0.174843 i & 0.550174\\end{matrix}\\right]$"
      ],
      "text/plain": [
       "<IPython.core.display.Math object>"
      ]
     },
     "metadata": {},
     "output_type": "display_data"
    }
   ],
   "source": [
    "pcvl.pdisplay(mzi.compute_unitary(use_symbolic=False))"
   ]
  },
  {
   "cell_type": "code",
   "execution_count": 62,
   "metadata": {},
   "outputs": [
    {
     "data": {
      "image/svg+xml": [
       "<?xml version=\"1.0\" encoding=\"UTF-8\"?>\n",
       "<svg xmlns=\"http://www.w3.org/2000/svg\" xmlns:xlink=\"http://www.w3.org/1999/xlink\"\n",
       "     width=\"696.25\" height=\"406.25\" viewBox=\"-28.5 0 557.0 325.0\">\n",
       "<defs>\n",
       "</defs>\n",
       "<path d=\"M10,25 L25,25\" stroke-width=\"3\" stroke=\"darkred\" stroke-linejoin=\"miter\" fill=\"none\" />\n",
       "<path d=\"M10,75 L25,75\" stroke-width=\"3\" stroke=\"darkred\" stroke-linejoin=\"miter\" fill=\"none\" />\n",
       "<path d=\"M10,125 L25,125\" stroke-width=\"3\" stroke=\"darkred\" stroke-linejoin=\"miter\" fill=\"none\" />\n",
       "<path d=\"M10,175 L25,175\" stroke-width=\"3\" stroke=\"darkred\" stroke-linejoin=\"miter\" fill=\"none\" />\n",
       "<path d=\"M10,225 L25,225\" stroke-width=\"3\" stroke=\"darkred\" stroke-linejoin=\"miter\" fill=\"none\" />\n",
       "<path d=\"M10,275 L25,275\" stroke-width=\"3\" stroke=\"darkred\" stroke-linejoin=\"miter\" fill=\"none\" />\n",
       "<path d=\"M28,75 L72,125\" stroke=\"white\" stroke-width=\"6\" fill=\"none\" />\n",
       "<path d=\"M25,75 L28,75 L72,125 L75,125\" stroke=\"darkred\" stroke-width=\"3\" fill=\"none\" />\n",
       "<path d=\"M28,125 L72,75\" stroke=\"white\" stroke-width=\"6\" fill=\"none\" />\n",
       "<path d=\"M25,125 L28,125 L72,75 L75,75\" stroke=\"darkred\" stroke-width=\"3\" fill=\"none\" />\n",
       "<path d=\"M75,125 L125,125\" stroke=\"darkred\" stroke-width=\"3\" fill=\"none\" />\n",
       "<path d=\"M80,140 L89,140 L103,110 L94,110 L80,140 L89,140 Z\" stroke=\"black\" fill=\"gray\" stroke-linejoin=\"miter\" />\n",
       "<text x=\"97\" y=\"138\" font-size=\"7\" text-anchor=\"start\">Φ=pi</text>\n",
       "<path d=\"M25,175 L75,175\" stroke=\"darkred\" stroke-width=\"3\" fill=\"none\" />\n",
       "<path d=\"M30,190 L39,190 L53,160 L44,160 L30,190 L39,190 Z\" stroke=\"black\" fill=\"gray\" stroke-linejoin=\"miter\" />\n",
       "<text x=\"47\" y=\"188\" font-size=\"7\" text-anchor=\"start\">Φ=pi</text>\n",
       "<path d=\"M75,175 L125,175\" stroke=\"darkred\" stroke-width=\"3\" fill=\"none\" />\n",
       "<path d=\"M25,225 L125,225\" stroke=\"darkred\" stroke-width=\"3\" fill=\"none\" />\n",
       "<path d=\"M25,275 L125,275\" stroke=\"darkred\" stroke-width=\"3\" fill=\"none\" />\n",
       "<path d=\"M128,125 L172,125\" stroke=\"white\" stroke-width=\"6\" fill=\"none\" />\n",
       "<path d=\"M125,125 L128,125 L172,125 L175,125\" stroke=\"darkred\" stroke-width=\"3\" fill=\"none\" />\n",
       "<path d=\"M128,175 L172,225\" stroke=\"white\" stroke-width=\"6\" fill=\"none\" />\n",
       "<path d=\"M125,175 L128,175 L172,225 L175,225\" stroke=\"darkred\" stroke-width=\"3\" fill=\"none\" />\n",
       "<path d=\"M128,225 L172,175\" stroke=\"white\" stroke-width=\"6\" fill=\"none\" />\n",
       "<path d=\"M125,225 L128,225 L172,175 L175,175\" stroke=\"darkred\" stroke-width=\"3\" fill=\"none\" />\n",
       "<path d=\"M128,275 L172,275\" stroke=\"white\" stroke-width=\"6\" fill=\"none\" />\n",
       "<path d=\"M125,275 L128,275 L172,275 L175,275\" stroke=\"darkred\" stroke-width=\"3\" fill=\"none\" />\n",
       "<path d=\"M175,125 L203,125 L222,144\" stroke=\"darkred\" stroke-width=\"3\" fill=\"none\" />\n",
       "<path d=\"M228,144 L247,125 L275,125\" stroke=\"darkred\" stroke-width=\"3\" fill=\"none\" />\n",
       "<path d=\"M175,175 L203,175 L222,156\" stroke=\"darkred\" stroke-width=\"3\" fill=\"none\" />\n",
       "<path d=\"M228,156 L247,175 L275,175\" stroke=\"darkred\" stroke-width=\"3\" fill=\"none\" />\n",
       "<path d=\"M200,143 L250,143 L250,157 L200,157 Z\" stroke=\"black\" fill=\"black\" stroke-linejoin=\"miter\" />\n",
       "<text x=\"225\" y=\"180\" font-size=\"7\" text-anchor=\"middle\"></text>\n",
       "<text x=\"225\" y=\"126\" font-size=\"7\" text-anchor=\"middle\">Θ=1.910786</text>\n",
       "<path d=\"M200,143 L250,143 L250,147 L200,147 Z\" stroke=\"black\" fill=\"lightgray\" stroke-linejoin=\"miter\" />\n",
       "<path d=\"M243,150 L253,150 L253,160 L243,160 Z\" stroke=\"black\" fill=\"thistle\" stroke-linejoin=\"miter\" />\n",
       "<text x=\"248\" y=\"157\" font-size=\"6\" text-anchor=\"middle\">Rx</text>\n",
       "<path d=\"M175,225 L203,225 L222,244\" stroke=\"darkred\" stroke-width=\"3\" fill=\"none\" />\n",
       "<path d=\"M228,244 L247,225 L275,225\" stroke=\"darkred\" stroke-width=\"3\" fill=\"none\" />\n",
       "<path d=\"M175,275 L203,275 L222,256\" stroke=\"darkred\" stroke-width=\"3\" fill=\"none\" />\n",
       "<path d=\"M228,256 L247,275 L275,275\" stroke=\"darkred\" stroke-width=\"3\" fill=\"none\" />\n",
       "<path d=\"M200,243 L250,243 L250,257 L200,257 Z\" stroke=\"black\" fill=\"black\" stroke-linejoin=\"miter\" />\n",
       "<text x=\"225\" y=\"280\" font-size=\"7\" text-anchor=\"middle\"></text>\n",
       "<text x=\"225\" y=\"226\" font-size=\"7\" text-anchor=\"middle\">Θ=1.910786</text>\n",
       "<path d=\"M200,243 L250,243 L250,247 L200,247 Z\" stroke=\"black\" fill=\"lightgray\" stroke-linejoin=\"miter\" />\n",
       "<path d=\"M243,250 L253,250 L253,260 L243,260 Z\" stroke=\"black\" fill=\"thistle\" stroke-linejoin=\"miter\" />\n",
       "<text x=\"248\" y=\"257\" font-size=\"6\" text-anchor=\"middle\">Rx</text>\n",
       "<path d=\"M278,125 L322,125\" stroke=\"white\" stroke-width=\"6\" fill=\"none\" />\n",
       "<path d=\"M275,125 L278,125 L322,125 L325,125\" stroke=\"darkred\" stroke-width=\"3\" fill=\"none\" />\n",
       "<path d=\"M278,175 L322,225\" stroke=\"white\" stroke-width=\"6\" fill=\"none\" />\n",
       "<path d=\"M275,175 L278,175 L322,225 L325,225\" stroke=\"darkred\" stroke-width=\"3\" fill=\"none\" />\n",
       "<path d=\"M278,225 L322,175\" stroke=\"white\" stroke-width=\"6\" fill=\"none\" />\n",
       "<path d=\"M275,225 L278,225 L322,175 L325,175\" stroke=\"darkred\" stroke-width=\"3\" fill=\"none\" />\n",
       "<path d=\"M278,275 L322,275\" stroke=\"white\" stroke-width=\"6\" fill=\"none\" />\n",
       "<path d=\"M275,275 L278,275 L322,275 L325,275\" stroke=\"darkred\" stroke-width=\"3\" fill=\"none\" />\n",
       "<path d=\"M325,125 L353,125 L372,144\" stroke=\"darkred\" stroke-width=\"3\" fill=\"none\" />\n",
       "<path d=\"M378,144 L397,125 L425,125\" stroke=\"darkred\" stroke-width=\"3\" fill=\"none\" />\n",
       "<path d=\"M325,175 L353,175 L372,156\" stroke=\"darkred\" stroke-width=\"3\" fill=\"none\" />\n",
       "<path d=\"M378,156 L397,175 L425,175\" stroke=\"darkred\" stroke-width=\"3\" fill=\"none\" />\n",
       "<path d=\"M350,143 L400,143 L400,157 L350,157 Z\" stroke=\"black\" fill=\"black\" stroke-linejoin=\"miter\" />\n",
       "<text x=\"375\" y=\"180\" font-size=\"7\" text-anchor=\"middle\"></text>\n",
       "<text x=\"375\" y=\"126\" font-size=\"7\" text-anchor=\"middle\">Θ=-1.910786</text>\n",
       "<path d=\"M350,143 L400,143 L400,147 L350,147 Z\" stroke=\"black\" fill=\"lightgray\" stroke-linejoin=\"miter\" />\n",
       "<path d=\"M393,150 L403,150 L403,160 L393,160 Z\" stroke=\"black\" fill=\"thistle\" stroke-linejoin=\"miter\" />\n",
       "<text x=\"398\" y=\"157\" font-size=\"6\" text-anchor=\"middle\">Rx</text>\n",
       "<path d=\"M325,225 L353,225 L372,244\" stroke=\"darkred\" stroke-width=\"3\" fill=\"none\" />\n",
       "<path d=\"M378,244 L397,225 L425,225\" stroke=\"darkred\" stroke-width=\"3\" fill=\"none\" />\n",
       "<path d=\"M325,275 L353,275 L372,256\" stroke=\"darkred\" stroke-width=\"3\" fill=\"none\" />\n",
       "<path d=\"M378,256 L397,275 L425,275\" stroke=\"darkred\" stroke-width=\"3\" fill=\"none\" />\n",
       "<path d=\"M350,243 L400,243 L400,257 L350,257 Z\" stroke=\"black\" fill=\"black\" stroke-linejoin=\"miter\" />\n",
       "<text x=\"375\" y=\"280\" font-size=\"7\" text-anchor=\"middle\"></text>\n",
       "<text x=\"375\" y=\"226\" font-size=\"7\" text-anchor=\"middle\">Θ=0.615403</text>\n",
       "<path d=\"M350,243 L400,243 L400,247 L350,247 Z\" stroke=\"black\" fill=\"lightgray\" stroke-linejoin=\"miter\" />\n",
       "<path d=\"M393,250 L403,250 L403,260 L393,260 Z\" stroke=\"black\" fill=\"thistle\" stroke-linejoin=\"miter\" />\n",
       "<text x=\"398\" y=\"257\" font-size=\"6\" text-anchor=\"middle\">Rx</text>\n",
       "<path d=\"M75,75 L425,75\" stroke=\"darkred\" stroke-width=\"3\" fill=\"none\" />\n",
       "<path d=\"M428,75 L472,125\" stroke=\"white\" stroke-width=\"6\" fill=\"none\" />\n",
       "<path d=\"M425,75 L428,75 L472,125 L475,125\" stroke=\"darkred\" stroke-width=\"3\" fill=\"none\" />\n",
       "<path d=\"M428,125 L472,75\" stroke=\"white\" stroke-width=\"6\" fill=\"none\" />\n",
       "<path d=\"M425,125 L428,125 L472,75 L475,75\" stroke=\"darkred\" stroke-width=\"3\" fill=\"none\" />\n",
       "<path d=\"M25,25 L475,25\" stroke=\"darkred\" stroke-width=\"3\" fill=\"none\" />\n",
       "<path d=\"M425,175 L475,175\" stroke=\"darkred\" stroke-width=\"3\" fill=\"none\" />\n",
       "<path d=\"M425,225 L475,225\" stroke=\"darkred\" stroke-width=\"3\" fill=\"none\" />\n",
       "<path d=\"M425,275 L475,275\" stroke=\"darkred\" stroke-width=\"3\" fill=\"none\" />\n",
       "<path d=\"M475,25 L490,25\" stroke-width=\"3\" stroke=\"darkred\" stroke-linejoin=\"miter\" fill=\"none\" />\n",
       "<path d=\"M475,75 L490,75\" stroke-width=\"3\" stroke=\"darkred\" stroke-linejoin=\"miter\" fill=\"none\" />\n",
       "<path d=\"M475,125 L490,125\" stroke-width=\"3\" stroke=\"darkred\" stroke-linejoin=\"miter\" fill=\"none\" />\n",
       "<path d=\"M475,175 L490,175\" stroke-width=\"3\" stroke=\"darkred\" stroke-linejoin=\"miter\" fill=\"none\" />\n",
       "<path d=\"M475,225 L490,225\" stroke-width=\"3\" stroke=\"darkred\" stroke-linejoin=\"miter\" fill=\"none\" />\n",
       "<path d=\"M475,275 L490,275\" stroke-width=\"3\" stroke=\"darkred\" stroke-linejoin=\"miter\" fill=\"none\" />\n",
       "<text x=\"500\" y=\"28\" font-size=\"7\" text-anchor=\"end\">0</text>\n",
       "<text x=\"500\" y=\"78\" font-size=\"7\" text-anchor=\"end\">1</text>\n",
       "<text x=\"500\" y=\"128\" font-size=\"7\" text-anchor=\"end\">2</text>\n",
       "<text x=\"500\" y=\"178\" font-size=\"7\" text-anchor=\"end\">3</text>\n",
       "<text x=\"500\" y=\"228\" font-size=\"7\" text-anchor=\"end\">4</text>\n",
       "<text x=\"500\" y=\"278\" font-size=\"7\" text-anchor=\"end\">5</text>\n",
       "<text x=\"0\" y=\"28\" font-size=\"7\" text-anchor=\"start\">0</text>\n",
       "<text x=\"0\" y=\"78\" font-size=\"7\" text-anchor=\"start\">1</text>\n",
       "<text x=\"0\" y=\"128\" font-size=\"7\" text-anchor=\"start\">2</text>\n",
       "<text x=\"0\" y=\"178\" font-size=\"7\" text-anchor=\"start\">3</text>\n",
       "<text x=\"0\" y=\"228\" font-size=\"7\" text-anchor=\"start\">4</text>\n",
       "<text x=\"0\" y=\"278\" font-size=\"7\" text-anchor=\"start\">5</text>\n",
       "</svg>"
      ],
      "text/plain": [
       "<drawsvg.drawing.Drawing at 0x147c34160>"
      ]
     },
     "execution_count": 62,
     "metadata": {},
     "output_type": "execute_result"
    }
   ],
   "source": [
    "c1 = (\n",
    "    Circuit(6, name=\"Heralded CZ\")\n",
    "    .add(1, PERM([1, 0]))\n",
    "    .add(2, mzi, merge=True)\n",
    "    .add(1, PERM([1, 0]))\n",
    ")\n",
    "\n",
    "p1 = Processor(\"SLOS\", c1)\n",
    "p1.add_port(0, Port(Encoding.DUAL_RAIL, \"ctrl\")).add_port(\n",
    "    2, Port(Encoding.DUAL_RAIL, \"data\")\n",
    ").add_herald(4, 1).add_herald(5, 1)\n",
    "pcvl.pdisplay(c1)"
   ]
  },
  {
   "cell_type": "code",
   "execution_count": 63,
   "metadata": {},
   "outputs": [
    {
     "data": {
      "text/html": [
       "<table>\n",
       "<thead>\n",
       "<tr><th style=\"text-align: right;\">  </th><th style=\"text-align: right;\">  00</th><th style=\"text-align: right;\">  01</th><th style=\"text-align: right;\">  10</th><th style=\"text-align: right;\">  11</th></tr>\n",
       "</thead>\n",
       "<tbody>\n",
       "<tr><td style=\"text-align: right;\">00</td><td style=\"text-align: right;\">   1</td><td style=\"text-align: right;\">   0</td><td style=\"text-align: right;\">   0</td><td style=\"text-align: right;\">   0</td></tr>\n",
       "<tr><td style=\"text-align: right;\">01</td><td style=\"text-align: right;\">   0</td><td style=\"text-align: right;\">   1</td><td style=\"text-align: right;\">   0</td><td style=\"text-align: right;\">   0</td></tr>\n",
       "<tr><td style=\"text-align: right;\">10</td><td style=\"text-align: right;\">   0</td><td style=\"text-align: right;\">   0</td><td style=\"text-align: right;\">   0</td><td style=\"text-align: right;\">   1</td></tr>\n",
       "<tr><td style=\"text-align: right;\">11</td><td style=\"text-align: right;\">   0</td><td style=\"text-align: right;\">   0</td><td style=\"text-align: right;\">   1</td><td style=\"text-align: right;\">   0</td></tr>\n",
       "</tbody>\n",
       "</table>"
      ],
      "text/plain": [
       "<IPython.core.display.HTML object>"
      ]
     },
     "metadata": {},
     "output_type": "display_data"
    },
    {
     "name": "stdout",
     "output_type": "stream",
     "text": [
      "performance = 0.07406604842851178, fidelity = 0.9999999915267557\n"
     ]
    }
   ],
   "source": [
    "# First,we convert the CZ to a CNOT\n",
    "proc = Processor(\"SLOS\", 4)\n",
    "proc.add(2, pcvl.BS.H())\n",
    "proc.add(0, p1)\n",
    "proc.add(2, pcvl.BS.H())\n",
    "\n",
    "states = {\n",
    "    pcvl.BasicState([1, 0, 1, 0]): \"00\",\n",
    "    pcvl.BasicState([1, 0, 0, 1]): \"01\",\n",
    "    pcvl.BasicState([0, 1, 1, 0]): \"10\",\n",
    "    pcvl.BasicState([0, 1, 0, 1]): \"11\",\n",
    "}\n",
    "\n",
    "ca = pcvl.algorithm.Analyzer(proc, states)\n",
    "\n",
    "truth_table = {\"00\": \"00\", \"01\": \"01\", \"10\": \"11\", \"11\": \"10\"}\n",
    "ca.compute(expected=truth_table)\n",
    "\n",
    "pcvl.pdisplay(ca)\n",
    "print(f\"performance = {ca.performance}, fidelity = {ca.fidelity.real}\")"
   ]
  }
 ],
 "metadata": {
  "kernelspec": {
   "display_name": "MIT2024QHackthon-6TOJrnvm",
   "language": "python",
   "name": "python3"
  },
  "language_info": {
   "codemirror_mode": {
    "name": "ipython",
    "version": 3
   },
   "file_extension": ".py",
   "mimetype": "text/x-python",
   "name": "python",
   "nbconvert_exporter": "python",
   "pygments_lexer": "ipython3",
   "version": "3.10.1"
  }
 },
 "nbformat": 4,
 "nbformat_minor": 2
}

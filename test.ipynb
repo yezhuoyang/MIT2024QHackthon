{
 "cells": [
  {
   "cell_type": "code",
   "execution_count": 2270,
   "metadata": {},
   "outputs": [],
   "source": [
    "import perceval as pcvl\n",
    "import perceval.components.unitary_components as comp\n",
    "import math\n",
    "from perceval.components.unitary_components import PS, BS, PERM\n",
    "from perceval import Processor, PostSelect, Port, Circuit, Unitary"
   ]
  },
  {
   "cell_type": "code",
   "execution_count": 2271,
   "metadata": {},
   "outputs": [
    {
     "name": "stdout",
     "output_type": "stream",
     "text": [
      "Number of photons: 1\n",
      "Number of modes: 2\n",
      "Photons in mode 0: 0\n",
      "Photons in mode 1: 1\n"
     ]
    }
   ],
   "source": [
    "bs = pcvl.BasicState(\"|0,1>\")\n",
    "print(f\"Number of photons: {bs.n}\")\n",
    "print(f\"Number of modes: {bs.m}\")\n",
    "print(f\"Photons in mode 0: {bs[0]}\")\n",
    "print(f\"Photons in mode 1: {bs[1]}\")"
   ]
  },
  {
   "cell_type": "code",
   "execution_count": 2272,
   "metadata": {},
   "outputs": [
    {
     "name": "stdout",
     "output_type": "stream",
     "text": [
      "|0,1,2,3>\n"
     ]
    }
   ],
   "source": [
    "state = pcvl.BasicState([0, 1]) * pcvl.BasicState([2, 3])\n",
    "print(state)"
   ]
  },
  {
   "cell_type": "code",
   "execution_count": 2273,
   "metadata": {},
   "outputs": [
    {
     "name": "stdout",
     "output_type": "stream",
     "text": [
      "sqrt(2)/2*|1,0>+sqrt(2)/2*|0,1>\n",
      "First state: |0,1>\n",
      "Second state: |1,0>\n"
     ]
    }
   ],
   "source": [
    "st1 = pcvl.StateVector(\"|1,0>\")\n",
    "st2 = pcvl.StateVector(\"|0,1>\")\n",
    "st3 = st1 + st2\n",
    "print(st3)\n",
    "print(f\"First state: {st3[0]}\")\n",
    "print(f\"Second state: {st3[1]}\")"
   ]
  },
  {
   "cell_type": "code",
   "execution_count": 2274,
   "metadata": {},
   "outputs": [],
   "source": [
    "# sv = pcvl.StateVector(\"|0,1,1>\") + pcvl.StateVector(\"|1,1,0>\")\n",
    "# map_measure_sv = sv.measure()\n",
    "# for s, (p, sv) in map_measure_sv.items():\n",
    "# print(s, p, sv)"
   ]
  },
  {
   "cell_type": "code",
   "execution_count": 2275,
   "metadata": {},
   "outputs": [],
   "source": [
    "alpha = pcvl.P(\"alpha\")\n",
    "alpha2 = pcvl.P(\"phi\", min_v=0, max_v=2 * math.pi, periodic=True)"
   ]
  },
  {
   "cell_type": "code",
   "execution_count": 2276,
   "metadata": {},
   "outputs": [],
   "source": [
    "c1 = pcvl.BS(theta=alpha)"
   ]
  },
  {
   "cell_type": "code",
   "execution_count": 2277,
   "metadata": {},
   "outputs": [],
   "source": [
    "c2 = pcvl.BS(theta=alpha) // pcvl.PS(pcvl.P(\"phi\")) // pcvl.BS(theta=alpha)"
   ]
  },
  {
   "cell_type": "code",
   "execution_count": 2278,
   "metadata": {},
   "outputs": [
    {
     "data": {
      "text/plain": [
       "True"
      ]
     },
     "execution_count": 2278,
     "metadata": {},
     "output_type": "execute_result"
    }
   ],
   "source": [
    "alpha.set_value(math.pi / 2)\n",
    "alpha.defined"
   ]
  },
  {
   "cell_type": "code",
   "execution_count": 2279,
   "metadata": {},
   "outputs": [
    {
     "data": {
      "text/latex": [
       "$\\displaystyle \\left[\\begin{matrix}\\frac{\\sqrt{2}}{2} & \\frac{\\sqrt{2} i}{2}\\\\\\frac{\\sqrt{2} i}{2} & \\frac{\\sqrt{2}}{2}\\end{matrix}\\right]$"
      ],
      "text/plain": [
       "<IPython.core.display.Math object>"
      ]
     },
     "metadata": {},
     "output_type": "display_data"
    }
   ],
   "source": [
    "pcvl.pdisplay(c1.compute_unitary(use_symbolic=False))"
   ]
  },
  {
   "cell_type": "code",
   "execution_count": 2280,
   "metadata": {},
   "outputs": [],
   "source": [
    "phi1 = pcvl.P(\"phi1\")\n",
    "phi2 = pcvl.P(\"phi2\")\n",
    "phi1.set_value(math.pi / 2)\n",
    "phi2 = pcvl.P(\"phi2\")"
   ]
  },
  {
   "cell_type": "code",
   "execution_count": 2281,
   "metadata": {},
   "outputs": [
    {
     "data": {
      "text/plain": [
       "<perceval.components.linear_circuit.Circuit at 0x156c8fa30>"
      ]
     },
     "execution_count": 2281,
     "metadata": {},
     "output_type": "execute_result"
    }
   ],
   "source": [
    "mzi = pcvl.Circuit(m=4, name=\"mzi\")\n",
    "mzi.add((0, 1), comp.BS.H(phi1))\n",
    "mzi.add(0, comp.PERM([1, 0]))\n",
    "mzi.add((1, 2), comp.BS.H(phi1))\n",
    "mzi.add(0, comp.PERM([1, 0]))"
   ]
  },
  {
   "cell_type": "code",
   "execution_count": 2282,
   "metadata": {},
   "outputs": [
    {
     "data": {
      "image/svg+xml": [
       "<?xml version=\"1.0\" encoding=\"UTF-8\"?>\n",
       "<svg xmlns=\"http://www.w3.org/2000/svg\" xmlns:xlink=\"http://www.w3.org/1999/xlink\"\n",
       "     width=\"507.5\" height=\"281.25\" viewBox=\"-28.0 0 406.0 225.0\">\n",
       "<defs>\n",
       "</defs>\n",
       "<path d=\"M10,25 L25,25\" stroke-width=\"3\" stroke=\"darkred\" stroke-linejoin=\"miter\" fill=\"none\" />\n",
       "<path d=\"M10,75 L25,75\" stroke-width=\"3\" stroke=\"darkred\" stroke-linejoin=\"miter\" fill=\"none\" />\n",
       "<path d=\"M10,125 L25,125\" stroke-width=\"3\" stroke=\"darkred\" stroke-linejoin=\"miter\" fill=\"none\" />\n",
       "<path d=\"M10,175 L25,175\" stroke-width=\"3\" stroke=\"darkred\" stroke-linejoin=\"miter\" fill=\"none\" />\n",
       "<path d=\"M25,25 L53,25 L72,44\" stroke=\"darkred\" stroke-width=\"3\" fill=\"none\" />\n",
       "<path d=\"M78,44 L97,25 L125,25\" stroke=\"darkred\" stroke-width=\"3\" fill=\"none\" />\n",
       "<path d=\"M25,75 L53,75 L72,56\" stroke=\"darkred\" stroke-width=\"3\" fill=\"none\" />\n",
       "<path d=\"M78,56 L97,75 L125,75\" stroke=\"darkred\" stroke-width=\"3\" fill=\"none\" />\n",
       "<path d=\"M50,43 L100,43 L100,57 L50,57 Z\" stroke=\"black\" fill=\"black\" stroke-linejoin=\"miter\" />\n",
       "<text x=\"75\" y=\"85\" font-size=\"7\" text-anchor=\"middle\"></text>\n",
       "<text x=\"75\" y=\"26\" font-size=\"7\" text-anchor=\"middle\"></text>\n",
       "<path d=\"M50,43 L100,43 L100,47 L50,47 Z\" stroke=\"black\" fill=\"lightgray\" stroke-linejoin=\"miter\" />\n",
       "<path d=\"M93,50 L103,50 L103,60 L93,60 Z\" stroke=\"black\" fill=\"aquamarine\" stroke-linejoin=\"miter\" />\n",
       "<text x=\"98\" y=\"57\" font-size=\"6\" text-anchor=\"middle\">H</text>\n",
       "<path d=\"M128,25 L172,75\" stroke=\"white\" stroke-width=\"6\" fill=\"none\" />\n",
       "<path d=\"M125,25 L128,25 L172,75 L175,75\" stroke=\"darkred\" stroke-width=\"3\" fill=\"none\" />\n",
       "<path d=\"M128,75 L172,25\" stroke=\"white\" stroke-width=\"6\" fill=\"none\" />\n",
       "<path d=\"M125,75 L128,75 L172,25 L175,25\" stroke=\"darkred\" stroke-width=\"3\" fill=\"none\" />\n",
       "<path d=\"M25,125 L175,125\" stroke=\"darkred\" stroke-width=\"3\" fill=\"none\" />\n",
       "<path d=\"M175,75 L203,75 L222,94\" stroke=\"darkred\" stroke-width=\"3\" fill=\"none\" />\n",
       "<path d=\"M228,94 L247,75 L275,75\" stroke=\"darkred\" stroke-width=\"3\" fill=\"none\" />\n",
       "<path d=\"M175,125 L203,125 L222,106\" stroke=\"darkred\" stroke-width=\"3\" fill=\"none\" />\n",
       "<path d=\"M228,106 L247,125 L275,125\" stroke=\"darkred\" stroke-width=\"3\" fill=\"none\" />\n",
       "<path d=\"M200,93 L250,93 L250,107 L200,107 Z\" stroke=\"black\" fill=\"black\" stroke-linejoin=\"miter\" />\n",
       "<text x=\"225\" y=\"135\" font-size=\"7\" text-anchor=\"middle\"></text>\n",
       "<text x=\"225\" y=\"76\" font-size=\"7\" text-anchor=\"middle\"></text>\n",
       "<path d=\"M200,93 L250,93 L250,97 L200,97 Z\" stroke=\"black\" fill=\"lightgray\" stroke-linejoin=\"miter\" />\n",
       "<path d=\"M243,100 L253,100 L253,110 L243,110 Z\" stroke=\"black\" fill=\"aquamarine\" stroke-linejoin=\"miter\" />\n",
       "<text x=\"248\" y=\"107\" font-size=\"6\" text-anchor=\"middle\">H</text>\n",
       "<path d=\"M175,25 L275,25\" stroke=\"darkred\" stroke-width=\"3\" fill=\"none\" />\n",
       "<path d=\"M278,25 L322,75\" stroke=\"white\" stroke-width=\"6\" fill=\"none\" />\n",
       "<path d=\"M275,25 L278,25 L322,75 L325,75\" stroke=\"darkred\" stroke-width=\"3\" fill=\"none\" />\n",
       "<path d=\"M278,75 L322,25\" stroke=\"white\" stroke-width=\"6\" fill=\"none\" />\n",
       "<path d=\"M275,75 L278,75 L322,25 L325,25\" stroke=\"darkred\" stroke-width=\"3\" fill=\"none\" />\n",
       "<path d=\"M275,125 L325,125\" stroke=\"darkred\" stroke-width=\"3\" fill=\"none\" />\n",
       "<path d=\"M25,175 L325,175\" stroke=\"darkred\" stroke-width=\"3\" fill=\"none\" />\n",
       "<path d=\"M325,25 L340,25\" stroke-width=\"3\" stroke=\"darkred\" stroke-linejoin=\"miter\" fill=\"none\" />\n",
       "<path d=\"M325,75 L340,75\" stroke-width=\"3\" stroke=\"darkred\" stroke-linejoin=\"miter\" fill=\"none\" />\n",
       "<path d=\"M325,125 L340,125\" stroke-width=\"3\" stroke=\"darkred\" stroke-linejoin=\"miter\" fill=\"none\" />\n",
       "<path d=\"M325,175 L340,175\" stroke-width=\"3\" stroke=\"darkred\" stroke-linejoin=\"miter\" fill=\"none\" />\n",
       "<text x=\"350\" y=\"28\" font-size=\"6\" text-anchor=\"end\">0</text>\n",
       "<text x=\"350\" y=\"78\" font-size=\"6\" text-anchor=\"end\">1</text>\n",
       "<text x=\"350\" y=\"128\" font-size=\"6\" text-anchor=\"end\">2</text>\n",
       "<text x=\"350\" y=\"178\" font-size=\"6\" text-anchor=\"end\">3</text>\n",
       "<text x=\"0\" y=\"28\" font-size=\"6\" text-anchor=\"start\">0</text>\n",
       "<text x=\"0\" y=\"78\" font-size=\"6\" text-anchor=\"start\">1</text>\n",
       "<text x=\"0\" y=\"128\" font-size=\"6\" text-anchor=\"start\">2</text>\n",
       "<text x=\"0\" y=\"178\" font-size=\"6\" text-anchor=\"start\">3</text>\n",
       "</svg>"
      ],
      "text/plain": [
       "<drawsvg.drawing.Drawing at 0x155e29090>"
      ]
     },
     "execution_count": 2282,
     "metadata": {},
     "output_type": "execute_result"
    }
   ],
   "source": [
    "pcvl.pdisplay(mzi)"
   ]
  },
  {
   "cell_type": "code",
   "execution_count": 2283,
   "metadata": {},
   "outputs": [
    {
     "data": {
      "text/latex": [
       "$\\displaystyle \\left[\\begin{matrix}0.5 & 0.5 & 0.707106781186547 & 0\\\\0.707106781186547 & -0.707106781186548 & 0 & 0\\\\0.5 & 0.5 & -0.707106781186548 & 0\\\\0 & 0 & 0 & 1\\end{matrix}\\right]$"
      ],
      "text/plain": [
       "<IPython.core.display.Math object>"
      ]
     },
     "metadata": {},
     "output_type": "display_data"
    }
   ],
   "source": [
    "pcvl.pdisplay(mzi.compute_unitary(use_symbolic=True))"
   ]
  },
  {
   "cell_type": "code",
   "execution_count": 2284,
   "metadata": {},
   "outputs": [],
   "source": [
    "phi1 = pcvl.P(\"phi1\")\n",
    "theta = pcvl.P(\"theta\")\n",
    "theta2 = pcvl.P(\"theta2\")\n",
    "theta3 = pcvl.P(\"theta3\")"
   ]
  },
  {
   "cell_type": "code",
   "execution_count": 2285,
   "metadata": {},
   "outputs": [],
   "source": [
    "phi1.set_value(0)\n",
    "theta.set_value(2 * math.pi * 54.74 / 180)\n",
    "theta2.set_value(2 * math.pi * -54.74 / 180)\n",
    "theta3.set_value(2 * math.pi * 17.63 / 180)"
   ]
  },
  {
   "cell_type": "code",
   "execution_count": 2286,
   "metadata": {},
   "outputs": [
    {
     "data": {
      "image/svg+xml": [
       "<?xml version=\"1.0\" encoding=\"UTF-8\"?>\n",
       "<svg xmlns=\"http://www.w3.org/2000/svg\" xmlns:xlink=\"http://www.w3.org/1999/xlink\"\n",
       "     width=\"570.0\" height=\"281.25\" viewBox=\"-28.0 0 456.0 225.0\">\n",
       "<defs>\n",
       "</defs>\n",
       "<path d=\"M10,25 L25,25\" stroke-width=\"3\" stroke=\"darkred\" stroke-linejoin=\"miter\" fill=\"none\" />\n",
       "<path d=\"M10,75 L25,75\" stroke-width=\"3\" stroke=\"darkred\" stroke-linejoin=\"miter\" fill=\"none\" />\n",
       "<path d=\"M10,125 L25,125\" stroke-width=\"3\" stroke=\"darkred\" stroke-linejoin=\"miter\" fill=\"none\" />\n",
       "<path d=\"M10,175 L25,175\" stroke-width=\"3\" stroke=\"darkred\" stroke-linejoin=\"miter\" fill=\"none\" />\n",
       "<path d=\"M25,25 L75,25\" stroke=\"darkred\" stroke-width=\"3\" fill=\"none\" />\n",
       "<path d=\"M30,40 L39,40 L53,10 L44,10 L30,40 L39,40 Z\" stroke=\"black\" fill=\"gray\" stroke-linejoin=\"miter\" />\n",
       "<text x=\"47\" y=\"38\" font-size=\"7\" text-anchor=\"start\">Φ=0</text>\n",
       "<path d=\"M25,75 L75,75\" stroke=\"darkred\" stroke-width=\"3\" fill=\"none\" />\n",
       "<path d=\"M30,90 L39,90 L53,60 L44,60 L30,90 L39,90 Z\" stroke=\"black\" fill=\"gray\" stroke-linejoin=\"miter\" />\n",
       "<text x=\"47\" y=\"88\" font-size=\"7\" text-anchor=\"start\">Φ=0</text>\n",
       "<path d=\"M25,125 L75,125\" stroke=\"darkred\" stroke-width=\"3\" fill=\"none\" />\n",
       "<path d=\"M25,175 L75,175\" stroke=\"darkred\" stroke-width=\"3\" fill=\"none\" />\n",
       "<path d=\"M78,25 L122,25\" stroke=\"white\" stroke-width=\"6\" fill=\"none\" />\n",
       "<path d=\"M75,25 L78,25 L122,25 L125,25\" stroke=\"darkred\" stroke-width=\"3\" fill=\"none\" />\n",
       "<path d=\"M78,75 L122,125\" stroke=\"white\" stroke-width=\"6\" fill=\"none\" />\n",
       "<path d=\"M75,75 L78,75 L122,125 L125,125\" stroke=\"darkred\" stroke-width=\"3\" fill=\"none\" />\n",
       "<path d=\"M78,125 L122,75\" stroke=\"white\" stroke-width=\"6\" fill=\"none\" />\n",
       "<path d=\"M75,125 L78,125 L122,75 L125,75\" stroke=\"darkred\" stroke-width=\"3\" fill=\"none\" />\n",
       "<path d=\"M78,175 L122,175\" stroke=\"white\" stroke-width=\"6\" fill=\"none\" />\n",
       "<path d=\"M75,175 L78,175 L122,175 L125,175\" stroke=\"darkred\" stroke-width=\"3\" fill=\"none\" />\n",
       "<path d=\"M125,25 L153,25 L172,44\" stroke=\"darkred\" stroke-width=\"3\" fill=\"none\" />\n",
       "<path d=\"M178,44 L197,25 L225,25\" stroke=\"darkred\" stroke-width=\"3\" fill=\"none\" />\n",
       "<path d=\"M125,75 L153,75 L172,56\" stroke=\"darkred\" stroke-width=\"3\" fill=\"none\" />\n",
       "<path d=\"M178,56 L197,75 L225,75\" stroke=\"darkred\" stroke-width=\"3\" fill=\"none\" />\n",
       "<path d=\"M150,43 L200,43 L200,57 L150,57 Z\" stroke=\"black\" fill=\"black\" stroke-linejoin=\"miter\" />\n",
       "<text x=\"175\" y=\"80\" font-size=\"7\" text-anchor=\"middle\"></text>\n",
       "<text x=\"175\" y=\"26\" font-size=\"7\" text-anchor=\"middle\">Θ=1.910786</text>\n",
       "<path d=\"M150,43 L200,43 L200,47 L150,47 Z\" stroke=\"black\" fill=\"lightgray\" stroke-linejoin=\"miter\" />\n",
       "<path d=\"M193,50 L203,50 L203,60 L193,60 Z\" stroke=\"black\" fill=\"thistle\" stroke-linejoin=\"miter\" />\n",
       "<text x=\"198\" y=\"57\" font-size=\"6\" text-anchor=\"middle\">Rx</text>\n",
       "<path d=\"M125,125 L153,125 L172,144\" stroke=\"darkred\" stroke-width=\"3\" fill=\"none\" />\n",
       "<path d=\"M178,144 L197,125 L225,125\" stroke=\"darkred\" stroke-width=\"3\" fill=\"none\" />\n",
       "<path d=\"M125,175 L153,175 L172,156\" stroke=\"darkred\" stroke-width=\"3\" fill=\"none\" />\n",
       "<path d=\"M178,156 L197,175 L225,175\" stroke=\"darkred\" stroke-width=\"3\" fill=\"none\" />\n",
       "<path d=\"M150,143 L200,143 L200,157 L150,157 Z\" stroke=\"black\" fill=\"black\" stroke-linejoin=\"miter\" />\n",
       "<text x=\"175\" y=\"180\" font-size=\"7\" text-anchor=\"middle\"></text>\n",
       "<text x=\"175\" y=\"126\" font-size=\"7\" text-anchor=\"middle\">Θ=1.910786</text>\n",
       "<path d=\"M150,143 L200,143 L200,147 L150,147 Z\" stroke=\"black\" fill=\"lightgray\" stroke-linejoin=\"miter\" />\n",
       "<path d=\"M193,150 L203,150 L203,160 L193,160 Z\" stroke=\"black\" fill=\"thistle\" stroke-linejoin=\"miter\" />\n",
       "<text x=\"198\" y=\"157\" font-size=\"6\" text-anchor=\"middle\">Rx</text>\n",
       "<path d=\"M228,25 L272,25\" stroke=\"white\" stroke-width=\"6\" fill=\"none\" />\n",
       "<path d=\"M225,25 L228,25 L272,25 L275,25\" stroke=\"darkred\" stroke-width=\"3\" fill=\"none\" />\n",
       "<path d=\"M228,75 L272,125\" stroke=\"white\" stroke-width=\"6\" fill=\"none\" />\n",
       "<path d=\"M225,75 L228,75 L272,125 L275,125\" stroke=\"darkred\" stroke-width=\"3\" fill=\"none\" />\n",
       "<path d=\"M228,125 L272,75\" stroke=\"white\" stroke-width=\"6\" fill=\"none\" />\n",
       "<path d=\"M225,125 L228,125 L272,75 L275,75\" stroke=\"darkred\" stroke-width=\"3\" fill=\"none\" />\n",
       "<path d=\"M228,175 L272,175\" stroke=\"white\" stroke-width=\"6\" fill=\"none\" />\n",
       "<path d=\"M225,175 L228,175 L272,175 L275,175\" stroke=\"darkred\" stroke-width=\"3\" fill=\"none\" />\n",
       "<path d=\"M275,25 L303,25 L322,44\" stroke=\"darkred\" stroke-width=\"3\" fill=\"none\" />\n",
       "<path d=\"M328,44 L347,25 L375,25\" stroke=\"darkred\" stroke-width=\"3\" fill=\"none\" />\n",
       "<path d=\"M275,75 L303,75 L322,56\" stroke=\"darkred\" stroke-width=\"3\" fill=\"none\" />\n",
       "<path d=\"M328,56 L347,75 L375,75\" stroke=\"darkred\" stroke-width=\"3\" fill=\"none\" />\n",
       "<path d=\"M300,43 L350,43 L350,57 L300,57 Z\" stroke=\"black\" fill=\"black\" stroke-linejoin=\"miter\" />\n",
       "<text x=\"325\" y=\"80\" font-size=\"7\" text-anchor=\"middle\"></text>\n",
       "<text x=\"325\" y=\"26\" font-size=\"7\" text-anchor=\"middle\">Θ=-1.910786</text>\n",
       "<path d=\"M300,43 L350,43 L350,47 L300,47 Z\" stroke=\"black\" fill=\"lightgray\" stroke-linejoin=\"miter\" />\n",
       "<path d=\"M343,50 L353,50 L353,60 L343,60 Z\" stroke=\"black\" fill=\"thistle\" stroke-linejoin=\"miter\" />\n",
       "<text x=\"348\" y=\"57\" font-size=\"6\" text-anchor=\"middle\">Rx</text>\n",
       "<path d=\"M275,125 L303,125 L322,144\" stroke=\"darkred\" stroke-width=\"3\" fill=\"none\" />\n",
       "<path d=\"M328,144 L347,125 L375,125\" stroke=\"darkred\" stroke-width=\"3\" fill=\"none\" />\n",
       "<path d=\"M275,175 L303,175 L322,156\" stroke=\"darkred\" stroke-width=\"3\" fill=\"none\" />\n",
       "<path d=\"M328,156 L347,175 L375,175\" stroke=\"darkred\" stroke-width=\"3\" fill=\"none\" />\n",
       "<path d=\"M300,143 L350,143 L350,157 L300,157 Z\" stroke=\"black\" fill=\"black\" stroke-linejoin=\"miter\" />\n",
       "<text x=\"325\" y=\"180\" font-size=\"7\" text-anchor=\"middle\"></text>\n",
       "<text x=\"325\" y=\"126\" font-size=\"7\" text-anchor=\"middle\">Θ=0.615403</text>\n",
       "<path d=\"M300,143 L350,143 L350,147 L300,147 Z\" stroke=\"black\" fill=\"lightgray\" stroke-linejoin=\"miter\" />\n",
       "<path d=\"M343,150 L353,150 L353,160 L343,160 Z\" stroke=\"black\" fill=\"thistle\" stroke-linejoin=\"miter\" />\n",
       "<text x=\"348\" y=\"157\" font-size=\"6\" text-anchor=\"middle\">Rx</text>\n",
       "<path d=\"M375,25 L390,25\" stroke-width=\"3\" stroke=\"darkred\" stroke-linejoin=\"miter\" fill=\"none\" />\n",
       "<path d=\"M375,75 L390,75\" stroke-width=\"3\" stroke=\"darkred\" stroke-linejoin=\"miter\" fill=\"none\" />\n",
       "<path d=\"M375,125 L390,125\" stroke-width=\"3\" stroke=\"darkred\" stroke-linejoin=\"miter\" fill=\"none\" />\n",
       "<path d=\"M375,175 L390,175\" stroke-width=\"3\" stroke=\"darkred\" stroke-linejoin=\"miter\" fill=\"none\" />\n",
       "<text x=\"400\" y=\"28\" font-size=\"6\" text-anchor=\"end\">0</text>\n",
       "<text x=\"400\" y=\"78\" font-size=\"6\" text-anchor=\"end\">1</text>\n",
       "<text x=\"400\" y=\"128\" font-size=\"6\" text-anchor=\"end\">2</text>\n",
       "<text x=\"400\" y=\"178\" font-size=\"6\" text-anchor=\"end\">3</text>\n",
       "<text x=\"0\" y=\"28\" font-size=\"6\" text-anchor=\"start\">0</text>\n",
       "<text x=\"0\" y=\"78\" font-size=\"6\" text-anchor=\"start\">1</text>\n",
       "<text x=\"0\" y=\"128\" font-size=\"6\" text-anchor=\"start\">2</text>\n",
       "<text x=\"0\" y=\"178\" font-size=\"6\" text-anchor=\"start\">3</text>\n",
       "</svg>"
      ],
      "text/plain": [
       "<drawsvg.drawing.Drawing at 0x1500c6ad0>"
      ]
     },
     "execution_count": 2286,
     "metadata": {},
     "output_type": "execute_result"
    }
   ],
   "source": [
    "mzi = pcvl.Circuit(m=4, name=\"mzi\")\n",
    "mzi.add(0, comp.PS(phi1)).add(1, comp.PS(phi1)).add(0, comp.PERM([0, 2, 1, 3])).add(\n",
    "    (0, 1), comp.BS(theta)\n",
    ").add((2, 3), comp.BS(theta)).add(0, comp.PERM([0, 2, 1, 3])).add(\n",
    "    (0, 1), comp.BS(theta2)\n",
    ").add(\n",
    "    (2, 3), comp.BS(theta3)\n",
    ")\n",
    "pcvl.pdisplay(mzi)"
   ]
  },
  {
   "cell_type": "code",
   "execution_count": 2287,
   "metadata": {},
   "outputs": [
    {
     "data": {
      "text/latex": [
       "$\\displaystyle \\left[\\begin{matrix}0.333261 & - 0.471379 i & 0.471379 i & 0.666739\\\\- 0.471379 i & 0.333261 & 0.666739 & 0.471379 i\\\\0.77819 i & -0.247305 & 0.550174 & 0.174843 i\\\\-0.247305 & 0.77819 i & 0.174843 i & 0.550174\\end{matrix}\\right]$"
      ],
      "text/plain": [
       "<IPython.core.display.Math object>"
      ]
     },
     "metadata": {},
     "output_type": "display_data"
    }
   ],
   "source": [
    "pcvl.pdisplay(mzi.compute_unitary(use_symbolic=False))"
   ]
  },
  {
   "cell_type": "code",
   "execution_count": 2288,
   "metadata": {},
   "outputs": [
    {
     "data": {
      "image/svg+xml": [
       "<?xml version=\"1.0\" encoding=\"UTF-8\"?>\n",
       "<svg xmlns=\"http://www.w3.org/2000/svg\" xmlns:xlink=\"http://www.w3.org/1999/xlink\"\n",
       "     width=\"696.25\" height=\"406.25\" viewBox=\"-28.5 0 557.0 325.0\">\n",
       "<defs>\n",
       "</defs>\n",
       "<path d=\"M10,25 L25,25\" stroke-width=\"3\" stroke=\"darkred\" stroke-linejoin=\"miter\" fill=\"none\" />\n",
       "<path d=\"M10,75 L25,75\" stroke-width=\"3\" stroke=\"darkred\" stroke-linejoin=\"miter\" fill=\"none\" />\n",
       "<path d=\"M10,125 L25,125\" stroke-width=\"3\" stroke=\"darkred\" stroke-linejoin=\"miter\" fill=\"none\" />\n",
       "<path d=\"M10,175 L25,175\" stroke-width=\"3\" stroke=\"darkred\" stroke-linejoin=\"miter\" fill=\"none\" />\n",
       "<path d=\"M10,225 L25,225\" stroke-width=\"3\" stroke=\"darkred\" stroke-linejoin=\"miter\" fill=\"none\" />\n",
       "<path d=\"M10,275 L25,275\" stroke-width=\"3\" stroke=\"darkred\" stroke-linejoin=\"miter\" fill=\"none\" />\n",
       "<path d=\"M28,75 L72,125\" stroke=\"white\" stroke-width=\"6\" fill=\"none\" />\n",
       "<path d=\"M25,75 L28,75 L72,125 L75,125\" stroke=\"darkred\" stroke-width=\"3\" fill=\"none\" />\n",
       "<path d=\"M28,125 L72,75\" stroke=\"white\" stroke-width=\"6\" fill=\"none\" />\n",
       "<path d=\"M25,125 L28,125 L72,75 L75,75\" stroke=\"darkred\" stroke-width=\"3\" fill=\"none\" />\n",
       "<path d=\"M75,125 L125,125\" stroke=\"darkred\" stroke-width=\"3\" fill=\"none\" />\n",
       "<path d=\"M80,140 L89,140 L103,110 L94,110 L80,140 L89,140 Z\" stroke=\"black\" fill=\"gray\" stroke-linejoin=\"miter\" />\n",
       "<text x=\"97\" y=\"138\" font-size=\"7\" text-anchor=\"start\">Φ=0</text>\n",
       "<path d=\"M25,175 L75,175\" stroke=\"darkred\" stroke-width=\"3\" fill=\"none\" />\n",
       "<path d=\"M30,190 L39,190 L53,160 L44,160 L30,190 L39,190 Z\" stroke=\"black\" fill=\"gray\" stroke-linejoin=\"miter\" />\n",
       "<text x=\"47\" y=\"188\" font-size=\"7\" text-anchor=\"start\">Φ=0</text>\n",
       "<path d=\"M75,175 L125,175\" stroke=\"darkred\" stroke-width=\"3\" fill=\"none\" />\n",
       "<path d=\"M25,225 L125,225\" stroke=\"darkred\" stroke-width=\"3\" fill=\"none\" />\n",
       "<path d=\"M25,275 L125,275\" stroke=\"darkred\" stroke-width=\"3\" fill=\"none\" />\n",
       "<path d=\"M128,125 L172,125\" stroke=\"white\" stroke-width=\"6\" fill=\"none\" />\n",
       "<path d=\"M125,125 L128,125 L172,125 L175,125\" stroke=\"darkred\" stroke-width=\"3\" fill=\"none\" />\n",
       "<path d=\"M128,175 L172,225\" stroke=\"white\" stroke-width=\"6\" fill=\"none\" />\n",
       "<path d=\"M125,175 L128,175 L172,225 L175,225\" stroke=\"darkred\" stroke-width=\"3\" fill=\"none\" />\n",
       "<path d=\"M128,225 L172,175\" stroke=\"white\" stroke-width=\"6\" fill=\"none\" />\n",
       "<path d=\"M125,225 L128,225 L172,175 L175,175\" stroke=\"darkred\" stroke-width=\"3\" fill=\"none\" />\n",
       "<path d=\"M128,275 L172,275\" stroke=\"white\" stroke-width=\"6\" fill=\"none\" />\n",
       "<path d=\"M125,275 L128,275 L172,275 L175,275\" stroke=\"darkred\" stroke-width=\"3\" fill=\"none\" />\n",
       "<path d=\"M175,125 L203,125 L222,144\" stroke=\"darkred\" stroke-width=\"3\" fill=\"none\" />\n",
       "<path d=\"M228,144 L247,125 L275,125\" stroke=\"darkred\" stroke-width=\"3\" fill=\"none\" />\n",
       "<path d=\"M175,175 L203,175 L222,156\" stroke=\"darkred\" stroke-width=\"3\" fill=\"none\" />\n",
       "<path d=\"M228,156 L247,175 L275,175\" stroke=\"darkred\" stroke-width=\"3\" fill=\"none\" />\n",
       "<path d=\"M200,143 L250,143 L250,157 L200,157 Z\" stroke=\"black\" fill=\"black\" stroke-linejoin=\"miter\" />\n",
       "<text x=\"225\" y=\"180\" font-size=\"7\" text-anchor=\"middle\"></text>\n",
       "<text x=\"225\" y=\"126\" font-size=\"7\" text-anchor=\"middle\">Θ=1.910786</text>\n",
       "<path d=\"M200,143 L250,143 L250,147 L200,147 Z\" stroke=\"black\" fill=\"lightgray\" stroke-linejoin=\"miter\" />\n",
       "<path d=\"M243,150 L253,150 L253,160 L243,160 Z\" stroke=\"black\" fill=\"thistle\" stroke-linejoin=\"miter\" />\n",
       "<text x=\"248\" y=\"157\" font-size=\"6\" text-anchor=\"middle\">Rx</text>\n",
       "<path d=\"M175,225 L203,225 L222,244\" stroke=\"darkred\" stroke-width=\"3\" fill=\"none\" />\n",
       "<path d=\"M228,244 L247,225 L275,225\" stroke=\"darkred\" stroke-width=\"3\" fill=\"none\" />\n",
       "<path d=\"M175,275 L203,275 L222,256\" stroke=\"darkred\" stroke-width=\"3\" fill=\"none\" />\n",
       "<path d=\"M228,256 L247,275 L275,275\" stroke=\"darkred\" stroke-width=\"3\" fill=\"none\" />\n",
       "<path d=\"M200,243 L250,243 L250,257 L200,257 Z\" stroke=\"black\" fill=\"black\" stroke-linejoin=\"miter\" />\n",
       "<text x=\"225\" y=\"280\" font-size=\"7\" text-anchor=\"middle\"></text>\n",
       "<text x=\"225\" y=\"226\" font-size=\"7\" text-anchor=\"middle\">Θ=1.910786</text>\n",
       "<path d=\"M200,243 L250,243 L250,247 L200,247 Z\" stroke=\"black\" fill=\"lightgray\" stroke-linejoin=\"miter\" />\n",
       "<path d=\"M243,250 L253,250 L253,260 L243,260 Z\" stroke=\"black\" fill=\"thistle\" stroke-linejoin=\"miter\" />\n",
       "<text x=\"248\" y=\"257\" font-size=\"6\" text-anchor=\"middle\">Rx</text>\n",
       "<path d=\"M278,125 L322,125\" stroke=\"white\" stroke-width=\"6\" fill=\"none\" />\n",
       "<path d=\"M275,125 L278,125 L322,125 L325,125\" stroke=\"darkred\" stroke-width=\"3\" fill=\"none\" />\n",
       "<path d=\"M278,175 L322,225\" stroke=\"white\" stroke-width=\"6\" fill=\"none\" />\n",
       "<path d=\"M275,175 L278,175 L322,225 L325,225\" stroke=\"darkred\" stroke-width=\"3\" fill=\"none\" />\n",
       "<path d=\"M278,225 L322,175\" stroke=\"white\" stroke-width=\"6\" fill=\"none\" />\n",
       "<path d=\"M275,225 L278,225 L322,175 L325,175\" stroke=\"darkred\" stroke-width=\"3\" fill=\"none\" />\n",
       "<path d=\"M278,275 L322,275\" stroke=\"white\" stroke-width=\"6\" fill=\"none\" />\n",
       "<path d=\"M275,275 L278,275 L322,275 L325,275\" stroke=\"darkred\" stroke-width=\"3\" fill=\"none\" />\n",
       "<path d=\"M325,125 L353,125 L372,144\" stroke=\"darkred\" stroke-width=\"3\" fill=\"none\" />\n",
       "<path d=\"M378,144 L397,125 L425,125\" stroke=\"darkred\" stroke-width=\"3\" fill=\"none\" />\n",
       "<path d=\"M325,175 L353,175 L372,156\" stroke=\"darkred\" stroke-width=\"3\" fill=\"none\" />\n",
       "<path d=\"M378,156 L397,175 L425,175\" stroke=\"darkred\" stroke-width=\"3\" fill=\"none\" />\n",
       "<path d=\"M350,143 L400,143 L400,157 L350,157 Z\" stroke=\"black\" fill=\"black\" stroke-linejoin=\"miter\" />\n",
       "<text x=\"375\" y=\"180\" font-size=\"7\" text-anchor=\"middle\"></text>\n",
       "<text x=\"375\" y=\"126\" font-size=\"7\" text-anchor=\"middle\">Θ=-1.910786</text>\n",
       "<path d=\"M350,143 L400,143 L400,147 L350,147 Z\" stroke=\"black\" fill=\"lightgray\" stroke-linejoin=\"miter\" />\n",
       "<path d=\"M393,150 L403,150 L403,160 L393,160 Z\" stroke=\"black\" fill=\"thistle\" stroke-linejoin=\"miter\" />\n",
       "<text x=\"398\" y=\"157\" font-size=\"6\" text-anchor=\"middle\">Rx</text>\n",
       "<path d=\"M325,225 L353,225 L372,244\" stroke=\"darkred\" stroke-width=\"3\" fill=\"none\" />\n",
       "<path d=\"M378,244 L397,225 L425,225\" stroke=\"darkred\" stroke-width=\"3\" fill=\"none\" />\n",
       "<path d=\"M325,275 L353,275 L372,256\" stroke=\"darkred\" stroke-width=\"3\" fill=\"none\" />\n",
       "<path d=\"M378,256 L397,275 L425,275\" stroke=\"darkred\" stroke-width=\"3\" fill=\"none\" />\n",
       "<path d=\"M350,243 L400,243 L400,257 L350,257 Z\" stroke=\"black\" fill=\"black\" stroke-linejoin=\"miter\" />\n",
       "<text x=\"375\" y=\"280\" font-size=\"7\" text-anchor=\"middle\"></text>\n",
       "<text x=\"375\" y=\"226\" font-size=\"7\" text-anchor=\"middle\">Θ=0.615403</text>\n",
       "<path d=\"M350,243 L400,243 L400,247 L350,247 Z\" stroke=\"black\" fill=\"lightgray\" stroke-linejoin=\"miter\" />\n",
       "<path d=\"M393,250 L403,250 L403,260 L393,260 Z\" stroke=\"black\" fill=\"thistle\" stroke-linejoin=\"miter\" />\n",
       "<text x=\"398\" y=\"257\" font-size=\"6\" text-anchor=\"middle\">Rx</text>\n",
       "<path d=\"M75,75 L425,75\" stroke=\"darkred\" stroke-width=\"3\" fill=\"none\" />\n",
       "<path d=\"M428,75 L472,125\" stroke=\"white\" stroke-width=\"6\" fill=\"none\" />\n",
       "<path d=\"M425,75 L428,75 L472,125 L475,125\" stroke=\"darkred\" stroke-width=\"3\" fill=\"none\" />\n",
       "<path d=\"M428,125 L472,75\" stroke=\"white\" stroke-width=\"6\" fill=\"none\" />\n",
       "<path d=\"M425,125 L428,125 L472,75 L475,75\" stroke=\"darkred\" stroke-width=\"3\" fill=\"none\" />\n",
       "<path d=\"M25,25 L475,25\" stroke=\"darkred\" stroke-width=\"3\" fill=\"none\" />\n",
       "<path d=\"M425,175 L475,175\" stroke=\"darkred\" stroke-width=\"3\" fill=\"none\" />\n",
       "<path d=\"M425,225 L475,225\" stroke=\"darkred\" stroke-width=\"3\" fill=\"none\" />\n",
       "<path d=\"M425,275 L475,275\" stroke=\"darkred\" stroke-width=\"3\" fill=\"none\" />\n",
       "<path d=\"M475,25 L490,25\" stroke-width=\"3\" stroke=\"darkred\" stroke-linejoin=\"miter\" fill=\"none\" />\n",
       "<path d=\"M475,75 L490,75\" stroke-width=\"3\" stroke=\"darkred\" stroke-linejoin=\"miter\" fill=\"none\" />\n",
       "<path d=\"M475,125 L490,125\" stroke-width=\"3\" stroke=\"darkred\" stroke-linejoin=\"miter\" fill=\"none\" />\n",
       "<path d=\"M475,175 L490,175\" stroke-width=\"3\" stroke=\"darkred\" stroke-linejoin=\"miter\" fill=\"none\" />\n",
       "<path d=\"M475,225 L490,225\" stroke-width=\"3\" stroke=\"darkred\" stroke-linejoin=\"miter\" fill=\"none\" />\n",
       "<path d=\"M475,275 L490,275\" stroke-width=\"3\" stroke=\"darkred\" stroke-linejoin=\"miter\" fill=\"none\" />\n",
       "<text x=\"500\" y=\"28\" font-size=\"7\" text-anchor=\"end\">0</text>\n",
       "<text x=\"500\" y=\"78\" font-size=\"7\" text-anchor=\"end\">1</text>\n",
       "<text x=\"500\" y=\"128\" font-size=\"7\" text-anchor=\"end\">2</text>\n",
       "<text x=\"500\" y=\"178\" font-size=\"7\" text-anchor=\"end\">3</text>\n",
       "<text x=\"500\" y=\"228\" font-size=\"7\" text-anchor=\"end\">4</text>\n",
       "<text x=\"500\" y=\"278\" font-size=\"7\" text-anchor=\"end\">5</text>\n",
       "<text x=\"0\" y=\"28\" font-size=\"7\" text-anchor=\"start\">0</text>\n",
       "<text x=\"0\" y=\"78\" font-size=\"7\" text-anchor=\"start\">1</text>\n",
       "<text x=\"0\" y=\"128\" font-size=\"7\" text-anchor=\"start\">2</text>\n",
       "<text x=\"0\" y=\"178\" font-size=\"7\" text-anchor=\"start\">3</text>\n",
       "<text x=\"0\" y=\"228\" font-size=\"7\" text-anchor=\"start\">4</text>\n",
       "<text x=\"0\" y=\"278\" font-size=\"7\" text-anchor=\"start\">5</text>\n",
       "</svg>"
      ],
      "text/plain": [
       "<drawsvg.drawing.Drawing at 0x153f215a0>"
      ]
     },
     "execution_count": 2288,
     "metadata": {},
     "output_type": "execute_result"
    }
   ],
   "source": [
    "c1 = (\n",
    "    Circuit(6, name=\"Heralded CZ\")\n",
    "    .add(1, PERM([1, 0]))\n",
    "    .add(2, mzi, merge=True)\n",
    "    .add(1, PERM([1, 0]))\n",
    ")\n",
    "\n",
    "p1 = Processor(\"SLOS\", c1)\n",
    "p1.add_herald(4, 1).add_herald(5, 1)\n",
    "pcvl.pdisplay(c1)"
   ]
  },
  {
   "cell_type": "code",
   "execution_count": 2289,
   "metadata": {},
   "outputs": [
    {
     "data": {
      "text/html": [
       "<table>\n",
       "<thead>\n",
       "<tr><th style=\"text-align: right;\">  </th><th style=\"text-align: right;\">  00</th><th style=\"text-align: right;\">  01</th><th style=\"text-align: right;\">  10</th><th style=\"text-align: right;\">  11</th></tr>\n",
       "</thead>\n",
       "<tbody>\n",
       "<tr><td style=\"text-align: right;\">00</td><td style=\"text-align: right;\">   0</td><td style=\"text-align: right;\">   1</td><td style=\"text-align: right;\">   0</td><td style=\"text-align: right;\">   0</td></tr>\n",
       "<tr><td style=\"text-align: right;\">01</td><td style=\"text-align: right;\">   1</td><td style=\"text-align: right;\">   0</td><td style=\"text-align: right;\">   0</td><td style=\"text-align: right;\">   0</td></tr>\n",
       "<tr><td style=\"text-align: right;\">10</td><td style=\"text-align: right;\">   0</td><td style=\"text-align: right;\">   0</td><td style=\"text-align: right;\">   1</td><td style=\"text-align: right;\">   0</td></tr>\n",
       "<tr><td style=\"text-align: right;\">11</td><td style=\"text-align: right;\">   0</td><td style=\"text-align: right;\">   0</td><td style=\"text-align: right;\">   0</td><td style=\"text-align: right;\">   1</td></tr>\n",
       "</tbody>\n",
       "</table>"
      ],
      "text/plain": [
       "<IPython.core.display.HTML object>"
      ]
     },
     "metadata": {},
     "output_type": "display_data"
    },
    {
     "name": "stdout",
     "output_type": "stream",
     "text": [
      "performance = 0.07406604842851172, fidelity = 8.47324443942199e-09\n"
     ]
    }
   ],
   "source": [
    "# First,we convert the CZ to a CNOT\n",
    "proc = Processor(\"SLOS\", 4)\n",
    "proc.add(2, pcvl.BS.H())\n",
    "proc.add(0, p1)\n",
    "proc.add(2, pcvl.BS.H())\n",
    "\n",
    "states = {\n",
    "    pcvl.BasicState([1, 0, 1, 0]): \"00\",\n",
    "    pcvl.BasicState([1, 0, 0, 1]): \"01\",\n",
    "    pcvl.BasicState([0, 1, 1, 0]): \"10\",\n",
    "    pcvl.BasicState([0, 1, 0, 1]): \"11\",\n",
    "}\n",
    "\n",
    "ca = pcvl.algorithm.Analyzer(proc, states)\n",
    "\n",
    "truth_table = {\"00\": \"00\", \"01\": \"01\", \"10\": \"11\", \"11\": \"10\"}\n",
    "ca.compute(expected=truth_table)\n",
    "\n",
    "pcvl.pdisplay(ca)\n",
    "print(f\"performance = {ca.performance}, fidelity = {ca.fidelity.real}\")"
   ]
  },
  {
   "cell_type": "code",
   "execution_count": 2290,
   "metadata": {},
   "outputs": [],
   "source": [
    "phi1.reset()\n",
    "phi2.reset()\n",
    "theta.reset()\n",
    "theta2.reset()\n",
    "theta3.reset()"
   ]
  },
  {
   "cell_type": "code",
   "execution_count": 2291,
   "metadata": {},
   "outputs": [],
   "source": [
    "phis = [pcvl.P(\"Phi\" + str(i)) for i in range(0, 6)]\n",
    "thetas = [pcvl.P(\"Theta\" + str(i)) for i in range(0, 12)]"
   ]
  },
  {
   "cell_type": "code",
   "execution_count": 2292,
   "metadata": {},
   "outputs": [],
   "source": [
    "import random"
   ]
  },
  {
   "cell_type": "code",
   "execution_count": 2293,
   "metadata": {},
   "outputs": [],
   "source": [
    "def set_phis(phis, values=None):\n",
    "    if not values:\n",
    "        phis = [phis[i].set_value(random.random() * 2 * math.pi) for i in range(6)]\n",
    "    else:\n",
    "        phis = [phis[i].set_value(values[i]) for i in range(6)]\n",
    "\n",
    "\n",
    "def set_thetas(thetas, values=None):\n",
    "    if not values:\n",
    "        thetas = [thetas[i].set_value(random.random() * 2 * math.pi) for i in range(12)]\n",
    "    else:\n",
    "        thetas = [thetas[i].set_value(values[i]) for i in range(12)]"
   ]
  },
  {
   "cell_type": "code",
   "execution_count": 2294,
   "metadata": {},
   "outputs": [],
   "source": [
    "mzi = pcvl.Circuit(m=6, name=\"CCZ6\")"
   ]
  },
  {
   "cell_type": "code",
   "execution_count": 2295,
   "metadata": {},
   "outputs": [],
   "source": [
    "for i in range(len(phis)):\n",
    "    mzi.add(i, comp.PS(phis[i]))"
   ]
  },
  {
   "cell_type": "code",
   "execution_count": 2296,
   "metadata": {},
   "outputs": [
    {
     "data": {
      "text/plain": [
       "<perceval.components.linear_circuit.Circuit at 0x155e81b10>"
      ]
     },
     "execution_count": 2296,
     "metadata": {},
     "output_type": "execute_result"
    }
   ],
   "source": [
    "mzi.add((2, 3), BS(thetas[0]))\n",
    "mzi.add(2, PERM([1, 0]))\n",
    "mzi.add((3, 4), BS(thetas[1]))\n",
    "mzi.add(3, PERM([1, 0]))\n",
    "mzi.add((4, 5), BS(thetas[2]))\n",
    "mzi.add(3, PERM([1, 0]))\n",
    "mzi.add(2, PERM([1, 0]))\n",
    "\n",
    "mzi.add(1, PERM([1, 0]))\n",
    "mzi.add((2, 3), BS(thetas[3]))\n",
    "mzi.add(2, PERM([1, 0]))\n",
    "mzi.add((3, 4), BS(thetas[4]))\n",
    "mzi.add(3, PERM([1, 0]))\n",
    "mzi.add((4, 5), BS(thetas[5]))\n",
    "mzi.add(3, PERM([1, 0]))\n",
    "mzi.add(2, PERM([1, 0]))\n",
    "mzi.add(1, PERM([1, 0]))\n",
    "\n",
    "mzi.add(0, PERM([1, 0]))\n",
    "mzi.add(1, PERM([1, 0]))\n",
    "mzi.add((2, 3), BS(thetas[6]))\n",
    "mzi.add(2, PERM([1, 0]))\n",
    "mzi.add((3, 4), BS(thetas[7]))\n",
    "mzi.add(3, PERM([1, 0]))\n",
    "mzi.add((4, 5), BS(thetas[8]))\n",
    "mzi.add(3, PERM([1, 0]))\n",
    "mzi.add(2, PERM([1, 0]))\n",
    "mzi.add(1, PERM([1, 0]))\n",
    "mzi.add(0, PERM([1, 0]))\n",
    "\n",
    "mzi.add((0, 1), BS(thetas[9]))\n",
    "mzi.add((1, 2), BS(thetas[10]))\n",
    "\n",
    "mzi.add(0, PERM([1, 0]))\n",
    "mzi.add((1, 2), BS(thetas[11]))\n",
    "mzi.add(0, PERM([1, 0]))"
   ]
  },
  {
   "cell_type": "code",
   "execution_count": 2297,
   "metadata": {},
   "outputs": [],
   "source": [
    "pcvl.pdisplay(mzi)\n",
    "pcvl.pdisplay_to_file(mzi, \"mzi.png\")"
   ]
  },
  {
   "cell_type": "code",
   "execution_count": 2298,
   "metadata": {},
   "outputs": [
    {
     "data": {
      "text/latex": [
       "$\\displaystyle \\left[\\begin{matrix}- 1.0 i e^{i \\Phi_{0}} \\sin{\\left(\\frac{\\Theta_{10}}{2} \\right)} \\sin{\\left(\\frac{\\Theta_{11}}{2} \\right)} \\sin{\\left(\\frac{\\Theta_{9}}{2} \\right)} \\cos{\\left(\\frac{\\Theta_{6}}{2} \\right)} \\cos{\\left(\\frac{\\Theta_{7}}{2} \\right)} \\cos{\\left(\\frac{\\Theta_{8}}{2} \\right)} + 1.0 e^{i \\Phi_{0}} \\cos{\\left(\\frac{\\Theta_{11}}{2} \\right)} \\cos{\\left(\\frac{\\Theta_{6}}{2} \\right)} \\cos{\\left(\\frac{\\Theta_{7}}{2} \\right)} \\cos{\\left(\\frac{\\Theta_{8}}{2} \\right)} \\cos{\\left(\\frac{\\Theta_{9}}{2} \\right)} & 1.0 \\cdot \\left(1.0 \\cdot \\left(1.0 \\left(- 1.0 e^{i \\Phi_{1}} \\sin{\\left(\\frac{\\Theta_{3}}{2} \\right)} \\sin{\\left(\\frac{\\Theta_{6}}{2} \\right)} \\cos{\\left(\\frac{\\Theta_{7}}{2} \\right)} - 1.0 e^{i \\Phi_{1}} \\sin{\\left(\\frac{\\Theta_{4}}{2} \\right)} \\sin{\\left(\\frac{\\Theta_{7}}{2} \\right)} \\cos{\\left(\\frac{\\Theta_{3}}{2} \\right)}\\right) \\cos{\\left(\\frac{\\Theta_{8}}{2} \\right)} - 1.0 e^{i \\Phi_{1}} \\sin{\\left(\\frac{\\Theta_{5}}{2} \\right)} \\sin{\\left(\\frac{\\Theta_{8}}{2} \\right)} \\cos{\\left(\\frac{\\Theta_{3}}{2} \\right)} \\cos{\\left(\\frac{\\Theta_{4}}{2} \\right)}\\right) \\cos{\\left(\\frac{\\Theta_{9}}{2} \\right)} + 1.0 i e^{i \\Phi_{1}} \\sin{\\left(\\frac{\\Theta_{9}}{2} \\right)} \\cos{\\left(\\frac{\\Theta_{3}}{2} \\right)} \\cos{\\left(\\frac{\\Theta_{4}}{2} \\right)} \\cos{\\left(\\frac{\\Theta_{5}}{2} \\right)}\\right) \\cos{\\left(\\frac{\\Theta_{11}}{2} \\right)} - 1.0 \\left(i \\left(1.0 \\left(- 1.0 e^{i \\Phi_{1}} \\sin{\\left(\\frac{\\Theta_{3}}{2} \\right)} \\sin{\\left(\\frac{\\Theta_{6}}{2} \\right)} \\cos{\\left(\\frac{\\Theta_{7}}{2} \\right)} - 1.0 e^{i \\Phi_{1}} \\sin{\\left(\\frac{\\Theta_{4}}{2} \\right)} \\sin{\\left(\\frac{\\Theta_{7}}{2} \\right)} \\cos{\\left(\\frac{\\Theta_{3}}{2} \\right)}\\right) \\cos{\\left(\\frac{\\Theta_{8}}{2} \\right)} - 1.0 e^{i \\Phi_{1}} \\sin{\\left(\\frac{\\Theta_{5}}{2} \\right)} \\sin{\\left(\\frac{\\Theta_{8}}{2} \\right)} \\cos{\\left(\\frac{\\Theta_{3}}{2} \\right)} \\cos{\\left(\\frac{\\Theta_{4}}{2} \\right)}\\right) \\sin{\\left(\\frac{\\Theta_{9}}{2} \\right)} + 1.0 e^{i \\Phi_{1}} \\cos{\\left(\\frac{\\Theta_{3}}{2} \\right)} \\cos{\\left(\\frac{\\Theta_{4}}{2} \\right)} \\cos{\\left(\\frac{\\Theta_{5}}{2} \\right)} \\cos{\\left(\\frac{\\Theta_{9}}{2} \\right)}\\right) \\sin{\\left(\\frac{\\Theta_{10}}{2} \\right)} \\sin{\\left(\\frac{\\Theta_{11}}{2} \\right)} & 1.0 i \\left(i \\left(\\left(1.0 \\left(- 1.0 e^{i \\Phi_{2}} \\sin{\\left(\\frac{\\Theta_{0}}{2} \\right)} \\sin{\\left(\\frac{\\Theta_{3}}{2} \\right)} \\cos{\\left(\\frac{\\Theta_{4}}{2} \\right)} - 1.0 e^{i \\Phi_{2}} \\sin{\\left(\\frac{\\Theta_{1}}{2} \\right)} \\sin{\\left(\\frac{\\Theta_{4}}{2} \\right)} \\cos{\\left(\\frac{\\Theta_{0}}{2} \\right)}\\right) \\cos{\\left(\\frac{\\Theta_{5}}{2} \\right)} - 1.0 e^{i \\Phi_{2}} \\sin{\\left(\\frac{\\Theta_{2}}{2} \\right)} \\sin{\\left(\\frac{\\Theta_{5}}{2} \\right)} \\cos{\\left(\\frac{\\Theta_{0}}{2} \\right)} \\cos{\\left(\\frac{\\Theta_{1}}{2} \\right)}\\right) \\cos{\\left(\\frac{\\Theta_{9}}{2} \\right)} + i \\left(1.0 i \\left(i \\left(- 1.0 e^{i \\Phi_{2}} \\sin{\\left(\\frac{\\Theta_{0}}{2} \\right)} \\sin{\\left(\\frac{\\Theta_{3}}{2} \\right)} \\cos{\\left(\\frac{\\Theta_{4}}{2} \\right)} - 1.0 e^{i \\Phi_{2}} \\sin{\\left(\\frac{\\Theta_{1}}{2} \\right)} \\sin{\\left(\\frac{\\Theta_{4}}{2} \\right)} \\cos{\\left(\\frac{\\Theta_{0}}{2} \\right)}\\right) \\sin{\\left(\\frac{\\Theta_{5}}{2} \\right)} + 1.0 i e^{i \\Phi_{2}} \\sin{\\left(\\frac{\\Theta_{2}}{2} \\right)} \\cos{\\left(\\frac{\\Theta_{0}}{2} \\right)} \\cos{\\left(\\frac{\\Theta_{1}}{2} \\right)} \\cos{\\left(\\frac{\\Theta_{5}}{2} \\right)}\\right) \\sin{\\left(\\frac{\\Theta_{8}}{2} \\right)} + 1.0 \\cdot \\left(1.0 i \\left(- 1.0 i e^{i \\Phi_{2}} \\sin{\\left(\\frac{\\Theta_{0}}{2} \\right)} \\sin{\\left(\\frac{\\Theta_{3}}{2} \\right)} \\sin{\\left(\\frac{\\Theta_{4}}{2} \\right)} + 1.0 i e^{i \\Phi_{2}} \\sin{\\left(\\frac{\\Theta_{1}}{2} \\right)} \\cos{\\left(\\frac{\\Theta_{0}}{2} \\right)} \\cos{\\left(\\frac{\\Theta_{4}}{2} \\right)}\\right) \\sin{\\left(\\frac{\\Theta_{7}}{2} \\right)} - 1.0 e^{i \\Phi_{2}} \\sin{\\left(\\frac{\\Theta_{0}}{2} \\right)} \\sin{\\left(\\frac{\\Theta_{6}}{2} \\right)} \\cos{\\left(\\frac{\\Theta_{3}}{2} \\right)} \\cos{\\left(\\frac{\\Theta_{7}}{2} \\right)}\\right) \\cos{\\left(\\frac{\\Theta_{8}}{2} \\right)}\\right) \\sin{\\left(\\frac{\\Theta_{9}}{2} \\right)}\\right) \\sin{\\left(\\frac{\\Theta_{10}}{2} \\right)} + 1.0 e^{i \\Phi_{2}} \\cos{\\left(\\frac{\\Theta_{0}}{2} \\right)} \\cos{\\left(\\frac{\\Theta_{1}}{2} \\right)} \\cos{\\left(\\frac{\\Theta_{10}}{2} \\right)} \\cos{\\left(\\frac{\\Theta_{2}}{2} \\right)}\\right) \\sin{\\left(\\frac{\\Theta_{11}}{2} \\right)} + 1.0 \\cdot \\left(1.0 i \\left(1.0 \\left(- 1.0 e^{i \\Phi_{2}} \\sin{\\left(\\frac{\\Theta_{0}}{2} \\right)} \\sin{\\left(\\frac{\\Theta_{3}}{2} \\right)} \\cos{\\left(\\frac{\\Theta_{4}}{2} \\right)} - 1.0 e^{i \\Phi_{2}} \\sin{\\left(\\frac{\\Theta_{1}}{2} \\right)} \\sin{\\left(\\frac{\\Theta_{4}}{2} \\right)} \\cos{\\left(\\frac{\\Theta_{0}}{2} \\right)}\\right) \\cos{\\left(\\frac{\\Theta_{5}}{2} \\right)} - 1.0 e^{i \\Phi_{2}} \\sin{\\left(\\frac{\\Theta_{2}}{2} \\right)} \\sin{\\left(\\frac{\\Theta_{5}}{2} \\right)} \\cos{\\left(\\frac{\\Theta_{0}}{2} \\right)} \\cos{\\left(\\frac{\\Theta_{1}}{2} \\right)}\\right) \\sin{\\left(\\frac{\\Theta_{9}}{2} \\right)} + 1.0 \\cdot \\left(1.0 i \\left(i \\left(- 1.0 e^{i \\Phi_{2}} \\sin{\\left(\\frac{\\Theta_{0}}{2} \\right)} \\sin{\\left(\\frac{\\Theta_{3}}{2} \\right)} \\cos{\\left(\\frac{\\Theta_{4}}{2} \\right)} - 1.0 e^{i \\Phi_{2}} \\sin{\\left(\\frac{\\Theta_{1}}{2} \\right)} \\sin{\\left(\\frac{\\Theta_{4}}{2} \\right)} \\cos{\\left(\\frac{\\Theta_{0}}{2} \\right)}\\right) \\sin{\\left(\\frac{\\Theta_{5}}{2} \\right)} + 1.0 i e^{i \\Phi_{2}} \\sin{\\left(\\frac{\\Theta_{2}}{2} \\right)} \\cos{\\left(\\frac{\\Theta_{0}}{2} \\right)} \\cos{\\left(\\frac{\\Theta_{1}}{2} \\right)} \\cos{\\left(\\frac{\\Theta_{5}}{2} \\right)}\\right) \\sin{\\left(\\frac{\\Theta_{8}}{2} \\right)} + 1.0 \\cdot \\left(1.0 i \\left(- 1.0 i e^{i \\Phi_{2}} \\sin{\\left(\\frac{\\Theta_{0}}{2} \\right)} \\sin{\\left(\\frac{\\Theta_{3}}{2} \\right)} \\sin{\\left(\\frac{\\Theta_{4}}{2} \\right)} + 1.0 i e^{i \\Phi_{2}} \\sin{\\left(\\frac{\\Theta_{1}}{2} \\right)} \\cos{\\left(\\frac{\\Theta_{0}}{2} \\right)} \\cos{\\left(\\frac{\\Theta_{4}}{2} \\right)}\\right) \\sin{\\left(\\frac{\\Theta_{7}}{2} \\right)} - 1.0 e^{i \\Phi_{2}} \\sin{\\left(\\frac{\\Theta_{0}}{2} \\right)} \\sin{\\left(\\frac{\\Theta_{6}}{2} \\right)} \\cos{\\left(\\frac{\\Theta_{3}}{2} \\right)} \\cos{\\left(\\frac{\\Theta_{7}}{2} \\right)}\\right) \\cos{\\left(\\frac{\\Theta_{8}}{2} \\right)}\\right) \\cos{\\left(\\frac{\\Theta_{9}}{2} \\right)}\\right) \\cos{\\left(\\frac{\\Theta_{11}}{2} \\right)} & 1.0 \\cdot \\left(1.0 \\cdot \\left(1.0 \\cdot \\left(1.0 i \\left(- 1.0 e^{i \\Phi_{3}} \\sin{\\left(\\frac{\\Theta_{0}}{2} \\right)} \\sin{\\left(\\frac{\\Theta_{1}}{2} \\right)} \\cos{\\left(\\frac{\\Theta_{4}}{2} \\right)} - 1.0 e^{i \\Phi_{3}} \\sin{\\left(\\frac{\\Theta_{3}}{2} \\right)} \\sin{\\left(\\frac{\\Theta_{4}}{2} \\right)} \\cos{\\left(\\frac{\\Theta_{0}}{2} \\right)}\\right) \\sin{\\left(\\frac{\\Theta_{7}}{2} \\right)} + 1.0 i e^{i \\Phi_{3}} \\sin{\\left(\\frac{\\Theta_{6}}{2} \\right)} \\cos{\\left(\\frac{\\Theta_{0}}{2} \\right)} \\cos{\\left(\\frac{\\Theta_{3}}{2} \\right)} \\cos{\\left(\\frac{\\Theta_{7}}{2} \\right)}\\right) \\cos{\\left(\\frac{\\Theta_{8}}{2} \\right)} + 1.0 i \\left(i \\left(- 1.0 i e^{i \\Phi_{3}} \\sin{\\left(\\frac{\\Theta_{0}}{2} \\right)} \\sin{\\left(\\frac{\\Theta_{1}}{2} \\right)} \\sin{\\left(\\frac{\\Theta_{4}}{2} \\right)} + 1.0 i e^{i \\Phi_{3}} \\sin{\\left(\\frac{\\Theta_{3}}{2} \\right)} \\cos{\\left(\\frac{\\Theta_{0}}{2} \\right)} \\cos{\\left(\\frac{\\Theta_{4}}{2} \\right)}\\right) \\sin{\\left(\\frac{\\Theta_{5}}{2} \\right)} - 1.0 e^{i \\Phi_{3}} \\sin{\\left(\\frac{\\Theta_{0}}{2} \\right)} \\sin{\\left(\\frac{\\Theta_{2}}{2} \\right)} \\cos{\\left(\\frac{\\Theta_{1}}{2} \\right)} \\cos{\\left(\\frac{\\Theta_{5}}{2} \\right)}\\right) \\sin{\\left(\\frac{\\Theta_{8}}{2} \\right)}\\right) \\cos{\\left(\\frac{\\Theta_{9}}{2} \\right)} + 1.0 i \\left(1.0 \\left(- 1.0 i e^{i \\Phi_{3}} \\sin{\\left(\\frac{\\Theta_{0}}{2} \\right)} \\sin{\\left(\\frac{\\Theta_{1}}{2} \\right)} \\sin{\\left(\\frac{\\Theta_{4}}{2} \\right)} + 1.0 i e^{i \\Phi_{3}} \\sin{\\left(\\frac{\\Theta_{3}}{2} \\right)} \\cos{\\left(\\frac{\\Theta_{0}}{2} \\right)} \\cos{\\left(\\frac{\\Theta_{4}}{2} \\right)}\\right) \\cos{\\left(\\frac{\\Theta_{5}}{2} \\right)} - 1.0 i e^{i \\Phi_{3}} \\sin{\\left(\\frac{\\Theta_{0}}{2} \\right)} \\sin{\\left(\\frac{\\Theta_{2}}{2} \\right)} \\sin{\\left(\\frac{\\Theta_{5}}{2} \\right)} \\cos{\\left(\\frac{\\Theta_{1}}{2} \\right)}\\right) \\sin{\\left(\\frac{\\Theta_{9}}{2} \\right)}\\right) \\cos{\\left(\\frac{\\Theta_{11}}{2} \\right)} + 1.0 i \\left(i \\left(i \\left(1.0 \\cdot \\left(1.0 i \\left(- 1.0 e^{i \\Phi_{3}} \\sin{\\left(\\frac{\\Theta_{0}}{2} \\right)} \\sin{\\left(\\frac{\\Theta_{1}}{2} \\right)} \\cos{\\left(\\frac{\\Theta_{4}}{2} \\right)} - 1.0 e^{i \\Phi_{3}} \\sin{\\left(\\frac{\\Theta_{3}}{2} \\right)} \\sin{\\left(\\frac{\\Theta_{4}}{2} \\right)} \\cos{\\left(\\frac{\\Theta_{0}}{2} \\right)}\\right) \\sin{\\left(\\frac{\\Theta_{7}}{2} \\right)} + 1.0 i e^{i \\Phi_{3}} \\sin{\\left(\\frac{\\Theta_{6}}{2} \\right)} \\cos{\\left(\\frac{\\Theta_{0}}{2} \\right)} \\cos{\\left(\\frac{\\Theta_{3}}{2} \\right)} \\cos{\\left(\\frac{\\Theta_{7}}{2} \\right)}\\right) \\cos{\\left(\\frac{\\Theta_{8}}{2} \\right)} + 1.0 i \\left(i \\left(- 1.0 i e^{i \\Phi_{3}} \\sin{\\left(\\frac{\\Theta_{0}}{2} \\right)} \\sin{\\left(\\frac{\\Theta_{1}}{2} \\right)} \\sin{\\left(\\frac{\\Theta_{4}}{2} \\right)} + 1.0 i e^{i \\Phi_{3}} \\sin{\\left(\\frac{\\Theta_{3}}{2} \\right)} \\cos{\\left(\\frac{\\Theta_{0}}{2} \\right)} \\cos{\\left(\\frac{\\Theta_{4}}{2} \\right)}\\right) \\sin{\\left(\\frac{\\Theta_{5}}{2} \\right)} - 1.0 e^{i \\Phi_{3}} \\sin{\\left(\\frac{\\Theta_{0}}{2} \\right)} \\sin{\\left(\\frac{\\Theta_{2}}{2} \\right)} \\cos{\\left(\\frac{\\Theta_{1}}{2} \\right)} \\cos{\\left(\\frac{\\Theta_{5}}{2} \\right)}\\right) \\sin{\\left(\\frac{\\Theta_{8}}{2} \\right)}\\right) \\sin{\\left(\\frac{\\Theta_{9}}{2} \\right)} + \\left(1.0 \\left(- 1.0 i e^{i \\Phi_{3}} \\sin{\\left(\\frac{\\Theta_{0}}{2} \\right)} \\sin{\\left(\\frac{\\Theta_{1}}{2} \\right)} \\sin{\\left(\\frac{\\Theta_{4}}{2} \\right)} + 1.0 i e^{i \\Phi_{3}} \\sin{\\left(\\frac{\\Theta_{3}}{2} \\right)} \\cos{\\left(\\frac{\\Theta_{0}}{2} \\right)} \\cos{\\left(\\frac{\\Theta_{4}}{2} \\right)}\\right) \\cos{\\left(\\frac{\\Theta_{5}}{2} \\right)} - 1.0 i e^{i \\Phi_{3}} \\sin{\\left(\\frac{\\Theta_{0}}{2} \\right)} \\sin{\\left(\\frac{\\Theta_{2}}{2} \\right)} \\sin{\\left(\\frac{\\Theta_{5}}{2} \\right)} \\cos{\\left(\\frac{\\Theta_{1}}{2} \\right)}\\right) \\cos{\\left(\\frac{\\Theta_{9}}{2} \\right)}\\right) \\sin{\\left(\\frac{\\Theta_{10}}{2} \\right)} + 1.0 i e^{i \\Phi_{3}} \\sin{\\left(\\frac{\\Theta_{0}}{2} \\right)} \\cos{\\left(\\frac{\\Theta_{1}}{2} \\right)} \\cos{\\left(\\frac{\\Theta_{10}}{2} \\right)} \\cos{\\left(\\frac{\\Theta_{2}}{2} \\right)}\\right) \\sin{\\left(\\frac{\\Theta_{11}}{2} \\right)} & 1.0 \\cdot \\left(1.0 \\cdot \\left(1.0 i \\left(- 1.0 e^{i \\Phi_{4}} \\sin{\\left(\\frac{\\Theta_{1}}{2} \\right)} \\sin{\\left(\\frac{\\Theta_{2}}{2} \\right)} \\cos{\\left(\\frac{\\Theta_{5}}{2} \\right)} - 1.0 e^{i \\Phi_{4}} \\sin{\\left(\\frac{\\Theta_{4}}{2} \\right)} \\sin{\\left(\\frac{\\Theta_{5}}{2} \\right)} \\cos{\\left(\\frac{\\Theta_{1}}{2} \\right)}\\right) \\sin{\\left(\\frac{\\Theta_{8}}{2} \\right)} + 1.0 i e^{i \\Phi_{4}} \\sin{\\left(\\frac{\\Theta_{7}}{2} \\right)} \\cos{\\left(\\frac{\\Theta_{1}}{2} \\right)} \\cos{\\left(\\frac{\\Theta_{4}}{2} \\right)} \\cos{\\left(\\frac{\\Theta_{8}}{2} \\right)}\\right) \\cos{\\left(\\frac{\\Theta_{9}}{2} \\right)} + 1.0 i \\left(- 1.0 i e^{i \\Phi_{4}} \\sin{\\left(\\frac{\\Theta_{1}}{2} \\right)} \\sin{\\left(\\frac{\\Theta_{2}}{2} \\right)} \\sin{\\left(\\frac{\\Theta_{5}}{2} \\right)} + 1.0 i e^{i \\Phi_{4}} \\sin{\\left(\\frac{\\Theta_{4}}{2} \\right)} \\cos{\\left(\\frac{\\Theta_{1}}{2} \\right)} \\cos{\\left(\\frac{\\Theta_{5}}{2} \\right)}\\right) \\sin{\\left(\\frac{\\Theta_{9}}{2} \\right)}\\right) \\cos{\\left(\\frac{\\Theta_{11}}{2} \\right)} + 1.0 i \\left(i \\left(i \\left(1.0 i \\left(- 1.0 e^{i \\Phi_{4}} \\sin{\\left(\\frac{\\Theta_{1}}{2} \\right)} \\sin{\\left(\\frac{\\Theta_{2}}{2} \\right)} \\cos{\\left(\\frac{\\Theta_{5}}{2} \\right)} - 1.0 e^{i \\Phi_{4}} \\sin{\\left(\\frac{\\Theta_{4}}{2} \\right)} \\sin{\\left(\\frac{\\Theta_{5}}{2} \\right)} \\cos{\\left(\\frac{\\Theta_{1}}{2} \\right)}\\right) \\sin{\\left(\\frac{\\Theta_{8}}{2} \\right)} + 1.0 i e^{i \\Phi_{4}} \\sin{\\left(\\frac{\\Theta_{7}}{2} \\right)} \\cos{\\left(\\frac{\\Theta_{1}}{2} \\right)} \\cos{\\left(\\frac{\\Theta_{4}}{2} \\right)} \\cos{\\left(\\frac{\\Theta_{8}}{2} \\right)}\\right) \\sin{\\left(\\frac{\\Theta_{9}}{2} \\right)} + \\left(- 1.0 i e^{i \\Phi_{4}} \\sin{\\left(\\frac{\\Theta_{1}}{2} \\right)} \\sin{\\left(\\frac{\\Theta_{2}}{2} \\right)} \\sin{\\left(\\frac{\\Theta_{5}}{2} \\right)} + 1.0 i e^{i \\Phi_{4}} \\sin{\\left(\\frac{\\Theta_{4}}{2} \\right)} \\cos{\\left(\\frac{\\Theta_{1}}{2} \\right)} \\cos{\\left(\\frac{\\Theta_{5}}{2} \\right)}\\right) \\cos{\\left(\\frac{\\Theta_{9}}{2} \\right)}\\right) \\sin{\\left(\\frac{\\Theta_{10}}{2} \\right)} + 1.0 i e^{i \\Phi_{4}} \\sin{\\left(\\frac{\\Theta_{1}}{2} \\right)} \\cos{\\left(\\frac{\\Theta_{10}}{2} \\right)} \\cos{\\left(\\frac{\\Theta_{2}}{2} \\right)}\\right) \\sin{\\left(\\frac{\\Theta_{11}}{2} \\right)} & 1.0 i \\left(i \\left(1.0 i e^{i \\Phi_{5}} \\sin{\\left(\\frac{\\Theta_{5}}{2} \\right)} \\cos{\\left(\\frac{\\Theta_{2}}{2} \\right)} \\cos{\\left(\\frac{\\Theta_{9}}{2} \\right)} - 1.0 e^{i \\Phi_{5}} \\sin{\\left(\\frac{\\Theta_{8}}{2} \\right)} \\sin{\\left(\\frac{\\Theta_{9}}{2} \\right)} \\cos{\\left(\\frac{\\Theta_{2}}{2} \\right)} \\cos{\\left(\\frac{\\Theta_{5}}{2} \\right)}\\right) \\sin{\\left(\\frac{\\Theta_{10}}{2} \\right)} + 1.0 i e^{i \\Phi_{5}} \\sin{\\left(\\frac{\\Theta_{2}}{2} \\right)} \\cos{\\left(\\frac{\\Theta_{10}}{2} \\right)}\\right) \\sin{\\left(\\frac{\\Theta_{11}}{2} \\right)} + 1.0 \\left(- 1.0 e^{i \\Phi_{5}} \\sin{\\left(\\frac{\\Theta_{5}}{2} \\right)} \\sin{\\left(\\frac{\\Theta_{9}}{2} \\right)} \\cos{\\left(\\frac{\\Theta_{2}}{2} \\right)} + 1.0 i e^{i \\Phi_{5}} \\sin{\\left(\\frac{\\Theta_{8}}{2} \\right)} \\cos{\\left(\\frac{\\Theta_{2}}{2} \\right)} \\cos{\\left(\\frac{\\Theta_{5}}{2} \\right)} \\cos{\\left(\\frac{\\Theta_{9}}{2} \\right)}\\right) \\cos{\\left(\\frac{\\Theta_{11}}{2} \\right)}\\\\1.0 i e^{i \\Phi_{0}} \\sin{\\left(\\frac{\\Theta_{9}}{2} \\right)} \\cos{\\left(\\frac{\\Theta_{10}}{2} \\right)} \\cos{\\left(\\frac{\\Theta_{6}}{2} \\right)} \\cos{\\left(\\frac{\\Theta_{7}}{2} \\right)} \\cos{\\left(\\frac{\\Theta_{8}}{2} \\right)} & 1.0 \\left(i \\left(1.0 \\left(- 1.0 e^{i \\Phi_{1}} \\sin{\\left(\\frac{\\Theta_{3}}{2} \\right)} \\sin{\\left(\\frac{\\Theta_{6}}{2} \\right)} \\cos{\\left(\\frac{\\Theta_{7}}{2} \\right)} - 1.0 e^{i \\Phi_{1}} \\sin{\\left(\\frac{\\Theta_{4}}{2} \\right)} \\sin{\\left(\\frac{\\Theta_{7}}{2} \\right)} \\cos{\\left(\\frac{\\Theta_{3}}{2} \\right)}\\right) \\cos{\\left(\\frac{\\Theta_{8}}{2} \\right)} - 1.0 e^{i \\Phi_{1}} \\sin{\\left(\\frac{\\Theta_{5}}{2} \\right)} \\sin{\\left(\\frac{\\Theta_{8}}{2} \\right)} \\cos{\\left(\\frac{\\Theta_{3}}{2} \\right)} \\cos{\\left(\\frac{\\Theta_{4}}{2} \\right)}\\right) \\sin{\\left(\\frac{\\Theta_{9}}{2} \\right)} + 1.0 e^{i \\Phi_{1}} \\cos{\\left(\\frac{\\Theta_{3}}{2} \\right)} \\cos{\\left(\\frac{\\Theta_{4}}{2} \\right)} \\cos{\\left(\\frac{\\Theta_{5}}{2} \\right)} \\cos{\\left(\\frac{\\Theta_{9}}{2} \\right)}\\right) \\cos{\\left(\\frac{\\Theta_{10}}{2} \\right)} & 1.0 \\left(\\left(1.0 \\left(- 1.0 e^{i \\Phi_{2}} \\sin{\\left(\\frac{\\Theta_{0}}{2} \\right)} \\sin{\\left(\\frac{\\Theta_{3}}{2} \\right)} \\cos{\\left(\\frac{\\Theta_{4}}{2} \\right)} - 1.0 e^{i \\Phi_{2}} \\sin{\\left(\\frac{\\Theta_{1}}{2} \\right)} \\sin{\\left(\\frac{\\Theta_{4}}{2} \\right)} \\cos{\\left(\\frac{\\Theta_{0}}{2} \\right)}\\right) \\cos{\\left(\\frac{\\Theta_{5}}{2} \\right)} - 1.0 e^{i \\Phi_{2}} \\sin{\\left(\\frac{\\Theta_{2}}{2} \\right)} \\sin{\\left(\\frac{\\Theta_{5}}{2} \\right)} \\cos{\\left(\\frac{\\Theta_{0}}{2} \\right)} \\cos{\\left(\\frac{\\Theta_{1}}{2} \\right)}\\right) \\cos{\\left(\\frac{\\Theta_{9}}{2} \\right)} + i \\left(1.0 i \\left(i \\left(- 1.0 e^{i \\Phi_{2}} \\sin{\\left(\\frac{\\Theta_{0}}{2} \\right)} \\sin{\\left(\\frac{\\Theta_{3}}{2} \\right)} \\cos{\\left(\\frac{\\Theta_{4}}{2} \\right)} - 1.0 e^{i \\Phi_{2}} \\sin{\\left(\\frac{\\Theta_{1}}{2} \\right)} \\sin{\\left(\\frac{\\Theta_{4}}{2} \\right)} \\cos{\\left(\\frac{\\Theta_{0}}{2} \\right)}\\right) \\sin{\\left(\\frac{\\Theta_{5}}{2} \\right)} + 1.0 i e^{i \\Phi_{2}} \\sin{\\left(\\frac{\\Theta_{2}}{2} \\right)} \\cos{\\left(\\frac{\\Theta_{0}}{2} \\right)} \\cos{\\left(\\frac{\\Theta_{1}}{2} \\right)} \\cos{\\left(\\frac{\\Theta_{5}}{2} \\right)}\\right) \\sin{\\left(\\frac{\\Theta_{8}}{2} \\right)} + 1.0 \\cdot \\left(1.0 i \\left(- 1.0 i e^{i \\Phi_{2}} \\sin{\\left(\\frac{\\Theta_{0}}{2} \\right)} \\sin{\\left(\\frac{\\Theta_{3}}{2} \\right)} \\sin{\\left(\\frac{\\Theta_{4}}{2} \\right)} + 1.0 i e^{i \\Phi_{2}} \\sin{\\left(\\frac{\\Theta_{1}}{2} \\right)} \\cos{\\left(\\frac{\\Theta_{0}}{2} \\right)} \\cos{\\left(\\frac{\\Theta_{4}}{2} \\right)}\\right) \\sin{\\left(\\frac{\\Theta_{7}}{2} \\right)} - 1.0 e^{i \\Phi_{2}} \\sin{\\left(\\frac{\\Theta_{0}}{2} \\right)} \\sin{\\left(\\frac{\\Theta_{6}}{2} \\right)} \\cos{\\left(\\frac{\\Theta_{3}}{2} \\right)} \\cos{\\left(\\frac{\\Theta_{7}}{2} \\right)}\\right) \\cos{\\left(\\frac{\\Theta_{8}}{2} \\right)}\\right) \\sin{\\left(\\frac{\\Theta_{9}}{2} \\right)}\\right) \\cos{\\left(\\frac{\\Theta_{10}}{2} \\right)} + 1.0 i e^{i \\Phi_{2}} \\sin{\\left(\\frac{\\Theta_{10}}{2} \\right)} \\cos{\\left(\\frac{\\Theta_{0}}{2} \\right)} \\cos{\\left(\\frac{\\Theta_{1}}{2} \\right)} \\cos{\\left(\\frac{\\Theta_{2}}{2} \\right)} & 1.0 \\left(i \\left(1.0 \\cdot \\left(1.0 i \\left(- 1.0 e^{i \\Phi_{3}} \\sin{\\left(\\frac{\\Theta_{0}}{2} \\right)} \\sin{\\left(\\frac{\\Theta_{1}}{2} \\right)} \\cos{\\left(\\frac{\\Theta_{4}}{2} \\right)} - 1.0 e^{i \\Phi_{3}} \\sin{\\left(\\frac{\\Theta_{3}}{2} \\right)} \\sin{\\left(\\frac{\\Theta_{4}}{2} \\right)} \\cos{\\left(\\frac{\\Theta_{0}}{2} \\right)}\\right) \\sin{\\left(\\frac{\\Theta_{7}}{2} \\right)} + 1.0 i e^{i \\Phi_{3}} \\sin{\\left(\\frac{\\Theta_{6}}{2} \\right)} \\cos{\\left(\\frac{\\Theta_{0}}{2} \\right)} \\cos{\\left(\\frac{\\Theta_{3}}{2} \\right)} \\cos{\\left(\\frac{\\Theta_{7}}{2} \\right)}\\right) \\cos{\\left(\\frac{\\Theta_{8}}{2} \\right)} + 1.0 i \\left(i \\left(- 1.0 i e^{i \\Phi_{3}} \\sin{\\left(\\frac{\\Theta_{0}}{2} \\right)} \\sin{\\left(\\frac{\\Theta_{1}}{2} \\right)} \\sin{\\left(\\frac{\\Theta_{4}}{2} \\right)} + 1.0 i e^{i \\Phi_{3}} \\sin{\\left(\\frac{\\Theta_{3}}{2} \\right)} \\cos{\\left(\\frac{\\Theta_{0}}{2} \\right)} \\cos{\\left(\\frac{\\Theta_{4}}{2} \\right)}\\right) \\sin{\\left(\\frac{\\Theta_{5}}{2} \\right)} - 1.0 e^{i \\Phi_{3}} \\sin{\\left(\\frac{\\Theta_{0}}{2} \\right)} \\sin{\\left(\\frac{\\Theta_{2}}{2} \\right)} \\cos{\\left(\\frac{\\Theta_{1}}{2} \\right)} \\cos{\\left(\\frac{\\Theta_{5}}{2} \\right)}\\right) \\sin{\\left(\\frac{\\Theta_{8}}{2} \\right)}\\right) \\sin{\\left(\\frac{\\Theta_{9}}{2} \\right)} + \\left(1.0 \\left(- 1.0 i e^{i \\Phi_{3}} \\sin{\\left(\\frac{\\Theta_{0}}{2} \\right)} \\sin{\\left(\\frac{\\Theta_{1}}{2} \\right)} \\sin{\\left(\\frac{\\Theta_{4}}{2} \\right)} + 1.0 i e^{i \\Phi_{3}} \\sin{\\left(\\frac{\\Theta_{3}}{2} \\right)} \\cos{\\left(\\frac{\\Theta_{0}}{2} \\right)} \\cos{\\left(\\frac{\\Theta_{4}}{2} \\right)}\\right) \\cos{\\left(\\frac{\\Theta_{5}}{2} \\right)} - 1.0 i e^{i \\Phi_{3}} \\sin{\\left(\\frac{\\Theta_{0}}{2} \\right)} \\sin{\\left(\\frac{\\Theta_{2}}{2} \\right)} \\sin{\\left(\\frac{\\Theta_{5}}{2} \\right)} \\cos{\\left(\\frac{\\Theta_{1}}{2} \\right)}\\right) \\cos{\\left(\\frac{\\Theta_{9}}{2} \\right)}\\right) \\cos{\\left(\\frac{\\Theta_{10}}{2} \\right)} - 1.0 e^{i \\Phi_{3}} \\sin{\\left(\\frac{\\Theta_{0}}{2} \\right)} \\sin{\\left(\\frac{\\Theta_{10}}{2} \\right)} \\cos{\\left(\\frac{\\Theta_{1}}{2} \\right)} \\cos{\\left(\\frac{\\Theta_{2}}{2} \\right)} & 1.0 \\left(i \\left(1.0 i \\left(- 1.0 e^{i \\Phi_{4}} \\sin{\\left(\\frac{\\Theta_{1}}{2} \\right)} \\sin{\\left(\\frac{\\Theta_{2}}{2} \\right)} \\cos{\\left(\\frac{\\Theta_{5}}{2} \\right)} - 1.0 e^{i \\Phi_{4}} \\sin{\\left(\\frac{\\Theta_{4}}{2} \\right)} \\sin{\\left(\\frac{\\Theta_{5}}{2} \\right)} \\cos{\\left(\\frac{\\Theta_{1}}{2} \\right)}\\right) \\sin{\\left(\\frac{\\Theta_{8}}{2} \\right)} + 1.0 i e^{i \\Phi_{4}} \\sin{\\left(\\frac{\\Theta_{7}}{2} \\right)} \\cos{\\left(\\frac{\\Theta_{1}}{2} \\right)} \\cos{\\left(\\frac{\\Theta_{4}}{2} \\right)} \\cos{\\left(\\frac{\\Theta_{8}}{2} \\right)}\\right) \\sin{\\left(\\frac{\\Theta_{9}}{2} \\right)} + \\left(- 1.0 i e^{i \\Phi_{4}} \\sin{\\left(\\frac{\\Theta_{1}}{2} \\right)} \\sin{\\left(\\frac{\\Theta_{2}}{2} \\right)} \\sin{\\left(\\frac{\\Theta_{5}}{2} \\right)} + 1.0 i e^{i \\Phi_{4}} \\sin{\\left(\\frac{\\Theta_{4}}{2} \\right)} \\cos{\\left(\\frac{\\Theta_{1}}{2} \\right)} \\cos{\\left(\\frac{\\Theta_{5}}{2} \\right)}\\right) \\cos{\\left(\\frac{\\Theta_{9}}{2} \\right)}\\right) \\cos{\\left(\\frac{\\Theta_{10}}{2} \\right)} - 1.0 e^{i \\Phi_{4}} \\sin{\\left(\\frac{\\Theta_{1}}{2} \\right)} \\sin{\\left(\\frac{\\Theta_{10}}{2} \\right)} \\cos{\\left(\\frac{\\Theta_{2}}{2} \\right)} & 1.0 \\cdot \\left(1.0 i e^{i \\Phi_{5}} \\sin{\\left(\\frac{\\Theta_{5}}{2} \\right)} \\cos{\\left(\\frac{\\Theta_{2}}{2} \\right)} \\cos{\\left(\\frac{\\Theta_{9}}{2} \\right)} - 1.0 e^{i \\Phi_{5}} \\sin{\\left(\\frac{\\Theta_{8}}{2} \\right)} \\sin{\\left(\\frac{\\Theta_{9}}{2} \\right)} \\cos{\\left(\\frac{\\Theta_{2}}{2} \\right)} \\cos{\\left(\\frac{\\Theta_{5}}{2} \\right)}\\right) \\cos{\\left(\\frac{\\Theta_{10}}{2} \\right)} - 1.0 e^{i \\Phi_{5}} \\sin{\\left(\\frac{\\Theta_{10}}{2} \\right)} \\sin{\\left(\\frac{\\Theta_{2}}{2} \\right)}\\\\- 1.0 e^{i \\Phi_{0}} \\sin{\\left(\\frac{\\Theta_{10}}{2} \\right)} \\sin{\\left(\\frac{\\Theta_{9}}{2} \\right)} \\cos{\\left(\\frac{\\Theta_{11}}{2} \\right)} \\cos{\\left(\\frac{\\Theta_{6}}{2} \\right)} \\cos{\\left(\\frac{\\Theta_{7}}{2} \\right)} \\cos{\\left(\\frac{\\Theta_{8}}{2} \\right)} + 1.0 i e^{i \\Phi_{0}} \\sin{\\left(\\frac{\\Theta_{11}}{2} \\right)} \\cos{\\left(\\frac{\\Theta_{6}}{2} \\right)} \\cos{\\left(\\frac{\\Theta_{7}}{2} \\right)} \\cos{\\left(\\frac{\\Theta_{8}}{2} \\right)} \\cos{\\left(\\frac{\\Theta_{9}}{2} \\right)} & i \\left(1.0 \\cdot \\left(1.0 \\left(- 1.0 e^{i \\Phi_{1}} \\sin{\\left(\\frac{\\Theta_{3}}{2} \\right)} \\sin{\\left(\\frac{\\Theta_{6}}{2} \\right)} \\cos{\\left(\\frac{\\Theta_{7}}{2} \\right)} - 1.0 e^{i \\Phi_{1}} \\sin{\\left(\\frac{\\Theta_{4}}{2} \\right)} \\sin{\\left(\\frac{\\Theta_{7}}{2} \\right)} \\cos{\\left(\\frac{\\Theta_{3}}{2} \\right)}\\right) \\cos{\\left(\\frac{\\Theta_{8}}{2} \\right)} - 1.0 e^{i \\Phi_{1}} \\sin{\\left(\\frac{\\Theta_{5}}{2} \\right)} \\sin{\\left(\\frac{\\Theta_{8}}{2} \\right)} \\cos{\\left(\\frac{\\Theta_{3}}{2} \\right)} \\cos{\\left(\\frac{\\Theta_{4}}{2} \\right)}\\right) \\cos{\\left(\\frac{\\Theta_{9}}{2} \\right)} + 1.0 i e^{i \\Phi_{1}} \\sin{\\left(\\frac{\\Theta_{9}}{2} \\right)} \\cos{\\left(\\frac{\\Theta_{3}}{2} \\right)} \\cos{\\left(\\frac{\\Theta_{4}}{2} \\right)} \\cos{\\left(\\frac{\\Theta_{5}}{2} \\right)}\\right) \\sin{\\left(\\frac{\\Theta_{11}}{2} \\right)} + i \\left(i \\left(1.0 \\left(- 1.0 e^{i \\Phi_{1}} \\sin{\\left(\\frac{\\Theta_{3}}{2} \\right)} \\sin{\\left(\\frac{\\Theta_{6}}{2} \\right)} \\cos{\\left(\\frac{\\Theta_{7}}{2} \\right)} - 1.0 e^{i \\Phi_{1}} \\sin{\\left(\\frac{\\Theta_{4}}{2} \\right)} \\sin{\\left(\\frac{\\Theta_{7}}{2} \\right)} \\cos{\\left(\\frac{\\Theta_{3}}{2} \\right)}\\right) \\cos{\\left(\\frac{\\Theta_{8}}{2} \\right)} - 1.0 e^{i \\Phi_{1}} \\sin{\\left(\\frac{\\Theta_{5}}{2} \\right)} \\sin{\\left(\\frac{\\Theta_{8}}{2} \\right)} \\cos{\\left(\\frac{\\Theta_{3}}{2} \\right)} \\cos{\\left(\\frac{\\Theta_{4}}{2} \\right)}\\right) \\sin{\\left(\\frac{\\Theta_{9}}{2} \\right)} + 1.0 e^{i \\Phi_{1}} \\cos{\\left(\\frac{\\Theta_{3}}{2} \\right)} \\cos{\\left(\\frac{\\Theta_{4}}{2} \\right)} \\cos{\\left(\\frac{\\Theta_{5}}{2} \\right)} \\cos{\\left(\\frac{\\Theta_{9}}{2} \\right)}\\right) \\sin{\\left(\\frac{\\Theta_{10}}{2} \\right)} \\cos{\\left(\\frac{\\Theta_{11}}{2} \\right)} & \\left(i \\left(\\left(1.0 \\left(- 1.0 e^{i \\Phi_{2}} \\sin{\\left(\\frac{\\Theta_{0}}{2} \\right)} \\sin{\\left(\\frac{\\Theta_{3}}{2} \\right)} \\cos{\\left(\\frac{\\Theta_{4}}{2} \\right)} - 1.0 e^{i \\Phi_{2}} \\sin{\\left(\\frac{\\Theta_{1}}{2} \\right)} \\sin{\\left(\\frac{\\Theta_{4}}{2} \\right)} \\cos{\\left(\\frac{\\Theta_{0}}{2} \\right)}\\right) \\cos{\\left(\\frac{\\Theta_{5}}{2} \\right)} - 1.0 e^{i \\Phi_{2}} \\sin{\\left(\\frac{\\Theta_{2}}{2} \\right)} \\sin{\\left(\\frac{\\Theta_{5}}{2} \\right)} \\cos{\\left(\\frac{\\Theta_{0}}{2} \\right)} \\cos{\\left(\\frac{\\Theta_{1}}{2} \\right)}\\right) \\cos{\\left(\\frac{\\Theta_{9}}{2} \\right)} + i \\left(1.0 i \\left(i \\left(- 1.0 e^{i \\Phi_{2}} \\sin{\\left(\\frac{\\Theta_{0}}{2} \\right)} \\sin{\\left(\\frac{\\Theta_{3}}{2} \\right)} \\cos{\\left(\\frac{\\Theta_{4}}{2} \\right)} - 1.0 e^{i \\Phi_{2}} \\sin{\\left(\\frac{\\Theta_{1}}{2} \\right)} \\sin{\\left(\\frac{\\Theta_{4}}{2} \\right)} \\cos{\\left(\\frac{\\Theta_{0}}{2} \\right)}\\right) \\sin{\\left(\\frac{\\Theta_{5}}{2} \\right)} + 1.0 i e^{i \\Phi_{2}} \\sin{\\left(\\frac{\\Theta_{2}}{2} \\right)} \\cos{\\left(\\frac{\\Theta_{0}}{2} \\right)} \\cos{\\left(\\frac{\\Theta_{1}}{2} \\right)} \\cos{\\left(\\frac{\\Theta_{5}}{2} \\right)}\\right) \\sin{\\left(\\frac{\\Theta_{8}}{2} \\right)} + 1.0 \\cdot \\left(1.0 i \\left(- 1.0 i e^{i \\Phi_{2}} \\sin{\\left(\\frac{\\Theta_{0}}{2} \\right)} \\sin{\\left(\\frac{\\Theta_{3}}{2} \\right)} \\sin{\\left(\\frac{\\Theta_{4}}{2} \\right)} + 1.0 i e^{i \\Phi_{2}} \\sin{\\left(\\frac{\\Theta_{1}}{2} \\right)} \\cos{\\left(\\frac{\\Theta_{0}}{2} \\right)} \\cos{\\left(\\frac{\\Theta_{4}}{2} \\right)}\\right) \\sin{\\left(\\frac{\\Theta_{7}}{2} \\right)} - 1.0 e^{i \\Phi_{2}} \\sin{\\left(\\frac{\\Theta_{0}}{2} \\right)} \\sin{\\left(\\frac{\\Theta_{6}}{2} \\right)} \\cos{\\left(\\frac{\\Theta_{3}}{2} \\right)} \\cos{\\left(\\frac{\\Theta_{7}}{2} \\right)}\\right) \\cos{\\left(\\frac{\\Theta_{8}}{2} \\right)}\\right) \\sin{\\left(\\frac{\\Theta_{9}}{2} \\right)}\\right) \\sin{\\left(\\frac{\\Theta_{10}}{2} \\right)} + 1.0 e^{i \\Phi_{2}} \\cos{\\left(\\frac{\\Theta_{0}}{2} \\right)} \\cos{\\left(\\frac{\\Theta_{1}}{2} \\right)} \\cos{\\left(\\frac{\\Theta_{10}}{2} \\right)} \\cos{\\left(\\frac{\\Theta_{2}}{2} \\right)}\\right) \\cos{\\left(\\frac{\\Theta_{11}}{2} \\right)} + i \\left(1.0 i \\left(1.0 \\left(- 1.0 e^{i \\Phi_{2}} \\sin{\\left(\\frac{\\Theta_{0}}{2} \\right)} \\sin{\\left(\\frac{\\Theta_{3}}{2} \\right)} \\cos{\\left(\\frac{\\Theta_{4}}{2} \\right)} - 1.0 e^{i \\Phi_{2}} \\sin{\\left(\\frac{\\Theta_{1}}{2} \\right)} \\sin{\\left(\\frac{\\Theta_{4}}{2} \\right)} \\cos{\\left(\\frac{\\Theta_{0}}{2} \\right)}\\right) \\cos{\\left(\\frac{\\Theta_{5}}{2} \\right)} - 1.0 e^{i \\Phi_{2}} \\sin{\\left(\\frac{\\Theta_{2}}{2} \\right)} \\sin{\\left(\\frac{\\Theta_{5}}{2} \\right)} \\cos{\\left(\\frac{\\Theta_{0}}{2} \\right)} \\cos{\\left(\\frac{\\Theta_{1}}{2} \\right)}\\right) \\sin{\\left(\\frac{\\Theta_{9}}{2} \\right)} + 1.0 \\cdot \\left(1.0 i \\left(i \\left(- 1.0 e^{i \\Phi_{2}} \\sin{\\left(\\frac{\\Theta_{0}}{2} \\right)} \\sin{\\left(\\frac{\\Theta_{3}}{2} \\right)} \\cos{\\left(\\frac{\\Theta_{4}}{2} \\right)} - 1.0 e^{i \\Phi_{2}} \\sin{\\left(\\frac{\\Theta_{1}}{2} \\right)} \\sin{\\left(\\frac{\\Theta_{4}}{2} \\right)} \\cos{\\left(\\frac{\\Theta_{0}}{2} \\right)}\\right) \\sin{\\left(\\frac{\\Theta_{5}}{2} \\right)} + 1.0 i e^{i \\Phi_{2}} \\sin{\\left(\\frac{\\Theta_{2}}{2} \\right)} \\cos{\\left(\\frac{\\Theta_{0}}{2} \\right)} \\cos{\\left(\\frac{\\Theta_{1}}{2} \\right)} \\cos{\\left(\\frac{\\Theta_{5}}{2} \\right)}\\right) \\sin{\\left(\\frac{\\Theta_{8}}{2} \\right)} + 1.0 \\cdot \\left(1.0 i \\left(- 1.0 i e^{i \\Phi_{2}} \\sin{\\left(\\frac{\\Theta_{0}}{2} \\right)} \\sin{\\left(\\frac{\\Theta_{3}}{2} \\right)} \\sin{\\left(\\frac{\\Theta_{4}}{2} \\right)} + 1.0 i e^{i \\Phi_{2}} \\sin{\\left(\\frac{\\Theta_{1}}{2} \\right)} \\cos{\\left(\\frac{\\Theta_{0}}{2} \\right)} \\cos{\\left(\\frac{\\Theta_{4}}{2} \\right)}\\right) \\sin{\\left(\\frac{\\Theta_{7}}{2} \\right)} - 1.0 e^{i \\Phi_{2}} \\sin{\\left(\\frac{\\Theta_{0}}{2} \\right)} \\sin{\\left(\\frac{\\Theta_{6}}{2} \\right)} \\cos{\\left(\\frac{\\Theta_{3}}{2} \\right)} \\cos{\\left(\\frac{\\Theta_{7}}{2} \\right)}\\right) \\cos{\\left(\\frac{\\Theta_{8}}{2} \\right)}\\right) \\cos{\\left(\\frac{\\Theta_{9}}{2} \\right)}\\right) \\sin{\\left(\\frac{\\Theta_{11}}{2} \\right)} & i \\left(1.0 \\cdot \\left(1.0 \\cdot \\left(1.0 i \\left(- 1.0 e^{i \\Phi_{3}} \\sin{\\left(\\frac{\\Theta_{0}}{2} \\right)} \\sin{\\left(\\frac{\\Theta_{1}}{2} \\right)} \\cos{\\left(\\frac{\\Theta_{4}}{2} \\right)} - 1.0 e^{i \\Phi_{3}} \\sin{\\left(\\frac{\\Theta_{3}}{2} \\right)} \\sin{\\left(\\frac{\\Theta_{4}}{2} \\right)} \\cos{\\left(\\frac{\\Theta_{0}}{2} \\right)}\\right) \\sin{\\left(\\frac{\\Theta_{7}}{2} \\right)} + 1.0 i e^{i \\Phi_{3}} \\sin{\\left(\\frac{\\Theta_{6}}{2} \\right)} \\cos{\\left(\\frac{\\Theta_{0}}{2} \\right)} \\cos{\\left(\\frac{\\Theta_{3}}{2} \\right)} \\cos{\\left(\\frac{\\Theta_{7}}{2} \\right)}\\right) \\cos{\\left(\\frac{\\Theta_{8}}{2} \\right)} + 1.0 i \\left(i \\left(- 1.0 i e^{i \\Phi_{3}} \\sin{\\left(\\frac{\\Theta_{0}}{2} \\right)} \\sin{\\left(\\frac{\\Theta_{1}}{2} \\right)} \\sin{\\left(\\frac{\\Theta_{4}}{2} \\right)} + 1.0 i e^{i \\Phi_{3}} \\sin{\\left(\\frac{\\Theta_{3}}{2} \\right)} \\cos{\\left(\\frac{\\Theta_{0}}{2} \\right)} \\cos{\\left(\\frac{\\Theta_{4}}{2} \\right)}\\right) \\sin{\\left(\\frac{\\Theta_{5}}{2} \\right)} - 1.0 e^{i \\Phi_{3}} \\sin{\\left(\\frac{\\Theta_{0}}{2} \\right)} \\sin{\\left(\\frac{\\Theta_{2}}{2} \\right)} \\cos{\\left(\\frac{\\Theta_{1}}{2} \\right)} \\cos{\\left(\\frac{\\Theta_{5}}{2} \\right)}\\right) \\sin{\\left(\\frac{\\Theta_{8}}{2} \\right)}\\right) \\cos{\\left(\\frac{\\Theta_{9}}{2} \\right)} + 1.0 i \\left(1.0 \\left(- 1.0 i e^{i \\Phi_{3}} \\sin{\\left(\\frac{\\Theta_{0}}{2} \\right)} \\sin{\\left(\\frac{\\Theta_{1}}{2} \\right)} \\sin{\\left(\\frac{\\Theta_{4}}{2} \\right)} + 1.0 i e^{i \\Phi_{3}} \\sin{\\left(\\frac{\\Theta_{3}}{2} \\right)} \\cos{\\left(\\frac{\\Theta_{0}}{2} \\right)} \\cos{\\left(\\frac{\\Theta_{4}}{2} \\right)}\\right) \\cos{\\left(\\frac{\\Theta_{5}}{2} \\right)} - 1.0 i e^{i \\Phi_{3}} \\sin{\\left(\\frac{\\Theta_{0}}{2} \\right)} \\sin{\\left(\\frac{\\Theta_{2}}{2} \\right)} \\sin{\\left(\\frac{\\Theta_{5}}{2} \\right)} \\cos{\\left(\\frac{\\Theta_{1}}{2} \\right)}\\right) \\sin{\\left(\\frac{\\Theta_{9}}{2} \\right)}\\right) \\sin{\\left(\\frac{\\Theta_{11}}{2} \\right)} + \\left(i \\left(i \\left(1.0 \\cdot \\left(1.0 i \\left(- 1.0 e^{i \\Phi_{3}} \\sin{\\left(\\frac{\\Theta_{0}}{2} \\right)} \\sin{\\left(\\frac{\\Theta_{1}}{2} \\right)} \\cos{\\left(\\frac{\\Theta_{4}}{2} \\right)} - 1.0 e^{i \\Phi_{3}} \\sin{\\left(\\frac{\\Theta_{3}}{2} \\right)} \\sin{\\left(\\frac{\\Theta_{4}}{2} \\right)} \\cos{\\left(\\frac{\\Theta_{0}}{2} \\right)}\\right) \\sin{\\left(\\frac{\\Theta_{7}}{2} \\right)} + 1.0 i e^{i \\Phi_{3}} \\sin{\\left(\\frac{\\Theta_{6}}{2} \\right)} \\cos{\\left(\\frac{\\Theta_{0}}{2} \\right)} \\cos{\\left(\\frac{\\Theta_{3}}{2} \\right)} \\cos{\\left(\\frac{\\Theta_{7}}{2} \\right)}\\right) \\cos{\\left(\\frac{\\Theta_{8}}{2} \\right)} + 1.0 i \\left(i \\left(- 1.0 i e^{i \\Phi_{3}} \\sin{\\left(\\frac{\\Theta_{0}}{2} \\right)} \\sin{\\left(\\frac{\\Theta_{1}}{2} \\right)} \\sin{\\left(\\frac{\\Theta_{4}}{2} \\right)} + 1.0 i e^{i \\Phi_{3}} \\sin{\\left(\\frac{\\Theta_{3}}{2} \\right)} \\cos{\\left(\\frac{\\Theta_{0}}{2} \\right)} \\cos{\\left(\\frac{\\Theta_{4}}{2} \\right)}\\right) \\sin{\\left(\\frac{\\Theta_{5}}{2} \\right)} - 1.0 e^{i \\Phi_{3}} \\sin{\\left(\\frac{\\Theta_{0}}{2} \\right)} \\sin{\\left(\\frac{\\Theta_{2}}{2} \\right)} \\cos{\\left(\\frac{\\Theta_{1}}{2} \\right)} \\cos{\\left(\\frac{\\Theta_{5}}{2} \\right)}\\right) \\sin{\\left(\\frac{\\Theta_{8}}{2} \\right)}\\right) \\sin{\\left(\\frac{\\Theta_{9}}{2} \\right)} + \\left(1.0 \\left(- 1.0 i e^{i \\Phi_{3}} \\sin{\\left(\\frac{\\Theta_{0}}{2} \\right)} \\sin{\\left(\\frac{\\Theta_{1}}{2} \\right)} \\sin{\\left(\\frac{\\Theta_{4}}{2} \\right)} + 1.0 i e^{i \\Phi_{3}} \\sin{\\left(\\frac{\\Theta_{3}}{2} \\right)} \\cos{\\left(\\frac{\\Theta_{0}}{2} \\right)} \\cos{\\left(\\frac{\\Theta_{4}}{2} \\right)}\\right) \\cos{\\left(\\frac{\\Theta_{5}}{2} \\right)} - 1.0 i e^{i \\Phi_{3}} \\sin{\\left(\\frac{\\Theta_{0}}{2} \\right)} \\sin{\\left(\\frac{\\Theta_{2}}{2} \\right)} \\sin{\\left(\\frac{\\Theta_{5}}{2} \\right)} \\cos{\\left(\\frac{\\Theta_{1}}{2} \\right)}\\right) \\cos{\\left(\\frac{\\Theta_{9}}{2} \\right)}\\right) \\sin{\\left(\\frac{\\Theta_{10}}{2} \\right)} + 1.0 i e^{i \\Phi_{3}} \\sin{\\left(\\frac{\\Theta_{0}}{2} \\right)} \\cos{\\left(\\frac{\\Theta_{1}}{2} \\right)} \\cos{\\left(\\frac{\\Theta_{10}}{2} \\right)} \\cos{\\left(\\frac{\\Theta_{2}}{2} \\right)}\\right) \\cos{\\left(\\frac{\\Theta_{11}}{2} \\right)} & i \\left(1.0 \\cdot \\left(1.0 i \\left(- 1.0 e^{i \\Phi_{4}} \\sin{\\left(\\frac{\\Theta_{1}}{2} \\right)} \\sin{\\left(\\frac{\\Theta_{2}}{2} \\right)} \\cos{\\left(\\frac{\\Theta_{5}}{2} \\right)} - 1.0 e^{i \\Phi_{4}} \\sin{\\left(\\frac{\\Theta_{4}}{2} \\right)} \\sin{\\left(\\frac{\\Theta_{5}}{2} \\right)} \\cos{\\left(\\frac{\\Theta_{1}}{2} \\right)}\\right) \\sin{\\left(\\frac{\\Theta_{8}}{2} \\right)} + 1.0 i e^{i \\Phi_{4}} \\sin{\\left(\\frac{\\Theta_{7}}{2} \\right)} \\cos{\\left(\\frac{\\Theta_{1}}{2} \\right)} \\cos{\\left(\\frac{\\Theta_{4}}{2} \\right)} \\cos{\\left(\\frac{\\Theta_{8}}{2} \\right)}\\right) \\cos{\\left(\\frac{\\Theta_{9}}{2} \\right)} + 1.0 i \\left(- 1.0 i e^{i \\Phi_{4}} \\sin{\\left(\\frac{\\Theta_{1}}{2} \\right)} \\sin{\\left(\\frac{\\Theta_{2}}{2} \\right)} \\sin{\\left(\\frac{\\Theta_{5}}{2} \\right)} + 1.0 i e^{i \\Phi_{4}} \\sin{\\left(\\frac{\\Theta_{4}}{2} \\right)} \\cos{\\left(\\frac{\\Theta_{1}}{2} \\right)} \\cos{\\left(\\frac{\\Theta_{5}}{2} \\right)}\\right) \\sin{\\left(\\frac{\\Theta_{9}}{2} \\right)}\\right) \\sin{\\left(\\frac{\\Theta_{11}}{2} \\right)} + \\left(i \\left(i \\left(1.0 i \\left(- 1.0 e^{i \\Phi_{4}} \\sin{\\left(\\frac{\\Theta_{1}}{2} \\right)} \\sin{\\left(\\frac{\\Theta_{2}}{2} \\right)} \\cos{\\left(\\frac{\\Theta_{5}}{2} \\right)} - 1.0 e^{i \\Phi_{4}} \\sin{\\left(\\frac{\\Theta_{4}}{2} \\right)} \\sin{\\left(\\frac{\\Theta_{5}}{2} \\right)} \\cos{\\left(\\frac{\\Theta_{1}}{2} \\right)}\\right) \\sin{\\left(\\frac{\\Theta_{8}}{2} \\right)} + 1.0 i e^{i \\Phi_{4}} \\sin{\\left(\\frac{\\Theta_{7}}{2} \\right)} \\cos{\\left(\\frac{\\Theta_{1}}{2} \\right)} \\cos{\\left(\\frac{\\Theta_{4}}{2} \\right)} \\cos{\\left(\\frac{\\Theta_{8}}{2} \\right)}\\right) \\sin{\\left(\\frac{\\Theta_{9}}{2} \\right)} + \\left(- 1.0 i e^{i \\Phi_{4}} \\sin{\\left(\\frac{\\Theta_{1}}{2} \\right)} \\sin{\\left(\\frac{\\Theta_{2}}{2} \\right)} \\sin{\\left(\\frac{\\Theta_{5}}{2} \\right)} + 1.0 i e^{i \\Phi_{4}} \\sin{\\left(\\frac{\\Theta_{4}}{2} \\right)} \\cos{\\left(\\frac{\\Theta_{1}}{2} \\right)} \\cos{\\left(\\frac{\\Theta_{5}}{2} \\right)}\\right) \\cos{\\left(\\frac{\\Theta_{9}}{2} \\right)}\\right) \\sin{\\left(\\frac{\\Theta_{10}}{2} \\right)} + 1.0 i e^{i \\Phi_{4}} \\sin{\\left(\\frac{\\Theta_{1}}{2} \\right)} \\cos{\\left(\\frac{\\Theta_{10}}{2} \\right)} \\cos{\\left(\\frac{\\Theta_{2}}{2} \\right)}\\right) \\cos{\\left(\\frac{\\Theta_{11}}{2} \\right)} & \\left(i \\left(1.0 i e^{i \\Phi_{5}} \\sin{\\left(\\frac{\\Theta_{5}}{2} \\right)} \\cos{\\left(\\frac{\\Theta_{2}}{2} \\right)} \\cos{\\left(\\frac{\\Theta_{9}}{2} \\right)} - 1.0 e^{i \\Phi_{5}} \\sin{\\left(\\frac{\\Theta_{8}}{2} \\right)} \\sin{\\left(\\frac{\\Theta_{9}}{2} \\right)} \\cos{\\left(\\frac{\\Theta_{2}}{2} \\right)} \\cos{\\left(\\frac{\\Theta_{5}}{2} \\right)}\\right) \\sin{\\left(\\frac{\\Theta_{10}}{2} \\right)} + 1.0 i e^{i \\Phi_{5}} \\sin{\\left(\\frac{\\Theta_{2}}{2} \\right)} \\cos{\\left(\\frac{\\Theta_{10}}{2} \\right)}\\right) \\cos{\\left(\\frac{\\Theta_{11}}{2} \\right)} + i \\left(- 1.0 e^{i \\Phi_{5}} \\sin{\\left(\\frac{\\Theta_{5}}{2} \\right)} \\sin{\\left(\\frac{\\Theta_{9}}{2} \\right)} \\cos{\\left(\\frac{\\Theta_{2}}{2} \\right)} + 1.0 i e^{i \\Phi_{5}} \\sin{\\left(\\frac{\\Theta_{8}}{2} \\right)} \\cos{\\left(\\frac{\\Theta_{2}}{2} \\right)} \\cos{\\left(\\frac{\\Theta_{5}}{2} \\right)} \\cos{\\left(\\frac{\\Theta_{9}}{2} \\right)}\\right) \\sin{\\left(\\frac{\\Theta_{11}}{2} \\right)}\\\\1.0 i e^{i \\Phi_{0}} \\sin{\\left(\\frac{\\Theta_{6}}{2} \\right)} & 1.0 i e^{i \\Phi_{1}} \\sin{\\left(\\frac{\\Theta_{3}}{2} \\right)} \\cos{\\left(\\frac{\\Theta_{6}}{2} \\right)} & 1.0 i e^{i \\Phi_{2}} \\sin{\\left(\\frac{\\Theta_{0}}{2} \\right)} \\cos{\\left(\\frac{\\Theta_{3}}{2} \\right)} \\cos{\\left(\\frac{\\Theta_{6}}{2} \\right)} & 1.0 e^{i \\Phi_{3}} \\cos{\\left(\\frac{\\Theta_{0}}{2} \\right)} \\cos{\\left(\\frac{\\Theta_{3}}{2} \\right)} \\cos{\\left(\\frac{\\Theta_{6}}{2} \\right)} & 0 & 0\\\\1.0 i e^{i \\Phi_{0}} \\sin{\\left(\\frac{\\Theta_{7}}{2} \\right)} \\cos{\\left(\\frac{\\Theta_{6}}{2} \\right)} & - 1.0 i e^{i \\Phi_{1}} \\sin{\\left(\\frac{\\Theta_{3}}{2} \\right)} \\sin{\\left(\\frac{\\Theta_{6}}{2} \\right)} \\sin{\\left(\\frac{\\Theta_{7}}{2} \\right)} + 1.0 i e^{i \\Phi_{1}} \\sin{\\left(\\frac{\\Theta_{4}}{2} \\right)} \\cos{\\left(\\frac{\\Theta_{3}}{2} \\right)} \\cos{\\left(\\frac{\\Theta_{7}}{2} \\right)} & 1.0 \\left(- 1.0 i e^{i \\Phi_{2}} \\sin{\\left(\\frac{\\Theta_{0}}{2} \\right)} \\sin{\\left(\\frac{\\Theta_{3}}{2} \\right)} \\sin{\\left(\\frac{\\Theta_{4}}{2} \\right)} + 1.0 i e^{i \\Phi_{2}} \\sin{\\left(\\frac{\\Theta_{1}}{2} \\right)} \\cos{\\left(\\frac{\\Theta_{0}}{2} \\right)} \\cos{\\left(\\frac{\\Theta_{4}}{2} \\right)}\\right) \\cos{\\left(\\frac{\\Theta_{7}}{2} \\right)} - 1.0 i e^{i \\Phi_{2}} \\sin{\\left(\\frac{\\Theta_{0}}{2} \\right)} \\sin{\\left(\\frac{\\Theta_{6}}{2} \\right)} \\sin{\\left(\\frac{\\Theta_{7}}{2} \\right)} \\cos{\\left(\\frac{\\Theta_{3}}{2} \\right)} & 1.0 \\left(- 1.0 e^{i \\Phi_{3}} \\sin{\\left(\\frac{\\Theta_{0}}{2} \\right)} \\sin{\\left(\\frac{\\Theta_{1}}{2} \\right)} \\cos{\\left(\\frac{\\Theta_{4}}{2} \\right)} - 1.0 e^{i \\Phi_{3}} \\sin{\\left(\\frac{\\Theta_{3}}{2} \\right)} \\sin{\\left(\\frac{\\Theta_{4}}{2} \\right)} \\cos{\\left(\\frac{\\Theta_{0}}{2} \\right)}\\right) \\cos{\\left(\\frac{\\Theta_{7}}{2} \\right)} - 1.0 e^{i \\Phi_{3}} \\sin{\\left(\\frac{\\Theta_{6}}{2} \\right)} \\sin{\\left(\\frac{\\Theta_{7}}{2} \\right)} \\cos{\\left(\\frac{\\Theta_{0}}{2} \\right)} \\cos{\\left(\\frac{\\Theta_{3}}{2} \\right)} & 1.0 e^{i \\Phi_{4}} \\cos{\\left(\\frac{\\Theta_{1}}{2} \\right)} \\cos{\\left(\\frac{\\Theta_{4}}{2} \\right)} \\cos{\\left(\\frac{\\Theta_{7}}{2} \\right)} & 0\\\\1.0 i e^{i \\Phi_{0}} \\sin{\\left(\\frac{\\Theta_{8}}{2} \\right)} \\cos{\\left(\\frac{\\Theta_{6}}{2} \\right)} \\cos{\\left(\\frac{\\Theta_{7}}{2} \\right)} & i \\left(- 1.0 e^{i \\Phi_{1}} \\sin{\\left(\\frac{\\Theta_{3}}{2} \\right)} \\sin{\\left(\\frac{\\Theta_{6}}{2} \\right)} \\cos{\\left(\\frac{\\Theta_{7}}{2} \\right)} - 1.0 e^{i \\Phi_{1}} \\sin{\\left(\\frac{\\Theta_{4}}{2} \\right)} \\sin{\\left(\\frac{\\Theta_{7}}{2} \\right)} \\cos{\\left(\\frac{\\Theta_{3}}{2} \\right)}\\right) \\sin{\\left(\\frac{\\Theta_{8}}{2} \\right)} + 1.0 i e^{i \\Phi_{1}} \\sin{\\left(\\frac{\\Theta_{5}}{2} \\right)} \\cos{\\left(\\frac{\\Theta_{3}}{2} \\right)} \\cos{\\left(\\frac{\\Theta_{4}}{2} \\right)} \\cos{\\left(\\frac{\\Theta_{8}}{2} \\right)} & \\left(i \\left(- 1.0 e^{i \\Phi_{2}} \\sin{\\left(\\frac{\\Theta_{0}}{2} \\right)} \\sin{\\left(\\frac{\\Theta_{3}}{2} \\right)} \\cos{\\left(\\frac{\\Theta_{4}}{2} \\right)} - 1.0 e^{i \\Phi_{2}} \\sin{\\left(\\frac{\\Theta_{1}}{2} \\right)} \\sin{\\left(\\frac{\\Theta_{4}}{2} \\right)} \\cos{\\left(\\frac{\\Theta_{0}}{2} \\right)}\\right) \\sin{\\left(\\frac{\\Theta_{5}}{2} \\right)} + 1.0 i e^{i \\Phi_{2}} \\sin{\\left(\\frac{\\Theta_{2}}{2} \\right)} \\cos{\\left(\\frac{\\Theta_{0}}{2} \\right)} \\cos{\\left(\\frac{\\Theta_{1}}{2} \\right)} \\cos{\\left(\\frac{\\Theta_{5}}{2} \\right)}\\right) \\cos{\\left(\\frac{\\Theta_{8}}{2} \\right)} + i \\left(1.0 i \\left(- 1.0 i e^{i \\Phi_{2}} \\sin{\\left(\\frac{\\Theta_{0}}{2} \\right)} \\sin{\\left(\\frac{\\Theta_{3}}{2} \\right)} \\sin{\\left(\\frac{\\Theta_{4}}{2} \\right)} + 1.0 i e^{i \\Phi_{2}} \\sin{\\left(\\frac{\\Theta_{1}}{2} \\right)} \\cos{\\left(\\frac{\\Theta_{0}}{2} \\right)} \\cos{\\left(\\frac{\\Theta_{4}}{2} \\right)}\\right) \\sin{\\left(\\frac{\\Theta_{7}}{2} \\right)} - 1.0 e^{i \\Phi_{2}} \\sin{\\left(\\frac{\\Theta_{0}}{2} \\right)} \\sin{\\left(\\frac{\\Theta_{6}}{2} \\right)} \\cos{\\left(\\frac{\\Theta_{3}}{2} \\right)} \\cos{\\left(\\frac{\\Theta_{7}}{2} \\right)}\\right) \\sin{\\left(\\frac{\\Theta_{8}}{2} \\right)} & i \\left(1.0 i \\left(- 1.0 e^{i \\Phi_{3}} \\sin{\\left(\\frac{\\Theta_{0}}{2} \\right)} \\sin{\\left(\\frac{\\Theta_{1}}{2} \\right)} \\cos{\\left(\\frac{\\Theta_{4}}{2} \\right)} - 1.0 e^{i \\Phi_{3}} \\sin{\\left(\\frac{\\Theta_{3}}{2} \\right)} \\sin{\\left(\\frac{\\Theta_{4}}{2} \\right)} \\cos{\\left(\\frac{\\Theta_{0}}{2} \\right)}\\right) \\sin{\\left(\\frac{\\Theta_{7}}{2} \\right)} + 1.0 i e^{i \\Phi_{3}} \\sin{\\left(\\frac{\\Theta_{6}}{2} \\right)} \\cos{\\left(\\frac{\\Theta_{0}}{2} \\right)} \\cos{\\left(\\frac{\\Theta_{3}}{2} \\right)} \\cos{\\left(\\frac{\\Theta_{7}}{2} \\right)}\\right) \\sin{\\left(\\frac{\\Theta_{8}}{2} \\right)} + \\left(i \\left(- 1.0 i e^{i \\Phi_{3}} \\sin{\\left(\\frac{\\Theta_{0}}{2} \\right)} \\sin{\\left(\\frac{\\Theta_{1}}{2} \\right)} \\sin{\\left(\\frac{\\Theta_{4}}{2} \\right)} + 1.0 i e^{i \\Phi_{3}} \\sin{\\left(\\frac{\\Theta_{3}}{2} \\right)} \\cos{\\left(\\frac{\\Theta_{0}}{2} \\right)} \\cos{\\left(\\frac{\\Theta_{4}}{2} \\right)}\\right) \\sin{\\left(\\frac{\\Theta_{5}}{2} \\right)} - 1.0 e^{i \\Phi_{3}} \\sin{\\left(\\frac{\\Theta_{0}}{2} \\right)} \\sin{\\left(\\frac{\\Theta_{2}}{2} \\right)} \\cos{\\left(\\frac{\\Theta_{1}}{2} \\right)} \\cos{\\left(\\frac{\\Theta_{5}}{2} \\right)}\\right) \\cos{\\left(\\frac{\\Theta_{8}}{2} \\right)} & \\left(- 1.0 e^{i \\Phi_{4}} \\sin{\\left(\\frac{\\Theta_{1}}{2} \\right)} \\sin{\\left(\\frac{\\Theta_{2}}{2} \\right)} \\cos{\\left(\\frac{\\Theta_{5}}{2} \\right)} - 1.0 e^{i \\Phi_{4}} \\sin{\\left(\\frac{\\Theta_{4}}{2} \\right)} \\sin{\\left(\\frac{\\Theta_{5}}{2} \\right)} \\cos{\\left(\\frac{\\Theta_{1}}{2} \\right)}\\right) \\cos{\\left(\\frac{\\Theta_{8}}{2} \\right)} - 1.0 e^{i \\Phi_{4}} \\sin{\\left(\\frac{\\Theta_{7}}{2} \\right)} \\sin{\\left(\\frac{\\Theta_{8}}{2} \\right)} \\cos{\\left(\\frac{\\Theta_{1}}{2} \\right)} \\cos{\\left(\\frac{\\Theta_{4}}{2} \\right)} & e^{i \\Phi_{5}} \\cos{\\left(\\frac{\\Theta_{2}}{2} \\right)} \\cos{\\left(\\frac{\\Theta_{5}}{2} \\right)} \\cos{\\left(\\frac{\\Theta_{8}}{2} \\right)}\\end{matrix}\\right]$"
      ],
      "text/plain": [
       "<IPython.core.display.Math object>"
      ]
     },
     "metadata": {},
     "output_type": "display_data"
    }
   ],
   "source": [
    "pcvl.pdisplay(mzi.compute_unitary(use_symbolic=True))"
   ]
  },
  {
   "cell_type": "code",
   "execution_count": 2299,
   "metadata": {},
   "outputs": [
    {
     "data": {
      "text/plain": [
       "<perceval.components.linear_circuit.Circuit at 0x15088b940>"
      ]
     },
     "execution_count": 2299,
     "metadata": {},
     "output_type": "execute_result"
    }
   ],
   "source": [
    "c1 = Circuit(9, name=\"CCZ\")\n",
    "c1.add(3, PERM([1, 0]))\n",
    "c1.add(1, PERM([1, 0]))\n",
    "c1.add(2, PERM([1, 0]))\n",
    "\n",
    "\n",
    "c1.add(3, mzi, merge=True)\n",
    "\n",
    "c1.add(2, PERM([1, 0]))\n",
    "c1.add(1, PERM([1, 0]))\n",
    "c1.add(3, PERM([1, 0]))"
   ]
  },
  {
   "cell_type": "code",
   "execution_count": 2300,
   "metadata": {},
   "outputs": [
    {
     "data": {
      "image/svg+xml": [
       "<?xml version=\"1.0\" encoding=\"UTF-8\"?>\n",
       "<svg xmlns=\"http://www.w3.org/2000/svg\" xmlns:xlink=\"http://www.w3.org/1999/xlink\"\n",
       "     width=\"3075.0\" height=\"593.75\" viewBox=\"-30.0 0 2460.0 475.0\">\n",
       "<defs>\n",
       "</defs>\n",
       "<path d=\"M10,25 L25,25\" stroke-width=\"3\" stroke=\"darkred\" stroke-linejoin=\"miter\" fill=\"none\" />\n",
       "<path d=\"M10,75 L25,75\" stroke-width=\"3\" stroke=\"darkred\" stroke-linejoin=\"miter\" fill=\"none\" />\n",
       "<path d=\"M10,125 L25,125\" stroke-width=\"3\" stroke=\"darkred\" stroke-linejoin=\"miter\" fill=\"none\" />\n",
       "<path d=\"M10,175 L25,175\" stroke-width=\"3\" stroke=\"darkred\" stroke-linejoin=\"miter\" fill=\"none\" />\n",
       "<path d=\"M10,225 L25,225\" stroke-width=\"3\" stroke=\"darkred\" stroke-linejoin=\"miter\" fill=\"none\" />\n",
       "<path d=\"M10,275 L25,275\" stroke-width=\"3\" stroke=\"darkred\" stroke-linejoin=\"miter\" fill=\"none\" />\n",
       "<path d=\"M10,325 L25,325\" stroke-width=\"3\" stroke=\"darkred\" stroke-linejoin=\"miter\" fill=\"none\" />\n",
       "<path d=\"M10,375 L25,375\" stroke-width=\"3\" stroke=\"darkred\" stroke-linejoin=\"miter\" fill=\"none\" />\n",
       "<path d=\"M10,425 L25,425\" stroke-width=\"3\" stroke=\"darkred\" stroke-linejoin=\"miter\" fill=\"none\" />\n",
       "<path d=\"M28,175 L72,225\" stroke=\"white\" stroke-width=\"6\" fill=\"none\" />\n",
       "<path d=\"M25,175 L28,175 L72,225 L75,225\" stroke=\"darkred\" stroke-width=\"3\" fill=\"none\" />\n",
       "<path d=\"M28,225 L72,175\" stroke=\"white\" stroke-width=\"6\" fill=\"none\" />\n",
       "<path d=\"M25,225 L28,225 L72,175 L75,175\" stroke=\"darkred\" stroke-width=\"3\" fill=\"none\" />\n",
       "<path d=\"M28,75 L72,125\" stroke=\"white\" stroke-width=\"6\" fill=\"none\" />\n",
       "<path d=\"M25,75 L28,75 L72,125 L75,125\" stroke=\"darkred\" stroke-width=\"3\" fill=\"none\" />\n",
       "<path d=\"M28,125 L72,75\" stroke=\"white\" stroke-width=\"6\" fill=\"none\" />\n",
       "<path d=\"M25,125 L28,125 L72,75 L75,75\" stroke=\"darkred\" stroke-width=\"3\" fill=\"none\" />\n",
       "<path d=\"M78,125 L122,175\" stroke=\"white\" stroke-width=\"6\" fill=\"none\" />\n",
       "<path d=\"M75,125 L78,125 L122,175 L125,175\" stroke=\"darkred\" stroke-width=\"3\" fill=\"none\" />\n",
       "<path d=\"M78,175 L122,125\" stroke=\"white\" stroke-width=\"6\" fill=\"none\" />\n",
       "<path d=\"M75,175 L78,175 L122,125 L125,125\" stroke=\"darkred\" stroke-width=\"3\" fill=\"none\" />\n",
       "<path d=\"M125,175 L175,175\" stroke=\"darkred\" stroke-width=\"3\" fill=\"none\" />\n",
       "<path d=\"M130,190 L139,190 L153,160 L144,160 L130,190 L139,190 Z\" stroke=\"black\" fill=\"gray\" stroke-linejoin=\"miter\" />\n",
       "<text x=\"147\" y=\"188\" font-size=\"7\" text-anchor=\"start\">Φ=Phi0</text>\n",
       "<path d=\"M75,225 L125,225\" stroke=\"darkred\" stroke-width=\"3\" fill=\"none\" />\n",
       "<path d=\"M80,240 L89,240 L103,210 L94,210 L80,240 L89,240 Z\" stroke=\"black\" fill=\"gray\" stroke-linejoin=\"miter\" />\n",
       "<text x=\"97\" y=\"238\" font-size=\"7\" text-anchor=\"start\">Φ=Phi1</text>\n",
       "<path d=\"M25,275 L75,275\" stroke=\"darkred\" stroke-width=\"3\" fill=\"none\" />\n",
       "<path d=\"M30,290 L39,290 L53,260 L44,260 L30,290 L39,290 Z\" stroke=\"black\" fill=\"gray\" stroke-linejoin=\"miter\" />\n",
       "<text x=\"47\" y=\"288\" font-size=\"7\" text-anchor=\"start\">Φ=Phi2</text>\n",
       "<path d=\"M25,325 L75,325\" stroke=\"darkred\" stroke-width=\"3\" fill=\"none\" />\n",
       "<path d=\"M30,340 L39,340 L53,310 L44,310 L30,340 L39,340 Z\" stroke=\"black\" fill=\"gray\" stroke-linejoin=\"miter\" />\n",
       "<text x=\"47\" y=\"338\" font-size=\"7\" text-anchor=\"start\">Φ=Phi3</text>\n",
       "<path d=\"M25,375 L75,375\" stroke=\"darkred\" stroke-width=\"3\" fill=\"none\" />\n",
       "<path d=\"M30,390 L39,390 L53,360 L44,360 L30,390 L39,390 Z\" stroke=\"black\" fill=\"gray\" stroke-linejoin=\"miter\" />\n",
       "<text x=\"47\" y=\"388\" font-size=\"7\" text-anchor=\"start\">Φ=Phi4</text>\n",
       "<path d=\"M25,425 L75,425\" stroke=\"darkred\" stroke-width=\"3\" fill=\"none\" />\n",
       "<path d=\"M30,440 L39,440 L53,410 L44,410 L30,440 L39,440 Z\" stroke=\"black\" fill=\"gray\" stroke-linejoin=\"miter\" />\n",
       "<text x=\"47\" y=\"438\" font-size=\"7\" text-anchor=\"start\">Φ=Phi5</text>\n",
       "<path d=\"M75,275 L103,275 L122,294\" stroke=\"darkred\" stroke-width=\"3\" fill=\"none\" />\n",
       "<path d=\"M128,294 L147,275 L175,275\" stroke=\"darkred\" stroke-width=\"3\" fill=\"none\" />\n",
       "<path d=\"M75,325 L103,325 L122,306\" stroke=\"darkred\" stroke-width=\"3\" fill=\"none\" />\n",
       "<path d=\"M128,306 L147,325 L175,325\" stroke=\"darkred\" stroke-width=\"3\" fill=\"none\" />\n",
       "<path d=\"M100,293 L150,293 L150,307 L100,307 Z\" stroke=\"black\" fill=\"black\" stroke-linejoin=\"miter\" />\n",
       "<text x=\"125\" y=\"330\" font-size=\"7\" text-anchor=\"middle\"></text>\n",
       "<text x=\"125\" y=\"276\" font-size=\"7\" text-anchor=\"middle\">Θ=Theta0</text>\n",
       "<path d=\"M100,293 L150,293 L150,297 L100,297 Z\" stroke=\"black\" fill=\"lightgray\" stroke-linejoin=\"miter\" />\n",
       "<path d=\"M143,300 L153,300 L153,310 L143,310 Z\" stroke=\"black\" fill=\"thistle\" stroke-linejoin=\"miter\" />\n",
       "<text x=\"148\" y=\"307\" font-size=\"6\" text-anchor=\"middle\">Rx</text>\n",
       "<path d=\"M178,275 L222,325\" stroke=\"white\" stroke-width=\"6\" fill=\"none\" />\n",
       "<path d=\"M175,275 L178,275 L222,325 L225,325\" stroke=\"darkred\" stroke-width=\"3\" fill=\"none\" />\n",
       "<path d=\"M178,325 L222,275\" stroke=\"white\" stroke-width=\"6\" fill=\"none\" />\n",
       "<path d=\"M175,325 L178,325 L222,275 L225,275\" stroke=\"darkred\" stroke-width=\"3\" fill=\"none\" />\n",
       "<path d=\"M75,375 L225,375\" stroke=\"darkred\" stroke-width=\"3\" fill=\"none\" />\n",
       "<path d=\"M225,325 L253,325 L272,344\" stroke=\"darkred\" stroke-width=\"3\" fill=\"none\" />\n",
       "<path d=\"M278,344 L297,325 L325,325\" stroke=\"darkred\" stroke-width=\"3\" fill=\"none\" />\n",
       "<path d=\"M225,375 L253,375 L272,356\" stroke=\"darkred\" stroke-width=\"3\" fill=\"none\" />\n",
       "<path d=\"M278,356 L297,375 L325,375\" stroke=\"darkred\" stroke-width=\"3\" fill=\"none\" />\n",
       "<path d=\"M250,343 L300,343 L300,357 L250,357 Z\" stroke=\"black\" fill=\"black\" stroke-linejoin=\"miter\" />\n",
       "<text x=\"275\" y=\"380\" font-size=\"7\" text-anchor=\"middle\"></text>\n",
       "<text x=\"275\" y=\"326\" font-size=\"7\" text-anchor=\"middle\">Θ=Theta1</text>\n",
       "<path d=\"M250,343 L300,343 L300,347 L250,347 Z\" stroke=\"black\" fill=\"lightgray\" stroke-linejoin=\"miter\" />\n",
       "<path d=\"M293,350 L303,350 L303,360 L293,360 Z\" stroke=\"black\" fill=\"thistle\" stroke-linejoin=\"miter\" />\n",
       "<text x=\"298\" y=\"357\" font-size=\"6\" text-anchor=\"middle\">Rx</text>\n",
       "<path d=\"M328,325 L372,375\" stroke=\"white\" stroke-width=\"6\" fill=\"none\" />\n",
       "<path d=\"M325,325 L328,325 L372,375 L375,375\" stroke=\"darkred\" stroke-width=\"3\" fill=\"none\" />\n",
       "<path d=\"M328,375 L372,325\" stroke=\"white\" stroke-width=\"6\" fill=\"none\" />\n",
       "<path d=\"M325,375 L328,375 L372,325 L375,325\" stroke=\"darkred\" stroke-width=\"3\" fill=\"none\" />\n",
       "<path d=\"M75,425 L375,425\" stroke=\"darkred\" stroke-width=\"3\" fill=\"none\" />\n",
       "<path d=\"M375,375 L403,375 L422,394\" stroke=\"darkred\" stroke-width=\"3\" fill=\"none\" />\n",
       "<path d=\"M428,394 L447,375 L475,375\" stroke=\"darkred\" stroke-width=\"3\" fill=\"none\" />\n",
       "<path d=\"M375,425 L403,425 L422,406\" stroke=\"darkred\" stroke-width=\"3\" fill=\"none\" />\n",
       "<path d=\"M428,406 L447,425 L475,425\" stroke=\"darkred\" stroke-width=\"3\" fill=\"none\" />\n",
       "<path d=\"M400,393 L450,393 L450,407 L400,407 Z\" stroke=\"black\" fill=\"black\" stroke-linejoin=\"miter\" />\n",
       "<text x=\"425\" y=\"430\" font-size=\"7\" text-anchor=\"middle\"></text>\n",
       "<text x=\"425\" y=\"376\" font-size=\"7\" text-anchor=\"middle\">Θ=Theta2</text>\n",
       "<path d=\"M400,393 L450,393 L450,397 L400,397 Z\" stroke=\"black\" fill=\"lightgray\" stroke-linejoin=\"miter\" />\n",
       "<path d=\"M443,400 L453,400 L453,410 L443,410 Z\" stroke=\"black\" fill=\"thistle\" stroke-linejoin=\"miter\" />\n",
       "<text x=\"448\" y=\"407\" font-size=\"6\" text-anchor=\"middle\">Rx</text>\n",
       "<path d=\"M375,325 L475,325\" stroke=\"darkred\" stroke-width=\"3\" fill=\"none\" />\n",
       "<path d=\"M478,325 L522,375\" stroke=\"white\" stroke-width=\"6\" fill=\"none\" />\n",
       "<path d=\"M475,325 L478,325 L522,375 L525,375\" stroke=\"darkred\" stroke-width=\"3\" fill=\"none\" />\n",
       "<path d=\"M478,375 L522,325\" stroke=\"white\" stroke-width=\"6\" fill=\"none\" />\n",
       "<path d=\"M475,375 L478,375 L522,325 L525,325\" stroke=\"darkred\" stroke-width=\"3\" fill=\"none\" />\n",
       "<path d=\"M225,275 L525,275\" stroke=\"darkred\" stroke-width=\"3\" fill=\"none\" />\n",
       "<path d=\"M528,275 L572,325\" stroke=\"white\" stroke-width=\"6\" fill=\"none\" />\n",
       "<path d=\"M525,275 L528,275 L572,325 L575,325\" stroke=\"darkred\" stroke-width=\"3\" fill=\"none\" />\n",
       "<path d=\"M528,325 L572,275\" stroke=\"white\" stroke-width=\"6\" fill=\"none\" />\n",
       "<path d=\"M525,325 L528,325 L572,275 L575,275\" stroke=\"darkred\" stroke-width=\"3\" fill=\"none\" />\n",
       "<path d=\"M125,225 L575,225\" stroke=\"darkred\" stroke-width=\"3\" fill=\"none\" />\n",
       "<path d=\"M578,225 L622,275\" stroke=\"white\" stroke-width=\"6\" fill=\"none\" />\n",
       "<path d=\"M575,225 L578,225 L622,275 L625,275\" stroke=\"darkred\" stroke-width=\"3\" fill=\"none\" />\n",
       "<path d=\"M578,275 L622,225\" stroke=\"white\" stroke-width=\"6\" fill=\"none\" />\n",
       "<path d=\"M575,275 L578,275 L622,225 L625,225\" stroke=\"darkred\" stroke-width=\"3\" fill=\"none\" />\n",
       "<path d=\"M575,325 L625,325\" stroke=\"darkred\" stroke-width=\"3\" fill=\"none\" />\n",
       "<path d=\"M625,275 L653,275 L672,294\" stroke=\"darkred\" stroke-width=\"3\" fill=\"none\" />\n",
       "<path d=\"M678,294 L697,275 L725,275\" stroke=\"darkred\" stroke-width=\"3\" fill=\"none\" />\n",
       "<path d=\"M625,325 L653,325 L672,306\" stroke=\"darkred\" stroke-width=\"3\" fill=\"none\" />\n",
       "<path d=\"M678,306 L697,325 L725,325\" stroke=\"darkred\" stroke-width=\"3\" fill=\"none\" />\n",
       "<path d=\"M650,293 L700,293 L700,307 L650,307 Z\" stroke=\"black\" fill=\"black\" stroke-linejoin=\"miter\" />\n",
       "<text x=\"675\" y=\"330\" font-size=\"7\" text-anchor=\"middle\"></text>\n",
       "<text x=\"675\" y=\"276\" font-size=\"7\" text-anchor=\"middle\">Θ=Theta3</text>\n",
       "<path d=\"M650,293 L700,293 L700,297 L650,297 Z\" stroke=\"black\" fill=\"lightgray\" stroke-linejoin=\"miter\" />\n",
       "<path d=\"M693,300 L703,300 L703,310 L693,310 Z\" stroke=\"black\" fill=\"thistle\" stroke-linejoin=\"miter\" />\n",
       "<text x=\"698\" y=\"307\" font-size=\"6\" text-anchor=\"middle\">Rx</text>\n",
       "<path d=\"M728,275 L772,325\" stroke=\"white\" stroke-width=\"6\" fill=\"none\" />\n",
       "<path d=\"M725,275 L728,275 L772,325 L775,325\" stroke=\"darkred\" stroke-width=\"3\" fill=\"none\" />\n",
       "<path d=\"M728,325 L772,275\" stroke=\"white\" stroke-width=\"6\" fill=\"none\" />\n",
       "<path d=\"M725,325 L728,325 L772,275 L775,275\" stroke=\"darkred\" stroke-width=\"3\" fill=\"none\" />\n",
       "<path d=\"M525,375 L775,375\" stroke=\"darkred\" stroke-width=\"3\" fill=\"none\" />\n",
       "<path d=\"M775,325 L803,325 L822,344\" stroke=\"darkred\" stroke-width=\"3\" fill=\"none\" />\n",
       "<path d=\"M828,344 L847,325 L875,325\" stroke=\"darkred\" stroke-width=\"3\" fill=\"none\" />\n",
       "<path d=\"M775,375 L803,375 L822,356\" stroke=\"darkred\" stroke-width=\"3\" fill=\"none\" />\n",
       "<path d=\"M828,356 L847,375 L875,375\" stroke=\"darkred\" stroke-width=\"3\" fill=\"none\" />\n",
       "<path d=\"M800,343 L850,343 L850,357 L800,357 Z\" stroke=\"black\" fill=\"black\" stroke-linejoin=\"miter\" />\n",
       "<text x=\"825\" y=\"380\" font-size=\"7\" text-anchor=\"middle\"></text>\n",
       "<text x=\"825\" y=\"326\" font-size=\"7\" text-anchor=\"middle\">Θ=Theta4</text>\n",
       "<path d=\"M800,343 L850,343 L850,347 L800,347 Z\" stroke=\"black\" fill=\"lightgray\" stroke-linejoin=\"miter\" />\n",
       "<path d=\"M843,350 L853,350 L853,360 L843,360 Z\" stroke=\"black\" fill=\"thistle\" stroke-linejoin=\"miter\" />\n",
       "<text x=\"848\" y=\"357\" font-size=\"6\" text-anchor=\"middle\">Rx</text>\n",
       "<path d=\"M878,325 L922,375\" stroke=\"white\" stroke-width=\"6\" fill=\"none\" />\n",
       "<path d=\"M875,325 L878,325 L922,375 L925,375\" stroke=\"darkred\" stroke-width=\"3\" fill=\"none\" />\n",
       "<path d=\"M878,375 L922,325\" stroke=\"white\" stroke-width=\"6\" fill=\"none\" />\n",
       "<path d=\"M875,375 L878,375 L922,325 L925,325\" stroke=\"darkred\" stroke-width=\"3\" fill=\"none\" />\n",
       "<path d=\"M475,425 L925,425\" stroke=\"darkred\" stroke-width=\"3\" fill=\"none\" />\n",
       "<path d=\"M925,375 L953,375 L972,394\" stroke=\"darkred\" stroke-width=\"3\" fill=\"none\" />\n",
       "<path d=\"M978,394 L997,375 L1025,375\" stroke=\"darkred\" stroke-width=\"3\" fill=\"none\" />\n",
       "<path d=\"M925,425 L953,425 L972,406\" stroke=\"darkred\" stroke-width=\"3\" fill=\"none\" />\n",
       "<path d=\"M978,406 L997,425 L1025,425\" stroke=\"darkred\" stroke-width=\"3\" fill=\"none\" />\n",
       "<path d=\"M950,393 L1000,393 L1000,407 L950,407 Z\" stroke=\"black\" fill=\"black\" stroke-linejoin=\"miter\" />\n",
       "<text x=\"975\" y=\"430\" font-size=\"7\" text-anchor=\"middle\"></text>\n",
       "<text x=\"975\" y=\"376\" font-size=\"7\" text-anchor=\"middle\">Θ=Theta5</text>\n",
       "<path d=\"M950,393 L1000,393 L1000,397 L950,397 Z\" stroke=\"black\" fill=\"lightgray\" stroke-linejoin=\"miter\" />\n",
       "<path d=\"M993,400 L1003,400 L1003,410 L993,410 Z\" stroke=\"black\" fill=\"thistle\" stroke-linejoin=\"miter\" />\n",
       "<text x=\"998\" y=\"407\" font-size=\"6\" text-anchor=\"middle\">Rx</text>\n",
       "<path d=\"M925,325 L1025,325\" stroke=\"darkred\" stroke-width=\"3\" fill=\"none\" />\n",
       "<path d=\"M1028,325 L1072,375\" stroke=\"white\" stroke-width=\"6\" fill=\"none\" />\n",
       "<path d=\"M1025,325 L1028,325 L1072,375 L1075,375\" stroke=\"darkred\" stroke-width=\"3\" fill=\"none\" />\n",
       "<path d=\"M1028,375 L1072,325\" stroke=\"white\" stroke-width=\"6\" fill=\"none\" />\n",
       "<path d=\"M1025,375 L1028,375 L1072,325 L1075,325\" stroke=\"darkred\" stroke-width=\"3\" fill=\"none\" />\n",
       "<path d=\"M775,275 L1075,275\" stroke=\"darkred\" stroke-width=\"3\" fill=\"none\" />\n",
       "<path d=\"M1078,275 L1122,325\" stroke=\"white\" stroke-width=\"6\" fill=\"none\" />\n",
       "<path d=\"M1075,275 L1078,275 L1122,325 L1125,325\" stroke=\"darkred\" stroke-width=\"3\" fill=\"none\" />\n",
       "<path d=\"M1078,325 L1122,275\" stroke=\"white\" stroke-width=\"6\" fill=\"none\" />\n",
       "<path d=\"M1075,325 L1078,325 L1122,275 L1125,275\" stroke=\"darkred\" stroke-width=\"3\" fill=\"none\" />\n",
       "<path d=\"M625,225 L1125,225\" stroke=\"darkred\" stroke-width=\"3\" fill=\"none\" />\n",
       "<path d=\"M1128,225 L1172,275\" stroke=\"white\" stroke-width=\"6\" fill=\"none\" />\n",
       "<path d=\"M1125,225 L1128,225 L1172,275 L1175,275\" stroke=\"darkred\" stroke-width=\"3\" fill=\"none\" />\n",
       "<path d=\"M1128,275 L1172,225\" stroke=\"white\" stroke-width=\"6\" fill=\"none\" />\n",
       "<path d=\"M1125,275 L1128,275 L1172,225 L1175,225\" stroke=\"darkred\" stroke-width=\"3\" fill=\"none\" />\n",
       "<path d=\"M175,175 L1175,175\" stroke=\"darkred\" stroke-width=\"3\" fill=\"none\" />\n",
       "<path d=\"M1178,175 L1222,225\" stroke=\"white\" stroke-width=\"6\" fill=\"none\" />\n",
       "<path d=\"M1175,175 L1178,175 L1222,225 L1225,225\" stroke=\"darkred\" stroke-width=\"3\" fill=\"none\" />\n",
       "<path d=\"M1178,225 L1222,175\" stroke=\"white\" stroke-width=\"6\" fill=\"none\" />\n",
       "<path d=\"M1175,225 L1178,225 L1222,175 L1225,175\" stroke=\"darkred\" stroke-width=\"3\" fill=\"none\" />\n",
       "<path d=\"M1175,275 L1225,275\" stroke=\"darkred\" stroke-width=\"3\" fill=\"none\" />\n",
       "<path d=\"M1228,225 L1272,275\" stroke=\"white\" stroke-width=\"6\" fill=\"none\" />\n",
       "<path d=\"M1225,225 L1228,225 L1272,275 L1275,275\" stroke=\"darkred\" stroke-width=\"3\" fill=\"none\" />\n",
       "<path d=\"M1228,275 L1272,225\" stroke=\"white\" stroke-width=\"6\" fill=\"none\" />\n",
       "<path d=\"M1225,275 L1228,275 L1272,225 L1275,225\" stroke=\"darkred\" stroke-width=\"3\" fill=\"none\" />\n",
       "<path d=\"M1125,325 L1275,325\" stroke=\"darkred\" stroke-width=\"3\" fill=\"none\" />\n",
       "<path d=\"M1275,275 L1303,275 L1322,294\" stroke=\"darkred\" stroke-width=\"3\" fill=\"none\" />\n",
       "<path d=\"M1328,294 L1347,275 L1375,275\" stroke=\"darkred\" stroke-width=\"3\" fill=\"none\" />\n",
       "<path d=\"M1275,325 L1303,325 L1322,306\" stroke=\"darkred\" stroke-width=\"3\" fill=\"none\" />\n",
       "<path d=\"M1328,306 L1347,325 L1375,325\" stroke=\"darkred\" stroke-width=\"3\" fill=\"none\" />\n",
       "<path d=\"M1300,293 L1350,293 L1350,307 L1300,307 Z\" stroke=\"black\" fill=\"black\" stroke-linejoin=\"miter\" />\n",
       "<text x=\"1325\" y=\"330\" font-size=\"7\" text-anchor=\"middle\"></text>\n",
       "<text x=\"1325\" y=\"276\" font-size=\"7\" text-anchor=\"middle\">Θ=Theta6</text>\n",
       "<path d=\"M1300,293 L1350,293 L1350,297 L1300,297 Z\" stroke=\"black\" fill=\"lightgray\" stroke-linejoin=\"miter\" />\n",
       "<path d=\"M1343,300 L1353,300 L1353,310 L1343,310 Z\" stroke=\"black\" fill=\"thistle\" stroke-linejoin=\"miter\" />\n",
       "<text x=\"1348\" y=\"307\" font-size=\"6\" text-anchor=\"middle\">Rx</text>\n",
       "<path d=\"M1378,275 L1422,325\" stroke=\"white\" stroke-width=\"6\" fill=\"none\" />\n",
       "<path d=\"M1375,275 L1378,275 L1422,325 L1425,325\" stroke=\"darkred\" stroke-width=\"3\" fill=\"none\" />\n",
       "<path d=\"M1378,325 L1422,275\" stroke=\"white\" stroke-width=\"6\" fill=\"none\" />\n",
       "<path d=\"M1375,325 L1378,325 L1422,275 L1425,275\" stroke=\"darkred\" stroke-width=\"3\" fill=\"none\" />\n",
       "<path d=\"M1075,375 L1425,375\" stroke=\"darkred\" stroke-width=\"3\" fill=\"none\" />\n",
       "<path d=\"M1425,325 L1453,325 L1472,344\" stroke=\"darkred\" stroke-width=\"3\" fill=\"none\" />\n",
       "<path d=\"M1478,344 L1497,325 L1525,325\" stroke=\"darkred\" stroke-width=\"3\" fill=\"none\" />\n",
       "<path d=\"M1425,375 L1453,375 L1472,356\" stroke=\"darkred\" stroke-width=\"3\" fill=\"none\" />\n",
       "<path d=\"M1478,356 L1497,375 L1525,375\" stroke=\"darkred\" stroke-width=\"3\" fill=\"none\" />\n",
       "<path d=\"M1450,343 L1500,343 L1500,357 L1450,357 Z\" stroke=\"black\" fill=\"black\" stroke-linejoin=\"miter\" />\n",
       "<text x=\"1475\" y=\"380\" font-size=\"7\" text-anchor=\"middle\"></text>\n",
       "<text x=\"1475\" y=\"326\" font-size=\"7\" text-anchor=\"middle\">Θ=Theta7</text>\n",
       "<path d=\"M1450,343 L1500,343 L1500,347 L1450,347 Z\" stroke=\"black\" fill=\"lightgray\" stroke-linejoin=\"miter\" />\n",
       "<path d=\"M1493,350 L1503,350 L1503,360 L1493,360 Z\" stroke=\"black\" fill=\"thistle\" stroke-linejoin=\"miter\" />\n",
       "<text x=\"1498\" y=\"357\" font-size=\"6\" text-anchor=\"middle\">Rx</text>\n",
       "<path d=\"M1528,325 L1572,375\" stroke=\"white\" stroke-width=\"6\" fill=\"none\" />\n",
       "<path d=\"M1525,325 L1528,325 L1572,375 L1575,375\" stroke=\"darkred\" stroke-width=\"3\" fill=\"none\" />\n",
       "<path d=\"M1528,375 L1572,325\" stroke=\"white\" stroke-width=\"6\" fill=\"none\" />\n",
       "<path d=\"M1525,375 L1528,375 L1572,325 L1575,325\" stroke=\"darkred\" stroke-width=\"3\" fill=\"none\" />\n",
       "<path d=\"M1025,425 L1575,425\" stroke=\"darkred\" stroke-width=\"3\" fill=\"none\" />\n",
       "<path d=\"M1575,375 L1603,375 L1622,394\" stroke=\"darkred\" stroke-width=\"3\" fill=\"none\" />\n",
       "<path d=\"M1628,394 L1647,375 L1675,375\" stroke=\"darkred\" stroke-width=\"3\" fill=\"none\" />\n",
       "<path d=\"M1575,425 L1603,425 L1622,406\" stroke=\"darkred\" stroke-width=\"3\" fill=\"none\" />\n",
       "<path d=\"M1628,406 L1647,425 L1675,425\" stroke=\"darkred\" stroke-width=\"3\" fill=\"none\" />\n",
       "<path d=\"M1600,393 L1650,393 L1650,407 L1600,407 Z\" stroke=\"black\" fill=\"black\" stroke-linejoin=\"miter\" />\n",
       "<text x=\"1625\" y=\"430\" font-size=\"7\" text-anchor=\"middle\"></text>\n",
       "<text x=\"1625\" y=\"376\" font-size=\"7\" text-anchor=\"middle\">Θ=Theta8</text>\n",
       "<path d=\"M1600,393 L1650,393 L1650,397 L1600,397 Z\" stroke=\"black\" fill=\"lightgray\" stroke-linejoin=\"miter\" />\n",
       "<path d=\"M1643,400 L1653,400 L1653,410 L1643,410 Z\" stroke=\"black\" fill=\"thistle\" stroke-linejoin=\"miter\" />\n",
       "<text x=\"1648\" y=\"407\" font-size=\"6\" text-anchor=\"middle\">Rx</text>\n",
       "<path d=\"M1575,325 L1675,325\" stroke=\"darkred\" stroke-width=\"3\" fill=\"none\" />\n",
       "<path d=\"M1678,325 L1722,375\" stroke=\"white\" stroke-width=\"6\" fill=\"none\" />\n",
       "<path d=\"M1675,325 L1678,325 L1722,375 L1725,375\" stroke=\"darkred\" stroke-width=\"3\" fill=\"none\" />\n",
       "<path d=\"M1678,375 L1722,325\" stroke=\"white\" stroke-width=\"6\" fill=\"none\" />\n",
       "<path d=\"M1675,375 L1678,375 L1722,325 L1725,325\" stroke=\"darkred\" stroke-width=\"3\" fill=\"none\" />\n",
       "<path d=\"M1425,275 L1725,275\" stroke=\"darkred\" stroke-width=\"3\" fill=\"none\" />\n",
       "<path d=\"M1728,275 L1772,325\" stroke=\"white\" stroke-width=\"6\" fill=\"none\" />\n",
       "<path d=\"M1725,275 L1728,275 L1772,325 L1775,325\" stroke=\"darkred\" stroke-width=\"3\" fill=\"none\" />\n",
       "<path d=\"M1728,325 L1772,275\" stroke=\"white\" stroke-width=\"6\" fill=\"none\" />\n",
       "<path d=\"M1725,325 L1728,325 L1772,275 L1775,275\" stroke=\"darkred\" stroke-width=\"3\" fill=\"none\" />\n",
       "<path d=\"M1275,225 L1775,225\" stroke=\"darkred\" stroke-width=\"3\" fill=\"none\" />\n",
       "<path d=\"M1778,225 L1822,275\" stroke=\"white\" stroke-width=\"6\" fill=\"none\" />\n",
       "<path d=\"M1775,225 L1778,225 L1822,275 L1825,275\" stroke=\"darkred\" stroke-width=\"3\" fill=\"none\" />\n",
       "<path d=\"M1778,275 L1822,225\" stroke=\"white\" stroke-width=\"6\" fill=\"none\" />\n",
       "<path d=\"M1775,275 L1778,275 L1822,225 L1825,225\" stroke=\"darkred\" stroke-width=\"3\" fill=\"none\" />\n",
       "<path d=\"M1225,175 L1825,175\" stroke=\"darkred\" stroke-width=\"3\" fill=\"none\" />\n",
       "<path d=\"M1828,175 L1872,225\" stroke=\"white\" stroke-width=\"6\" fill=\"none\" />\n",
       "<path d=\"M1825,175 L1828,175 L1872,225 L1875,225\" stroke=\"darkred\" stroke-width=\"3\" fill=\"none\" />\n",
       "<path d=\"M1828,225 L1872,175\" stroke=\"white\" stroke-width=\"6\" fill=\"none\" />\n",
       "<path d=\"M1825,225 L1828,225 L1872,175 L1875,175\" stroke=\"darkred\" stroke-width=\"3\" fill=\"none\" />\n",
       "<path d=\"M1875,175 L1903,175 L1922,194\" stroke=\"darkred\" stroke-width=\"3\" fill=\"none\" />\n",
       "<path d=\"M1928,194 L1947,175 L1975,175\" stroke=\"darkred\" stroke-width=\"3\" fill=\"none\" />\n",
       "<path d=\"M1875,225 L1903,225 L1922,206\" stroke=\"darkred\" stroke-width=\"3\" fill=\"none\" />\n",
       "<path d=\"M1928,206 L1947,225 L1975,225\" stroke=\"darkred\" stroke-width=\"3\" fill=\"none\" />\n",
       "<path d=\"M1900,193 L1950,193 L1950,207 L1900,207 Z\" stroke=\"black\" fill=\"black\" stroke-linejoin=\"miter\" />\n",
       "<text x=\"1925\" y=\"230\" font-size=\"7\" text-anchor=\"middle\"></text>\n",
       "<text x=\"1925\" y=\"176\" font-size=\"7\" text-anchor=\"middle\">Θ=Theta9</text>\n",
       "<path d=\"M1900,193 L1950,193 L1950,197 L1900,197 Z\" stroke=\"black\" fill=\"lightgray\" stroke-linejoin=\"miter\" />\n",
       "<path d=\"M1943,200 L1953,200 L1953,210 L1943,210 Z\" stroke=\"black\" fill=\"thistle\" stroke-linejoin=\"miter\" />\n",
       "<text x=\"1948\" y=\"207\" font-size=\"6\" text-anchor=\"middle\">Rx</text>\n",
       "<path d=\"M1825,275 L1975,275\" stroke=\"darkred\" stroke-width=\"3\" fill=\"none\" />\n",
       "<path d=\"M1975,225 L2003,225 L2022,244\" stroke=\"darkred\" stroke-width=\"3\" fill=\"none\" />\n",
       "<path d=\"M2028,244 L2047,225 L2075,225\" stroke=\"darkred\" stroke-width=\"3\" fill=\"none\" />\n",
       "<path d=\"M1975,275 L2003,275 L2022,256\" stroke=\"darkred\" stroke-width=\"3\" fill=\"none\" />\n",
       "<path d=\"M2028,256 L2047,275 L2075,275\" stroke=\"darkred\" stroke-width=\"3\" fill=\"none\" />\n",
       "<path d=\"M2000,243 L2050,243 L2050,257 L2000,257 Z\" stroke=\"black\" fill=\"black\" stroke-linejoin=\"miter\" />\n",
       "<text x=\"2025\" y=\"280\" font-size=\"7\" text-anchor=\"middle\"></text>\n",
       "<text x=\"2025\" y=\"226\" font-size=\"7\" text-anchor=\"middle\">Θ=Theta10</text>\n",
       "<path d=\"M2000,243 L2050,243 L2050,247 L2000,247 Z\" stroke=\"black\" fill=\"lightgray\" stroke-linejoin=\"miter\" />\n",
       "<path d=\"M2043,250 L2053,250 L2053,260 L2043,260 Z\" stroke=\"black\" fill=\"thistle\" stroke-linejoin=\"miter\" />\n",
       "<text x=\"2048\" y=\"257\" font-size=\"6\" text-anchor=\"middle\">Rx</text>\n",
       "<path d=\"M1975,175 L2075,175\" stroke=\"darkred\" stroke-width=\"3\" fill=\"none\" />\n",
       "<path d=\"M2078,175 L2122,225\" stroke=\"white\" stroke-width=\"6\" fill=\"none\" />\n",
       "<path d=\"M2075,175 L2078,175 L2122,225 L2125,225\" stroke=\"darkred\" stroke-width=\"3\" fill=\"none\" />\n",
       "<path d=\"M2078,225 L2122,175\" stroke=\"white\" stroke-width=\"6\" fill=\"none\" />\n",
       "<path d=\"M2075,225 L2078,225 L2122,175 L2125,175\" stroke=\"darkred\" stroke-width=\"3\" fill=\"none\" />\n",
       "<path d=\"M2075,275 L2125,275\" stroke=\"darkred\" stroke-width=\"3\" fill=\"none\" />\n",
       "<path d=\"M2125,225 L2153,225 L2172,244\" stroke=\"darkred\" stroke-width=\"3\" fill=\"none\" />\n",
       "<path d=\"M2178,244 L2197,225 L2225,225\" stroke=\"darkred\" stroke-width=\"3\" fill=\"none\" />\n",
       "<path d=\"M2125,275 L2153,275 L2172,256\" stroke=\"darkred\" stroke-width=\"3\" fill=\"none\" />\n",
       "<path d=\"M2178,256 L2197,275 L2225,275\" stroke=\"darkred\" stroke-width=\"3\" fill=\"none\" />\n",
       "<path d=\"M2150,243 L2200,243 L2200,257 L2150,257 Z\" stroke=\"black\" fill=\"black\" stroke-linejoin=\"miter\" />\n",
       "<text x=\"2175\" y=\"280\" font-size=\"7\" text-anchor=\"middle\"></text>\n",
       "<text x=\"2175\" y=\"226\" font-size=\"7\" text-anchor=\"middle\">Θ=Theta11</text>\n",
       "<path d=\"M2150,243 L2200,243 L2200,247 L2150,247 Z\" stroke=\"black\" fill=\"lightgray\" stroke-linejoin=\"miter\" />\n",
       "<path d=\"M2193,250 L2203,250 L2203,260 L2193,260 Z\" stroke=\"black\" fill=\"thistle\" stroke-linejoin=\"miter\" />\n",
       "<text x=\"2198\" y=\"257\" font-size=\"6\" text-anchor=\"middle\">Rx</text>\n",
       "<path d=\"M2125,175 L2225,175\" stroke=\"darkred\" stroke-width=\"3\" fill=\"none\" />\n",
       "<path d=\"M2228,175 L2272,225\" stroke=\"white\" stroke-width=\"6\" fill=\"none\" />\n",
       "<path d=\"M2225,175 L2228,175 L2272,225 L2275,225\" stroke=\"darkred\" stroke-width=\"3\" fill=\"none\" />\n",
       "<path d=\"M2228,225 L2272,175\" stroke=\"white\" stroke-width=\"6\" fill=\"none\" />\n",
       "<path d=\"M2225,225 L2228,225 L2272,175 L2275,175\" stroke=\"darkred\" stroke-width=\"3\" fill=\"none\" />\n",
       "<path d=\"M125,125 L2275,125\" stroke=\"darkred\" stroke-width=\"3\" fill=\"none\" />\n",
       "<path d=\"M2278,125 L2322,175\" stroke=\"white\" stroke-width=\"6\" fill=\"none\" />\n",
       "<path d=\"M2275,125 L2278,125 L2322,175 L2325,175\" stroke=\"darkred\" stroke-width=\"3\" fill=\"none\" />\n",
       "<path d=\"M2278,175 L2322,125\" stroke=\"white\" stroke-width=\"6\" fill=\"none\" />\n",
       "<path d=\"M2275,175 L2278,175 L2322,125 L2325,125\" stroke=\"darkred\" stroke-width=\"3\" fill=\"none\" />\n",
       "<path d=\"M75,75 L2325,75\" stroke=\"darkred\" stroke-width=\"3\" fill=\"none\" />\n",
       "<path d=\"M2328,75 L2372,125\" stroke=\"white\" stroke-width=\"6\" fill=\"none\" />\n",
       "<path d=\"M2325,75 L2328,75 L2372,125 L2375,125\" stroke=\"darkred\" stroke-width=\"3\" fill=\"none\" />\n",
       "<path d=\"M2328,125 L2372,75\" stroke=\"white\" stroke-width=\"6\" fill=\"none\" />\n",
       "<path d=\"M2325,125 L2328,125 L2372,75 L2375,75\" stroke=\"darkred\" stroke-width=\"3\" fill=\"none\" />\n",
       "<path d=\"M2275,225 L2325,225\" stroke=\"darkred\" stroke-width=\"3\" fill=\"none\" />\n",
       "<path d=\"M2328,175 L2372,225\" stroke=\"white\" stroke-width=\"6\" fill=\"none\" />\n",
       "<path d=\"M2325,175 L2328,175 L2372,225 L2375,225\" stroke=\"darkred\" stroke-width=\"3\" fill=\"none\" />\n",
       "<path d=\"M2328,225 L2372,175\" stroke=\"white\" stroke-width=\"6\" fill=\"none\" />\n",
       "<path d=\"M2325,225 L2328,225 L2372,175 L2375,175\" stroke=\"darkred\" stroke-width=\"3\" fill=\"none\" />\n",
       "<path d=\"M25,25 L2375,25\" stroke=\"darkred\" stroke-width=\"3\" fill=\"none\" />\n",
       "<path d=\"M2225,275 L2375,275\" stroke=\"darkred\" stroke-width=\"3\" fill=\"none\" />\n",
       "<path d=\"M1775,325 L2375,325\" stroke=\"darkred\" stroke-width=\"3\" fill=\"none\" />\n",
       "<path d=\"M1725,375 L2375,375\" stroke=\"darkred\" stroke-width=\"3\" fill=\"none\" />\n",
       "<path d=\"M1675,425 L2375,425\" stroke=\"darkred\" stroke-width=\"3\" fill=\"none\" />\n",
       "<path d=\"M2375,25 L2390,25\" stroke-width=\"3\" stroke=\"darkred\" stroke-linejoin=\"miter\" fill=\"none\" />\n",
       "<path d=\"M2375,75 L2390,75\" stroke-width=\"3\" stroke=\"darkred\" stroke-linejoin=\"miter\" fill=\"none\" />\n",
       "<path d=\"M2375,125 L2390,125\" stroke-width=\"3\" stroke=\"darkred\" stroke-linejoin=\"miter\" fill=\"none\" />\n",
       "<path d=\"M2375,175 L2390,175\" stroke-width=\"3\" stroke=\"darkred\" stroke-linejoin=\"miter\" fill=\"none\" />\n",
       "<path d=\"M2375,225 L2390,225\" stroke-width=\"3\" stroke=\"darkred\" stroke-linejoin=\"miter\" fill=\"none\" />\n",
       "<path d=\"M2375,275 L2390,275\" stroke-width=\"3\" stroke=\"darkred\" stroke-linejoin=\"miter\" fill=\"none\" />\n",
       "<path d=\"M2375,325 L2390,325\" stroke-width=\"3\" stroke=\"darkred\" stroke-linejoin=\"miter\" fill=\"none\" />\n",
       "<path d=\"M2375,375 L2390,375\" stroke-width=\"3\" stroke=\"darkred\" stroke-linejoin=\"miter\" fill=\"none\" />\n",
       "<path d=\"M2375,425 L2390,425\" stroke-width=\"3\" stroke=\"darkred\" stroke-linejoin=\"miter\" fill=\"none\" />\n",
       "<text x=\"2400\" y=\"28\" font-size=\"10\" text-anchor=\"end\">0</text>\n",
       "<text x=\"2400\" y=\"78\" font-size=\"10\" text-anchor=\"end\">1</text>\n",
       "<text x=\"2400\" y=\"128\" font-size=\"10\" text-anchor=\"end\">2</text>\n",
       "<text x=\"2400\" y=\"178\" font-size=\"10\" text-anchor=\"end\">3</text>\n",
       "<text x=\"2400\" y=\"228\" font-size=\"10\" text-anchor=\"end\">4</text>\n",
       "<text x=\"2400\" y=\"278\" font-size=\"10\" text-anchor=\"end\">5</text>\n",
       "<text x=\"2400\" y=\"328\" font-size=\"10\" text-anchor=\"end\">6</text>\n",
       "<text x=\"2400\" y=\"378\" font-size=\"10\" text-anchor=\"end\">7</text>\n",
       "<text x=\"2400\" y=\"428\" font-size=\"10\" text-anchor=\"end\">8</text>\n",
       "<text x=\"0\" y=\"28\" font-size=\"10\" text-anchor=\"start\">0</text>\n",
       "<text x=\"0\" y=\"78\" font-size=\"10\" text-anchor=\"start\">1</text>\n",
       "<text x=\"0\" y=\"128\" font-size=\"10\" text-anchor=\"start\">2</text>\n",
       "<text x=\"0\" y=\"178\" font-size=\"10\" text-anchor=\"start\">3</text>\n",
       "<text x=\"0\" y=\"228\" font-size=\"10\" text-anchor=\"start\">4</text>\n",
       "<text x=\"0\" y=\"278\" font-size=\"10\" text-anchor=\"start\">5</text>\n",
       "<text x=\"0\" y=\"328\" font-size=\"10\" text-anchor=\"start\">6</text>\n",
       "<text x=\"0\" y=\"378\" font-size=\"10\" text-anchor=\"start\">7</text>\n",
       "<text x=\"0\" y=\"428\" font-size=\"10\" text-anchor=\"start\">8</text>\n",
       "</svg>"
      ],
      "text/plain": [
       "<drawsvg.drawing.Drawing at 0x153f81360>"
      ]
     },
     "execution_count": 2300,
     "metadata": {},
     "output_type": "execute_result"
    }
   ],
   "source": [
    "pcvl.pdisplay(c1)\n",
    "# 1 - 4\n",
    "# 3 - 5\n",
    "# 5 - 6"
   ]
  },
  {
   "cell_type": "code",
   "execution_count": 2301,
   "metadata": {},
   "outputs": [
    {
     "data": {
      "text/plain": [
       "<perceval.components.processor.Processor at 0x153f79930>"
      ]
     },
     "execution_count": 2301,
     "metadata": {},
     "output_type": "execute_result"
    }
   ],
   "source": [
    "p1 = Processor(\"SLOS\", c1)\n",
    "p1.set_postselection(PostSelect(\"[0,1]==1 & [2,3]==1 & [4,5]==1\"))\n",
    "p1.add_herald(6, 1)\n",
    "p1.add_herald(7, 1)\n",
    "p1.add_herald(8, 1)"
   ]
  },
  {
   "cell_type": "code",
   "execution_count": 2302,
   "metadata": {},
   "outputs": [
    {
     "data": {
      "text/html": [
       "<table>\n",
       "<thead>\n",
       "<tr><th style=\"text-align: right;\">   </th><th style=\"text-align: right;\">        000</th><th style=\"text-align: right;\">        001</th><th style=\"text-align: right;\">       010</th><th style=\"text-align: right;\">       011</th><th style=\"text-align: right;\">        100</th><th style=\"text-align: right;\">        101</th><th style=\"text-align: right;\">     110</th><th style=\"text-align: right;\">     111</th></tr>\n",
       "</thead>\n",
       "<tbody>\n",
       "<tr><td style=\"text-align: right;\">000</td><td style=\"text-align: right;\">0.999975   </td><td style=\"text-align: right;\">2.50064e-05</td><td style=\"text-align: right;\">0         </td><td style=\"text-align: right;\">0         </td><td style=\"text-align: right;\">0          </td><td style=\"text-align: right;\">0          </td><td style=\"text-align: right;\">0       </td><td style=\"text-align: right;\">0       </td></tr>\n",
       "<tr><td style=\"text-align: right;\">001</td><td style=\"text-align: right;\">2.50064e-05</td><td style=\"text-align: right;\">0.999975   </td><td style=\"text-align: right;\">0         </td><td style=\"text-align: right;\">0         </td><td style=\"text-align: right;\">0          </td><td style=\"text-align: right;\">0          </td><td style=\"text-align: right;\">0       </td><td style=\"text-align: right;\">0       </td></tr>\n",
       "<tr><td style=\"text-align: right;\">010</td><td style=\"text-align: right;\">0          </td><td style=\"text-align: right;\">0          </td><td style=\"text-align: right;\">0.999867  </td><td style=\"text-align: right;\">0.00013279</td><td style=\"text-align: right;\">0          </td><td style=\"text-align: right;\">0          </td><td style=\"text-align: right;\">0       </td><td style=\"text-align: right;\">0       </td></tr>\n",
       "<tr><td style=\"text-align: right;\">011</td><td style=\"text-align: right;\">0          </td><td style=\"text-align: right;\">0          </td><td style=\"text-align: right;\">0.00013279</td><td style=\"text-align: right;\">0.999867  </td><td style=\"text-align: right;\">0          </td><td style=\"text-align: right;\">0          </td><td style=\"text-align: right;\">0       </td><td style=\"text-align: right;\">0       </td></tr>\n",
       "<tr><td style=\"text-align: right;\">100</td><td style=\"text-align: right;\">0          </td><td style=\"text-align: right;\">0          </td><td style=\"text-align: right;\">0         </td><td style=\"text-align: right;\">0         </td><td style=\"text-align: right;\">0.999973   </td><td style=\"text-align: right;\">2.69464e-05</td><td style=\"text-align: right;\">0       </td><td style=\"text-align: right;\">0       </td></tr>\n",
       "<tr><td style=\"text-align: right;\">101</td><td style=\"text-align: right;\">0          </td><td style=\"text-align: right;\">0          </td><td style=\"text-align: right;\">0         </td><td style=\"text-align: right;\">0         </td><td style=\"text-align: right;\">2.69464e-05</td><td style=\"text-align: right;\">0.999973   </td><td style=\"text-align: right;\">0       </td><td style=\"text-align: right;\">0       </td></tr>\n",
       "<tr><td style=\"text-align: right;\">110</td><td style=\"text-align: right;\">0          </td><td style=\"text-align: right;\">0          </td><td style=\"text-align: right;\">0         </td><td style=\"text-align: right;\">0         </td><td style=\"text-align: right;\">0          </td><td style=\"text-align: right;\">0          </td><td style=\"text-align: right;\">0       </td><td style=\"text-align: right;\">0.999997</td></tr>\n",
       "<tr><td style=\"text-align: right;\">111</td><td style=\"text-align: right;\">0          </td><td style=\"text-align: right;\">0          </td><td style=\"text-align: right;\">0         </td><td style=\"text-align: right;\">0         </td><td style=\"text-align: right;\">0          </td><td style=\"text-align: right;\">0          </td><td style=\"text-align: right;\">0.999997</td><td style=\"text-align: right;\">0       </td></tr>\n",
       "</tbody>\n",
       "</table>"
      ],
      "text/plain": [
       "<IPython.core.display.HTML object>"
      ]
     },
     "metadata": {},
     "output_type": "display_data"
    },
    {
     "name": "stdout",
     "output_type": "stream",
     "text": [
      "performance = 0.002655503061850858, fidelity = 0.9999530322517921\n"
     ]
    }
   ],
   "source": [
    "params = [\n",
    "    2.25737498e00,\n",
    "    2.97297130e00,\n",
    "    3.14824670e00,\n",
    "    1.27240162e00,\n",
    "    4.50761795e00,\n",
    "    2.50392858e-01,\n",
    "    4.59196110e00,\n",
    "    2.09991334e00,\n",
    "    6.08126079e-05,\n",
    "    2.22108442e00,\n",
    "    1.35783363e00,\n",
    "    5.51037261e-01,\n",
    "    1.04146664e00,\n",
    "    7.08526392e-01,\n",
    "    1.67120624e00,\n",
    "    3.04151183e00,\n",
    "    5.28277256e00,\n",
    "    1.49169660e00,\n",
    "]\n",
    "\n",
    "set_phis(phis, params[:6])\n",
    "set_thetas(thetas, params[6:])\n",
    "proc = Processor(\"SLOS\")\n",
    "proc.add(4, pcvl.BS.H())\n",
    "proc.add(0, p1)\n",
    "proc.add(4, pcvl.BS.H())\n",
    "\n",
    "\n",
    "states = {\n",
    "    pcvl.BasicState([1, 0, 1, 0, 1, 0]): \"000\",\n",
    "    pcvl.BasicState([1, 0, 1, 0, 0, 1]): \"001\",\n",
    "    pcvl.BasicState([1, 0, 0, 1, 1, 0]): \"010\",\n",
    "    pcvl.BasicState([1, 0, 0, 1, 0, 1]): \"011\",\n",
    "    pcvl.BasicState([0, 1, 1, 0, 1, 0]): \"100\",\n",
    "    pcvl.BasicState([0, 1, 1, 0, 0, 1]): \"101\",\n",
    "    pcvl.BasicState([0, 1, 0, 1, 1, 0]): \"110\",\n",
    "    pcvl.BasicState([0, 1, 0, 1, 0, 1]): \"111\",\n",
    "}\n",
    "\n",
    "ca = pcvl.algorithm.Analyzer(proc, states)\n",
    "\n",
    "truth_table = {\n",
    "    \"000\": \"000\",\n",
    "    \"001\": \"001\",\n",
    "    \"010\": \"010\",\n",
    "    \"011\": \"011\",\n",
    "    \"100\": \"100\",\n",
    "    \"101\": \"101\",\n",
    "    \"110\": \"111\",\n",
    "    \"111\": \"110\",\n",
    "}\n",
    "ca.compute(expected=truth_table)\n",
    "\n",
    "pcvl.pdisplay(ca)\n",
    "print(f\"performance = {ca.performance}, fidelity = {ca.fidelity.real}\")"
   ]
  }
 ],
 "metadata": {
  "kernelspec": {
   "display_name": "MIT2024QHackthon-6TOJrnvm",
   "language": "python",
   "name": "python3"
  },
  "language_info": {
   "codemirror_mode": {
    "name": "ipython",
    "version": 3
   },
   "file_extension": ".py",
   "mimetype": "text/x-python",
   "name": "python",
   "nbconvert_exporter": "python",
   "pygments_lexer": "ipython3",
   "version": "3.10.1"
  }
 },
 "nbformat": 4,
 "nbformat_minor": 2
}

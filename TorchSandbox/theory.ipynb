{
 "cells": [
  {
   "cell_type": "code",
   "execution_count": 449,
   "metadata": {},
   "outputs": [],
   "source": [
    "import numpy as np\n",
    "from functools import reduce\n",
    "import torch"
   ]
  },
  {
   "cell_type": "code",
   "execution_count": 434,
   "metadata": {},
   "outputs": [],
   "source": [
    "def permutations(arr):\n",
    "    if not arr : return [[]]\n",
    "    res = []\n",
    "    for i in range(len(arr)):\n",
    "        curr = arr[i]\n",
    "        others = arr[:i] + arr[i+1:]\n",
    "        for permutation in permutations(others):\n",
    "            res.append([curr] + permutation)\n",
    "    return res\n",
    "\n",
    "def add(a, b) : return a + b\n",
    "def mult(a, b) : return a * b\n",
    "\n",
    "def int_to_bitarray(input, n) : return [int(bit) for bit in bin(input)[2:].zfill(n)]"
   ]
  },
  {
   "cell_type": "code",
   "execution_count": 604,
   "metadata": {},
   "outputs": [],
   "source": [
    "indices = [\n",
    "  [0,1],\n",
    "  [2,3],\n",
    "  [4,5],\n",
    "  [1,2],\n",
    "  [3,4],\n",
    "  [0,1],\n",
    "  [2,3],\n",
    "  [4,5],\n",
    "  [1,2],\n",
    "  [3,4]\n",
    "]\n",
    "n = 3\n",
    "m = 3\n",
    "\n",
    "At = torch.zeros((8,8), dtype=torch.complex128)\n",
    "for i in range(7) : At[i, i] = 1\n",
    "At[7,7] = -1"
   ]
  },
  {
   "cell_type": "code",
   "execution_count": 547,
   "metadata": {},
   "outputs": [],
   "source": [
    "indices = [\n",
    "  [0,2],\n",
    "  [1,3],\n",
    "  [0,1],\n",
    "  [2,3]\n",
    "]\n",
    "n = 2\n",
    "m = 2\n",
    "\n",
    "At = torch.tensor([[1,0,0,0],[0,1,0,0],[0,0,1,0],[0,0,0,-1]], dtype=torch.complex128)"
   ]
  },
  {
   "cell_type": "code",
   "execution_count": 605,
   "metadata": {},
   "outputs": [],
   "source": [
    "# HELPER FUNCTIONS\n",
    "\n",
    "def hadamard(param, i, j, N) :\n",
    "  res = torch.zeros((N,N), dtype=torch.complex128)\n",
    "  for k in range(N) :\n",
    "    for l in range(N) :\n",
    "      if k == i and l == i : res[k,l] = torch.cos(param / 2)\n",
    "      elif k == i and l == j : res[k,l] = 1j * torch.sin(param / 2)\n",
    "      elif k == j and l == i : res[k,l] = 1j * torch.sin(param / 2)\n",
    "      elif k == j and l == j : res[k,l] = torch.cos(param / 2)\n",
    "      elif k == l : res[k,l] = 1\n",
    "  return res\n",
    "\n",
    "def get_U(phases, thetas, n, m, indices) : \n",
    "  U0 = torch.zeros((n+m, n+m), dtype=torch.complex128)\n",
    "  for i in range(n+m) : \n",
    "    if i < n : \n",
    "      U0[i, i] = torch.exp(1j * phases[i])\n",
    "    else :\n",
    "      U0[i, i] = 1\n",
    "  matrices = [hadamard(param, i[0], i[1], n + m) for param, i in zip(thetas, indices)]#[::-1]\n",
    "  U = reduce(lambda x, y : torch.matmul(y, x), matrices, U0)\n",
    "  return U\n",
    "\n",
    "def get_A(U, n, m) : \n",
    "  A = torch.zeros((2**n,2**n), dtype=torch.complex128)\n",
    "  for row in range(2**n) :\n",
    "    row_bits = int_to_bitarray(row, n)\n",
    "    for col in range(2**n) : \n",
    "      col_bits = int_to_bitarray(col, n)\n",
    "      if sum(row_bits) == sum(col_bits) :\n",
    "        in_indices = [i for i, val in enumerate(col_bits) if val] + list(range(n, n+m))\n",
    "        out_indices = [o for o, val in enumerate(row_bits) if val] + list(range(n, n+m))\n",
    "        #print(\"row: \", row, \"col: \", col, [[[i,j] for i, j in zip(in_indices, oi)] for oi in permutations(out_indices)])\n",
    "        A[row, col] = reduce(torch.add, [reduce(torch.multiply, [U[i, j] \n",
    "                        for i, j in zip(in_indices, oi)]) for oi in permutations(out_indices)])\n",
    "  return A\n",
    "\n",
    "def get_fidelity(A, At) : \n",
    "  B = A / A[0,0]\n",
    "  numer = torch.trace(B.conj() @ At) * torch.trace(At.conj() @ B) \n",
    "  denom = torch.trace(B.conj() @ B) * torch.trace(At.conj() @ At)\n",
    "  fidelity = numer / denom\n",
    "  return fidelity.real\n",
    "\n",
    "def get_dist(A, At) :\n",
    "  B = A / A[0, 0]\n",
    "  return torch.sum(torch.square(torch.abs(B - At)))\n",
    "\n",
    "def get_success(A) : return A[0, 0].real ** 2"
   ]
  },
  {
   "cell_type": "code",
   "execution_count": 611,
   "metadata": {},
   "outputs": [],
   "source": [
    "g = torch.Generator().manual_seed(3141592653)\n",
    "phases = 2 * torch.pi * torch.rand(n, generator=g, dtype=torch.float64) - torch.pi\n",
    "thetas = 2 * torch.pi * torch.rand(len(indices), generator=g, dtype=torch.float64) - torch.pi\n",
    "\n",
    "for param in [phases, thetas] : param.requires_grad = True\n",
    "\n",
    "#phases = torch.tensor([torch.pi, torch.pi])\n",
    "#thetas = torch.tensor([2*54.74 * torch.pi / 180, 2*54.74 * torch.pi / 180, 2*-54.74 * torch.pi / 180, 2*17.63 * torch.pi / 180], requires_grad=True, dtype=torch.float64)\n",
    "optimizer = torch.optim.SGD([phases, thetas], 0.05)"
   ]
  },
  {
   "cell_type": "code",
   "execution_count": 617,
   "metadata": {},
   "outputs": [],
   "source": [
    "optimizer = torch.optim.SGD([phases, thetas], 0.01)"
   ]
  },
  {
   "cell_type": "code",
   "execution_count": 618,
   "metadata": {},
   "outputs": [
    {
     "name": "stdout",
     "output_type": "stream",
     "text": [
      "0 0.8459407270597069\n",
      "50 0.9801555529941426\n",
      "100 0.999751669761665\n",
      "150 0.9999974205137899\n",
      "200 0.9999999212483678\n",
      "250 0.9999999466327658\n",
      "300 0.999999946890236\n",
      "350 0.9999999468932375\n",
      "400 0.99999994689317\n",
      "450 0.9999999468930317\n",
      "Optimized phases: [ 3.14159265e+00 -3.55271368e-15  3.55271368e-15]\n",
      "Optimized thetas: [-2.11327576 -0.38009807  1.26824939  0.98771758 -0.16621758  2.10052575\n",
      "  0.77861283  3.05156843 -2.49794873 -0.61153585]\n",
      "Fidelity: 0.9999999468929395\n",
      "Success: 0.0038549096438747913\n"
     ]
    }
   ],
   "source": [
    "for step in range(500) :\n",
    "\n",
    "  U = get_U(phases, thetas, n, m, indices)\n",
    "  A = get_A(U, n, m)\n",
    "\n",
    "  fidelity = get_fidelity(A, At)\n",
    "  success = get_success(A)\n",
    "  distance = get_dist(A, At)\n",
    "  \n",
    "  #loss =  get_dist(A, At)\n",
    "  loss = (fidelity - 1) ** 2 + 1e-5 * (success - 1) ** 2\n",
    "  #print(step, loss.item())\n",
    "  if step % 50 == 0 : print(step, fidelity.item(), success.item(), distance.item())\n",
    "\n",
    "  optimizer.zero_grad()\n",
    "  loss.backward()\n",
    "  optimizer.step()\n",
    "\n",
    "print(\"Optimized phases:\", phases.detach().numpy() % (2 * np.pi) - np.pi)\n",
    "print(\"Optimized thetas:\", thetas.detach().numpy() % (2 * np.pi) - np.pi)\n",
    "print(\"Fidelity:\", fidelity.item())\n",
    "print(\"Success:\", success.item())"
   ]
  },
  {
   "cell_type": "code",
   "execution_count": 619,
   "metadata": {},
   "outputs": [
    {
     "data": {
      "text/plain": [
       "tensor(1.0000, dtype=torch.float64, grad_fn=<SelectBackward0>)"
      ]
     },
     "execution_count": 619,
     "metadata": {},
     "output_type": "execute_result"
    }
   ],
   "source": [
    "get_fidelity(A, At)"
   ]
  },
  {
   "cell_type": "markdown",
   "metadata": {},
   "source": [
    "Optimized phases: [ 3.14159265e+00 -3.55271368e-15  3.55271368e-15]\n",
    "Optimized thetas: [-2.11327576 -0.38009807  1.26824939  0.98771758 -0.16621758  2.10052575\n",
    "  0.77861283  3.05156843 -2.49794873 -0.61153585]\n",
    "Fidelity: 0.9999999468929395\n",
    "Success: 0.0038549096438747913"
   ]
  },
  {
   "cell_type": "code",
   "execution_count": null,
   "metadata": {},
   "outputs": [],
   "source": []
  }
 ],
 "metadata": {
  "kernelspec": {
   "display_name": "mqst_env",
   "language": "python",
   "name": "python3"
  },
  "language_info": {
   "codemirror_mode": {
    "name": "ipython",
    "version": 3
   },
   "file_extension": ".py",
   "mimetype": "text/x-python",
   "name": "python",
   "nbconvert_exporter": "python",
   "pygments_lexer": "ipython3",
   "version": "3.7.13"
  }
 },
 "nbformat": 4,
 "nbformat_minor": 2
}

{
 "cells": [
  {
   "cell_type": "code",
   "execution_count": 10,
   "metadata": {},
   "outputs": [],
   "source": [
    "### imports\n",
    "\n",
    "import numpy as np\n",
    "from functools import reduce\n",
    "import torch\n",
    "import matplotlib.pyplot as plt"
   ]
  },
  {
   "cell_type": "code",
   "execution_count": 11,
   "metadata": {},
   "outputs": [],
   "source": [
    "### Classical Helper Functions ###\n",
    "\n",
    "\n",
    "def permutations(arr):\n",
    "    if not arr:\n",
    "        return [[]]\n",
    "    res = []\n",
    "    for i in range(len(arr)):\n",
    "        curr = arr[i]\n",
    "        others = arr[:i] + arr[i + 1 :]\n",
    "        for permutation in permutations(others):\n",
    "            res.append([curr] + permutation)\n",
    "    return res\n",
    "\n",
    "\n",
    "def add(a, b):\n",
    "    return a + b\n",
    "\n",
    "\n",
    "def mult(a, b):\n",
    "    return a * b\n",
    "\n",
    "\n",
    "def int_to_bitarray(input, n):\n",
    "    return [int(bit) for bit in bin(input)[2:].zfill(n)]"
   ]
  },
  {
   "cell_type": "code",
   "execution_count": 12,
   "metadata": {},
   "outputs": [],
   "source": [
    "indices = [\n",
    "    [0, 1],\n",
    "    [2, 3],\n",
    "    [4, 5],\n",
    "    [1, 2],\n",
    "    [3, 4],\n",
    "    [0, 1],\n",
    "    [2, 3],\n",
    "    [4, 5],\n",
    "    [1, 2],\n",
    "    [3, 4],\n",
    "]\n",
    "n = 3\n",
    "m = 3\n",
    "\n",
    "At = torch.zeros((8, 8), dtype=torch.complex128)\n",
    "for i in range(7):\n",
    "    At[i, i] = 1\n",
    "At[7, 7] = -1"
   ]
  },
  {
   "cell_type": "code",
   "execution_count": 13,
   "metadata": {},
   "outputs": [],
   "source": [
    "### Neural Network Helper Functions ###\n",
    "\n",
    "\n",
    "# This function returns an NxN matrix representing an Hadamard (Rx, actually, in this case)\n",
    "# applied to the i-th and j-th modes.\n",
    "def hadamard(param, i, j, N):\n",
    "    res = torch.zeros((N, N), dtype=torch.complex128)\n",
    "    for k in range(N):\n",
    "        for l in range(N):\n",
    "            if k == i and l == i:\n",
    "                res[k, l] = torch.cos(param / 2)\n",
    "            elif k == i and l == j:\n",
    "                res[k, l] = 1j * torch.sin(param / 2)\n",
    "            elif k == j and l == i:\n",
    "                res[k, l] = 1j * torch.sin(param / 2)\n",
    "            elif k == j and l == j:\n",
    "                res[k, l] = torch.cos(param / 2)\n",
    "            elif k == l:\n",
    "                res[k, l] = 1\n",
    "    return res\n",
    "\n",
    "\n",
    "# This function takes a list of phases for n+m modes and applies each phase to each mode\n",
    "# and then takes a list of thetas and applies Rx(theta) to the modes identified by the corresponding\n",
    "# element of \"indices\". All of this is multiplied using matrix products to return a single unitary U\n",
    "def get_U(phases, thetas, n, m, indices):\n",
    "    U0 = torch.zeros((n + m, n + m), dtype=torch.complex128)\n",
    "    for i in range(n + m):\n",
    "        U0[i, i] = torch.exp(1j * phases[i])\n",
    "    matrices = [hadamard(param, i[0], i[1], n + m) for param, i in zip(thetas, indices)]\n",
    "    U = reduce(lambda x, y: torch.matmul(y, x), matrices, U0)\n",
    "    return U\n",
    "\n",
    "\n",
    "# This function implements the conversion from the unitary matrix U to the\n",
    "# desired matrix where the m auxiliary modes are all in fock state |1>\n",
    "# Implementation is based on Uskov et. al. (2009)\n",
    "def get_A(U, n, m):\n",
    "    A = torch.zeros((2**n, 2**n), dtype=torch.complex128)\n",
    "    for row in range(2**n):\n",
    "        row_bits = int_to_bitarray(row, n)\n",
    "        for col in range(2**n):\n",
    "            col_bits = int_to_bitarray(col, n)\n",
    "            if sum(row_bits) == sum(col_bits):\n",
    "                in_indices = [i for i, val in enumerate(col_bits) if val] + list(\n",
    "                    range(n, n + m)\n",
    "                )\n",
    "                out_indices = [o for o, val in enumerate(row_bits) if val] + list(\n",
    "                    range(n, n + m)\n",
    "                )\n",
    "                A[row, col] = reduce(\n",
    "                    torch.add,\n",
    "                    [\n",
    "                        reduce(\n",
    "                            torch.multiply, [U[i, j] for i, j in zip(in_indices, oi)]\n",
    "                        )\n",
    "                        for oi in permutations(out_indices)\n",
    "                    ],\n",
    "                )\n",
    "    return A\n",
    "\n",
    "\n",
    "# Get the fidelity based on Uskov et. al. (2009)\n",
    "def get_fidelity(A, At):\n",
    "    B = A / A[0, 0]\n",
    "    numer = torch.trace(B.conj() @ At) * torch.trace(At.conj() @ B)\n",
    "    denom = torch.trace(B.conj() @ B) * torch.trace(At.conj() @ At)\n",
    "    fidelity = numer / denom\n",
    "    return fidelity.real\n",
    "\n",
    "\n",
    "# Alternative distance function to use as a loss function.\n",
    "def get_dist(A, At):\n",
    "    B = A / A[0, 0]\n",
    "    return torch.sum(torch.square(torch.abs(B - At)))\n",
    "\n",
    "\n",
    "# The performance of the CCZ\n",
    "def get_success(A):\n",
    "    return A[0, 0].real ** 2"
   ]
  },
  {
   "cell_type": "code",
   "execution_count": 14,
   "metadata": {},
   "outputs": [],
   "source": [
    "### Neural Network Optimization Function ###\n",
    "\n",
    "\n",
    "# neural network optimization with for any gate\n",
    "# with n input modes and m auxiliary modes with an array of indices representing\n",
    "# parametrized Rx(theta) gates. We perform nsteps steps for a gradient descent of this\n",
    "# theoretically accurate neural network model.\n",
    "def neural_network_optimization(\n",
    "    n, m, indices, generator, nsteps, _get_loss, _get_fidelity, printing=True\n",
    "):\n",
    "\n",
    "    phases = (\n",
    "        2 * torch.pi * torch.rand(n + m, generator=generator, dtype=torch.float64)\n",
    "        - torch.pi\n",
    "    )\n",
    "    thetas = (\n",
    "        2\n",
    "        * torch.pi\n",
    "        * torch.rand(len(indices), generator=generator, dtype=torch.float64)\n",
    "        - torch.pi\n",
    "    )\n",
    "    for param in [phases, thetas]:\n",
    "        param.requires_grad = True\n",
    "\n",
    "    optimizer = torch.optim.SGD([phases, thetas], 0.025)\n",
    "\n",
    "    fidelities = []\n",
    "    losses = []\n",
    "    successes = []\n",
    "\n",
    "    for step in range(nsteps):\n",
    "\n",
    "        U = get_U(phases, thetas, n, m, indices)\n",
    "        A = get_A(U, n, m)\n",
    "\n",
    "        loss = _get_loss(A)\n",
    "        losses.append(loss.item())\n",
    "\n",
    "        fidelity = _get_fidelity(A)\n",
    "        fidelities.append(fidelity.item())\n",
    "\n",
    "        success = get_success(A)\n",
    "        successes.append(success.item())\n",
    "\n",
    "        if printing:\n",
    "            print(step, loss.item(), fidelity.item(), get_success(A).item())\n",
    "\n",
    "        optimizer.zero_grad()\n",
    "        loss.backward()\n",
    "        optimizer.step()\n",
    "\n",
    "    print(\"Optimized phases:\", phases.detach().numpy() % (2 * np.pi) - np.pi)\n",
    "    print(\"Optimized thetas:\", thetas.detach().numpy() % (2 * np.pi) - np.pi)\n",
    "    print(\"Fidelity: \", fidelity.item())\n",
    "    print(\"Success: \", success.item())\n",
    "\n",
    "    return phases, thetas, A, fidelities, successes, losses"
   ]
  },
  {
   "cell_type": "code",
   "execution_count": 15,
   "metadata": {},
   "outputs": [
    {
     "name": "stdout",
     "output_type": "stream",
     "text": [
      "CZ gate optimizations: reproducing the results from the paper...\n",
      "Optimized phases: [-3.55271368e-15  3.55271368e-15 -2.79388352e+00  2.75951385e+00]\n",
      "Optimized thetas: [-1.23595969  1.23595969 -1.21052558 -2.52096725]\n",
      "Fidelity:  0.9999946168246274\n",
      "Success:  0.07449044265175285\n"
     ]
    }
   ],
   "source": [
    "# Get the parameters for the CZ gate on two data modes and 2 auxiliary modes\n",
    "\n",
    "g = torch.Generator().manual_seed(3141592653 + 10)\n",
    "\n",
    "n, m = 2, 2\n",
    "indices = [[0, 2], [1, 3], [0, 1], [2, 3]]\n",
    "steps = 5000\n",
    "At = torch.tensor(\n",
    "    [[1, 0, 0, 0], [0, 1, 0, 0], [0, 0, 1, 0], [0, 0, 0, -1]], dtype=torch.complex128\n",
    ")\n",
    "\n",
    "print(\"CZ gate optimizations: reproducing the results from the paper...\")\n",
    "\n",
    "phases, thetas, A, fidelities, successes, losses = neural_network_optimization(\n",
    "    n,\n",
    "    m,\n",
    "    indices,\n",
    "    g,\n",
    "    steps,\n",
    "    lambda A: get_dist(A, At) - 0.1 * get_success(A),\n",
    "    lambda A: get_fidelity(A, At),\n",
    "    printing=False,\n",
    ")"
   ]
  },
  {
   "cell_type": "code",
   "execution_count": 16,
   "metadata": {},
   "outputs": [
    {
     "data": {
      "text/plain": [
       "Text(0.5, 1.0, 'Fidelity of CZ gate optimization vs. Num backpropagation steps.')"
      ]
     },
     "execution_count": 16,
     "metadata": {},
     "output_type": "execute_result"
    },
    {
     "data": {
      "image/png": "[encoded data removed]",
      "text/plain": [
       "<Figure size 640x480 with 1 Axes>"
      ]
     },
     "metadata": {},
     "output_type": "display_data"
    }
   ],
   "source": [
    "plt.scatter(range(1, len(fidelities) + 1), fidelities)\n",
    "plt.xscale(\"log\")\n",
    "plt.yscale(\"log\")\n",
    "plt.xlabel(\"Log Steps\")\n",
    "plt.ylabel(\"Log Fidelity\")\n",
    "plt.title(\"Fidelity of CZ gate optimization vs. Num backpropagation steps.\")"
   ]
  },
  {
   "cell_type": "code",
   "execution_count": 17,
   "metadata": {},
   "outputs": [
    {
     "data": {
      "text/plain": [
       "Text(0.5, 1.0, 'Performance of CZ gate optimization vs. Num backpropagation steps.')"
      ]
     },
     "execution_count": 17,
     "metadata": {},
     "output_type": "execute_result"
    },
    {
     "data": {
      "image/png": "[encoded data removed]",
      "text/plain": [
       "<Figure size 640x480 with 1 Axes>"
      ]
     },
     "metadata": {},
     "output_type": "display_data"
    }
   ],
   "source": [
    "plt.scatter(range(1, len(successes) + 1), successes)\n",
    "plt.xscale(\"log\")\n",
    "plt.yscale(\"log\")\n",
    "plt.xlabel(\"Log Steps\")\n",
    "plt.ylabel(\"Log Success (Performance)\")\n",
    "plt.title(\"Performance of CZ gate optimization vs. Num backpropagation steps.\")"
   ]
  },
  {
   "cell_type": "code",
   "execution_count": 18,
   "metadata": {},
   "outputs": [
    {
     "name": "stdout",
     "output_type": "stream",
     "text": [
      "CCZ gate optimizations: reproducing the results from the paper...\n",
      "Optimized phases: [ 2.16070423  1.39484406 -2.31018444  2.28104926 -0.47273465  1.88887472]\n",
      "Optimized thetas: [ 2.98692581 -1.4810454   2.87106823  2.95903443 -1.6391433  -1.84388203\n",
      "  2.87337205 -3.06822141  2.29771258  1.22874777 -0.20902587  0.23590594]\n",
      "Fidelity:  0.8321023420655322\n",
      "Success:  0.08786061092728603\n"
     ]
    }
   ],
   "source": [
    "# Get the parameters for the CCZ gate on 3 data modes and 3 auxiliary modes\n",
    "\n",
    "g = torch.Generator().manual_seed(3141592653 + 10)\n",
    "\n",
    "n, m = 3, 3\n",
    "indices = [\n",
    "    [2, 3],\n",
    "    [2, 4],\n",
    "    [2, 5],\n",
    "    [1, 3],\n",
    "    [1, 4],\n",
    "    [1, 5],\n",
    "    [0, 3],\n",
    "    [0, 4],\n",
    "    [0, 5],\n",
    "    [0, 1],\n",
    "    [1, 2],\n",
    "    [0, 2],\n",
    "]\n",
    "\n",
    "steps = 100\n",
    "\n",
    "At = torch.zeros((8, 8), dtype=torch.complex128)\n",
    "for i in range(7):\n",
    "    At[i, i] = 1\n",
    "At[7, 7] = -1\n",
    "\n",
    "print(\"CCZ gate optimizations: reproducing the results from the paper...\")\n",
    "\n",
    "phases, thetas, A, fidelities, successes, losses = neural_network_optimization(\n",
    "    n,\n",
    "    m,\n",
    "    indices,\n",
    "    g,\n",
    "    steps,\n",
    "    lambda A: get_dist(A, At),\n",
    "    lambda A: get_fidelity(A, At),\n",
    "    printing=False,\n",
    ")"
   ]
  }
 ],
 "metadata": {
  "kernelspec": {
   "display_name": "mqst_env",
   "language": "python",
   "name": "python3"
  },
  "language_info": {
   "codemirror_mode": {
    "name": "ipython",
    "version": 3
   },
   "file_extension": ".py",
   "mimetype": "text/x-python",
   "name": "python",
   "nbconvert_exporter": "python",
   "pygments_lexer": "ipython3",
   "version": "3.10.1"
  }
 },
 "nbformat": 4,
 "nbformat_minor": 2
}
